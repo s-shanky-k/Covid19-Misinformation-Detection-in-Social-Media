{
 "cells": [
  {
   "cell_type": "markdown",
   "id": "dc68eff2",
   "metadata": {
    "papermill": {
     "duration": 0.037765,
     "end_time": "2022-03-20T07:18:08.547393",
     "exception": false,
     "start_time": "2022-03-20T07:18:08.509628",
     "status": "completed"
    },
    "tags": []
   },
   "source": [
    "# Installing Packages and Dependencies"
   ]
  },
  {
   "cell_type": "code",
   "execution_count": 1,
   "id": "80d1d863",
   "metadata": {
    "execution": {
     "iopub.execute_input": "2022-03-20T07:18:08.646462Z",
     "iopub.status.busy": "2022-03-20T07:18:08.645694Z",
     "iopub.status.idle": "2022-03-20T07:21:16.552376Z",
     "shell.execute_reply": "2022-03-20T07:21:16.552820Z",
     "shell.execute_reply.started": "2022-03-19T16:55:03.967881Z"
    },
    "papermill": {
     "duration": 187.967101,
     "end_time": "2022-03-20T07:21:16.553126",
     "exception": false,
     "start_time": "2022-03-20T07:18:08.586025",
     "status": "completed"
    },
    "tags": []
   },
   "outputs": [
    {
     "name": "stdout",
     "output_type": "stream",
     "text": [
      "Collecting tensorflow-text==2.4.2\r\n",
      "  Downloading tensorflow_text-2.4.2-cp37-cp37m-manylinux1_x86_64.whl (3.4 MB)\r\n",
      "     |████████████████████████████████| 3.4 MB 606 kB/s            \r\n",
      "\u001b[?25hCollecting tensorflow<2.5,>=2.4.0\r\n",
      "  Downloading tensorflow-2.4.4-cp37-cp37m-manylinux2010_x86_64.whl (394.5 MB)\r\n",
      "     |████████████████████████████████| 394.5 MB 35 kB/s              \r\n",
      "\u001b[?25hRequirement already satisfied: tensorflow-hub>=0.8.0 in /opt/conda/lib/python3.7/site-packages (from tensorflow-text==2.4.2) (0.12.0)\r\n",
      "Collecting gast==0.3.3\r\n",
      "  Downloading gast-0.3.3-py2.py3-none-any.whl (9.7 kB)\r\n",
      "Collecting grpcio~=1.32.0\r\n",
      "  Downloading grpcio-1.32.0-cp37-cp37m-manylinux2014_x86_64.whl (3.8 MB)\r\n",
      "     |████████████████████████████████| 3.8 MB 44.0 MB/s            \r\n",
      "\u001b[?25hRequirement already satisfied: keras-preprocessing~=1.1.2 in /opt/conda/lib/python3.7/site-packages (from tensorflow<2.5,>=2.4.0->tensorflow-text==2.4.2) (1.1.2)\r\n",
      "Requirement already satisfied: google-pasta~=0.2 in /opt/conda/lib/python3.7/site-packages (from tensorflow<2.5,>=2.4.0->tensorflow-text==2.4.2) (0.2.0)\r\n",
      "Collecting six~=1.15.0\r\n",
      "  Downloading six-1.15.0-py2.py3-none-any.whl (10 kB)\r\n",
      "Collecting tensorflow-estimator<2.5.0,>=2.4.0\r\n",
      "  Downloading tensorflow_estimator-2.4.0-py2.py3-none-any.whl (462 kB)\r\n",
      "     |████████████████████████████████| 462 kB 44.3 MB/s            \r\n",
      "\u001b[?25hRequirement already satisfied: protobuf>=3.9.2 in /opt/conda/lib/python3.7/site-packages (from tensorflow<2.5,>=2.4.0->tensorflow-text==2.4.2) (3.19.1)\r\n",
      "Requirement already satisfied: numpy~=1.19.2 in /opt/conda/lib/python3.7/site-packages (from tensorflow<2.5,>=2.4.0->tensorflow-text==2.4.2) (1.19.5)\r\n",
      "Requirement already satisfied: termcolor~=1.1.0 in /opt/conda/lib/python3.7/site-packages (from tensorflow<2.5,>=2.4.0->tensorflow-text==2.4.2) (1.1.0)\r\n",
      "Requirement already satisfied: opt-einsum~=3.3.0 in /opt/conda/lib/python3.7/site-packages (from tensorflow<2.5,>=2.4.0->tensorflow-text==2.4.2) (3.3.0)\r\n",
      "Requirement already satisfied: wheel~=0.35 in /opt/conda/lib/python3.7/site-packages (from tensorflow<2.5,>=2.4.0->tensorflow-text==2.4.2) (0.37.0)\r\n",
      "Requirement already satisfied: tensorboard~=2.4 in /opt/conda/lib/python3.7/site-packages (from tensorflow<2.5,>=2.4.0->tensorflow-text==2.4.2) (2.6.0)\r\n",
      "Collecting typing-extensions~=3.7.4\r\n",
      "  Downloading typing_extensions-3.7.4.3-py3-none-any.whl (22 kB)\r\n",
      "Requirement already satisfied: absl-py~=0.10 in /opt/conda/lib/python3.7/site-packages (from tensorflow<2.5,>=2.4.0->tensorflow-text==2.4.2) (0.15.0)\r\n",
      "Collecting h5py~=2.10.0\r\n",
      "  Downloading h5py-2.10.0-cp37-cp37m-manylinux1_x86_64.whl (2.9 MB)\r\n",
      "     |████████████████████████████████| 2.9 MB 54.9 MB/s            \r\n",
      "\u001b[?25hRequirement already satisfied: flatbuffers~=1.12.0 in /opt/conda/lib/python3.7/site-packages (from tensorflow<2.5,>=2.4.0->tensorflow-text==2.4.2) (1.12)\r\n",
      "Requirement already satisfied: astunparse~=1.6.3 in /opt/conda/lib/python3.7/site-packages (from tensorflow<2.5,>=2.4.0->tensorflow-text==2.4.2) (1.6.3)\r\n",
      "Collecting wrapt~=1.12.1\r\n",
      "  Downloading wrapt-1.12.1.tar.gz (27 kB)\r\n",
      "  Preparing metadata (setup.py) ... \u001b[?25l-\b \bdone\r\n",
      "\u001b[?25hRequirement already satisfied: werkzeug>=0.11.15 in /opt/conda/lib/python3.7/site-packages (from tensorboard~=2.4->tensorflow<2.5,>=2.4.0->tensorflow-text==2.4.2) (2.0.2)\r\n",
      "Requirement already satisfied: setuptools>=41.0.0 in /opt/conda/lib/python3.7/site-packages (from tensorboard~=2.4->tensorflow<2.5,>=2.4.0->tensorflow-text==2.4.2) (59.1.1)\r\n",
      "Requirement already satisfied: google-auth-oauthlib<0.5,>=0.4.1 in /opt/conda/lib/python3.7/site-packages (from tensorboard~=2.4->tensorflow<2.5,>=2.4.0->tensorflow-text==2.4.2) (0.4.6)\r\n",
      "Requirement already satisfied: markdown>=2.6.8 in /opt/conda/lib/python3.7/site-packages (from tensorboard~=2.4->tensorflow<2.5,>=2.4.0->tensorflow-text==2.4.2) (3.3.6)\r\n",
      "Requirement already satisfied: tensorboard-data-server<0.7.0,>=0.6.0 in /opt/conda/lib/python3.7/site-packages (from tensorboard~=2.4->tensorflow<2.5,>=2.4.0->tensorflow-text==2.4.2) (0.6.1)\r\n",
      "Requirement already satisfied: google-auth<2,>=1.6.3 in /opt/conda/lib/python3.7/site-packages (from tensorboard~=2.4->tensorflow<2.5,>=2.4.0->tensorflow-text==2.4.2) (1.35.0)\r\n",
      "Requirement already satisfied: requests<3,>=2.21.0 in /opt/conda/lib/python3.7/site-packages (from tensorboard~=2.4->tensorflow<2.5,>=2.4.0->tensorflow-text==2.4.2) (2.25.1)\r\n",
      "Requirement already satisfied: tensorboard-plugin-wit>=1.6.0 in /opt/conda/lib/python3.7/site-packages (from tensorboard~=2.4->tensorflow<2.5,>=2.4.0->tensorflow-text==2.4.2) (1.8.0)\r\n",
      "Requirement already satisfied: cachetools<5.0,>=2.0.0 in /opt/conda/lib/python3.7/site-packages (from google-auth<2,>=1.6.3->tensorboard~=2.4->tensorflow<2.5,>=2.4.0->tensorflow-text==2.4.2) (4.2.4)\r\n",
      "Requirement already satisfied: rsa<5,>=3.1.4 in /opt/conda/lib/python3.7/site-packages (from google-auth<2,>=1.6.3->tensorboard~=2.4->tensorflow<2.5,>=2.4.0->tensorflow-text==2.4.2) (4.7.2)\r\n",
      "Requirement already satisfied: pyasn1-modules>=0.2.1 in /opt/conda/lib/python3.7/site-packages (from google-auth<2,>=1.6.3->tensorboard~=2.4->tensorflow<2.5,>=2.4.0->tensorflow-text==2.4.2) (0.2.7)\r\n",
      "Requirement already satisfied: requests-oauthlib>=0.7.0 in /opt/conda/lib/python3.7/site-packages (from google-auth-oauthlib<0.5,>=0.4.1->tensorboard~=2.4->tensorflow<2.5,>=2.4.0->tensorflow-text==2.4.2) (1.3.0)\r\n",
      "Requirement already satisfied: importlib-metadata>=4.4 in /opt/conda/lib/python3.7/site-packages (from markdown>=2.6.8->tensorboard~=2.4->tensorflow<2.5,>=2.4.0->tensorflow-text==2.4.2) (4.8.2)\r\n",
      "Requirement already satisfied: certifi>=2017.4.17 in /opt/conda/lib/python3.7/site-packages (from requests<3,>=2.21.0->tensorboard~=2.4->tensorflow<2.5,>=2.4.0->tensorflow-text==2.4.2) (2021.10.8)\r\n",
      "Requirement already satisfied: idna<3,>=2.5 in /opt/conda/lib/python3.7/site-packages (from requests<3,>=2.21.0->tensorboard~=2.4->tensorflow<2.5,>=2.4.0->tensorflow-text==2.4.2) (2.10)\r\n",
      "Requirement already satisfied: chardet<5,>=3.0.2 in /opt/conda/lib/python3.7/site-packages (from requests<3,>=2.21.0->tensorboard~=2.4->tensorflow<2.5,>=2.4.0->tensorflow-text==2.4.2) (4.0.0)\r\n",
      "Requirement already satisfied: urllib3<1.27,>=1.21.1 in /opt/conda/lib/python3.7/site-packages (from requests<3,>=2.21.0->tensorboard~=2.4->tensorflow<2.5,>=2.4.0->tensorflow-text==2.4.2) (1.26.7)\r\n",
      "Requirement already satisfied: zipp>=0.5 in /opt/conda/lib/python3.7/site-packages (from importlib-metadata>=4.4->markdown>=2.6.8->tensorboard~=2.4->tensorflow<2.5,>=2.4.0->tensorflow-text==2.4.2) (3.6.0)\r\n",
      "Requirement already satisfied: pyasn1<0.5.0,>=0.4.6 in /opt/conda/lib/python3.7/site-packages (from pyasn1-modules>=0.2.1->google-auth<2,>=1.6.3->tensorboard~=2.4->tensorflow<2.5,>=2.4.0->tensorflow-text==2.4.2) (0.4.8)\r\n",
      "Requirement already satisfied: oauthlib>=3.0.0 in /opt/conda/lib/python3.7/site-packages (from requests-oauthlib>=0.7.0->google-auth-oauthlib<0.5,>=0.4.1->tensorboard~=2.4->tensorflow<2.5,>=2.4.0->tensorflow-text==2.4.2) (3.1.1)\r\n",
      "Building wheels for collected packages: wrapt\r\n",
      "  Building wheel for wrapt (setup.py) ... \u001b[?25l-\b \b\\\b \b|\b \bdone\r\n",
      "\u001b[?25h  Created wheel for wrapt: filename=wrapt-1.12.1-cp37-cp37m-linux_x86_64.whl size=77046 sha256=cbaf3f8a64c73453f4a54b4e5af5b168930e72a9bf22e6e42f897eadb3cae774\r\n",
      "  Stored in directory: /root/.cache/pip/wheels/62/76/4c/aa25851149f3f6d9785f6c869387ad82b3fd37582fa8147ac6\r\n",
      "Successfully built wrapt\r\n",
      "Installing collected packages: typing-extensions, six, grpcio, wrapt, tensorflow-estimator, h5py, gast, tensorflow, tensorflow-text\r\n",
      "  Attempting uninstall: typing-extensions\r\n",
      "    Found existing installation: typing-extensions 3.10.0.2\r\n",
      "    Uninstalling typing-extensions-3.10.0.2:\r\n",
      "      Successfully uninstalled typing-extensions-3.10.0.2\r\n",
      "  Attempting uninstall: six\r\n",
      "    Found existing installation: six 1.16.0\r\n",
      "    Uninstalling six-1.16.0:\r\n",
      "      Successfully uninstalled six-1.16.0\r\n",
      "  Attempting uninstall: grpcio\r\n",
      "    Found existing installation: grpcio 1.42.0\r\n",
      "    Uninstalling grpcio-1.42.0:\r\n",
      "      Successfully uninstalled grpcio-1.42.0\r\n",
      "  Attempting uninstall: wrapt\r\n",
      "    Found existing installation: wrapt 1.13.3\r\n",
      "    Uninstalling wrapt-1.13.3:\r\n",
      "      Successfully uninstalled wrapt-1.13.3\r\n",
      "  Attempting uninstall: tensorflow-estimator\r\n",
      "    Found existing installation: tensorflow-estimator 2.6.0\r\n",
      "    Uninstalling tensorflow-estimator-2.6.0:\r\n",
      "      Successfully uninstalled tensorflow-estimator-2.6.0\r\n",
      "  Attempting uninstall: h5py\r\n",
      "    Found existing installation: h5py 3.1.0\r\n",
      "    Uninstalling h5py-3.1.0:\r\n",
      "      Successfully uninstalled h5py-3.1.0\r\n",
      "  Attempting uninstall: gast\r\n",
      "    Found existing installation: gast 0.4.0\r\n",
      "    Uninstalling gast-0.4.0:\r\n",
      "      Successfully uninstalled gast-0.4.0\r\n",
      "  Attempting uninstall: tensorflow\r\n",
      "    Found existing installation: tensorflow 2.6.2\r\n",
      "    Uninstalling tensorflow-2.6.2:\r\n",
      "      Successfully uninstalled tensorflow-2.6.2\r\n",
      "\u001b[31mERROR: pip's dependency resolver does not currently take into account all the packages that are installed. This behaviour is the source of the following dependency conflicts.\r\n",
      "tensorflow-io 0.21.0 requires tensorflow-io-gcs-filesystem==0.21.0, which is not installed.\r\n",
      "explainable-ai-sdk 1.3.2 requires xai-image-widget, which is not installed.\r\n",
      "dask-cudf 21.10.1 requires cupy-cuda114, which is not installed.\r\n",
      "cudf 21.10.1 requires cupy-cuda110, which is not installed.\r\n",
      "beatrix-jupyterlab 3.1.4 requires google-cloud-bigquery-storage, which is not installed.\r\n",
      "tfx-bsl 1.4.0 requires absl-py<0.13,>=0.9, but you have absl-py 0.15.0 which is incompatible.\r\n",
      "tfx-bsl 1.4.0 requires pyarrow<6,>=1, but you have pyarrow 6.0.0 which is incompatible.\r\n",
      "tfx-bsl 1.4.0 requires tensorflow!=2.0.*,!=2.1.*,!=2.2.*,!=2.3.*,!=2.4.*,!=2.5.*,<3,>=1.15.2, but you have tensorflow 2.4.4 which is incompatible.\r\n",
      "tensorflow-transform 1.4.0 requires absl-py<0.13,>=0.9, but you have absl-py 0.15.0 which is incompatible.\r\n",
      "tensorflow-transform 1.4.0 requires pyarrow<6,>=1, but you have pyarrow 6.0.0 which is incompatible.\r\n",
      "tensorflow-transform 1.4.0 requires tensorflow!=2.0.*,!=2.1.*,!=2.2.*,!=2.3.*,!=2.4.*,!=2.5.*,<2.7,>=1.15.2, but you have tensorflow 2.4.4 which is incompatible.\r\n",
      "tensorflow-serving-api 2.6.1 requires tensorflow<3,>=2.6.1, but you have tensorflow 2.4.4 which is incompatible.\r\n",
      "tensorflow-io 0.21.0 requires tensorflow<2.7.0,>=2.6.0, but you have tensorflow 2.4.4 which is incompatible.\r\n",
      "optax 0.1.0 requires typing-extensions~=3.10.0, but you have typing-extensions 3.7.4.3 which is incompatible.\r\n",
      "grpcio-status 1.42.0 requires grpcio>=1.42.0, but you have grpcio 1.32.0 which is incompatible.\r\n",
      "gcsfs 2021.11.0 requires fsspec==2021.11.0, but you have fsspec 2021.11.1 which is incompatible.\r\n",
      "flake8 4.0.1 requires importlib-metadata<4.3; python_version < \"3.8\", but you have importlib-metadata 4.8.2 which is incompatible.\r\n",
      "dask-cudf 21.10.1 requires dask==2021.09.1, but you have dask 2021.11.2 which is incompatible.\r\n",
      "dask-cudf 21.10.1 requires distributed==2021.09.1, but you have distributed 2021.11.2 which is incompatible.\r\n",
      "bokeh 2.4.2 requires typing-extensions>=3.10.0, but you have typing-extensions 3.7.4.3 which is incompatible.\r\n",
      "black 21.10b0 requires typing-extensions>=3.10.0.0, but you have typing-extensions 3.7.4.3 which is incompatible.\r\n",
      "apache-beam 2.34.0 requires dill<0.3.2,>=0.3.1.1, but you have dill 0.3.4 which is incompatible.\r\n",
      "apache-beam 2.34.0 requires httplib2<0.20.0,>=0.8, but you have httplib2 0.20.2 which is incompatible.\r\n",
      "apache-beam 2.34.0 requires pyarrow<6.0.0,>=0.15.1, but you have pyarrow 6.0.0 which is incompatible.\r\n",
      "aiobotocore 2.0.1 requires botocore<1.22.9,>=1.22.8, but you have botocore 1.23.15 which is incompatible.\u001b[0m\r\n",
      "Successfully installed gast-0.3.3 grpcio-1.32.0 h5py-2.10.0 six-1.15.0 tensorflow-2.4.4 tensorflow-estimator-2.4.0 tensorflow-text-2.4.2 typing-extensions-3.7.4.3 wrapt-1.12.1\r\n",
      "\u001b[33mWARNING: Running pip as the 'root' user can result in broken permissions and conflicting behaviour with the system package manager. It is recommended to use a virtual environment instead: https://pip.pypa.io/warnings/venv\u001b[0m\r\n",
      "Collecting tf-models-official==2.4\r\n",
      "  Downloading tf_models_official-2.4.0-py2.py3-none-any.whl (1.1 MB)\r\n",
      "     |████████████████████████████████| 1.1 MB 594 kB/s            \r\n",
      "\u001b[?25hCollecting tensorflow-model-optimization>=0.4.1\r\n",
      "  Downloading tensorflow_model_optimization-0.7.2-py2.py3-none-any.whl (237 kB)\r\n",
      "     |████████████████████████████████| 237 kB 26.8 MB/s            \r\n",
      "\u001b[?25hRequirement already satisfied: pyyaml>=5.1 in /opt/conda/lib/python3.7/site-packages (from tf-models-official==2.4) (6.0)\r\n",
      "Requirement already satisfied: tensorflow-datasets in /opt/conda/lib/python3.7/site-packages (from tf-models-official==2.4) (4.3.0)\r\n",
      "Requirement already satisfied: dataclasses in /opt/conda/lib/python3.7/site-packages (from tf-models-official==2.4) (0.8)\r\n",
      "Requirement already satisfied: six in /opt/conda/lib/python3.7/site-packages (from tf-models-official==2.4) (1.15.0)\r\n",
      "Requirement already satisfied: tensorflow>=2.4.0 in /opt/conda/lib/python3.7/site-packages (from tf-models-official==2.4) (2.4.4)\r\n",
      "Requirement already satisfied: oauth2client in /opt/conda/lib/python3.7/site-packages (from tf-models-official==2.4) (4.1.3)\r\n",
      "Requirement already satisfied: psutil>=5.4.3 in /opt/conda/lib/python3.7/site-packages (from tf-models-official==2.4) (5.8.0)\r\n",
      "Collecting gin-config\r\n",
      "  Downloading gin_config-0.5.0-py3-none-any.whl (61 kB)\r\n",
      "     |████████████████████████████████| 61 kB 260 kB/s             \r\n",
      "\u001b[?25hRequirement already satisfied: Cython in /opt/conda/lib/python3.7/site-packages (from tf-models-official==2.4) (0.29.24)\r\n",
      "Requirement already satisfied: numpy>=1.15.4 in /opt/conda/lib/python3.7/site-packages (from tf-models-official==2.4) (1.19.5)\r\n",
      "Collecting seqeval\r\n",
      "  Downloading seqeval-1.2.2.tar.gz (43 kB)\r\n",
      "     |████████████████████████████████| 43 kB 30 kB/s              \r\n",
      "\u001b[?25h  Preparing metadata (setup.py) ... \u001b[?25l-\b \bdone\r\n",
      "\u001b[?25hRequirement already satisfied: tensorflow-hub>=0.6.0 in /opt/conda/lib/python3.7/site-packages (from tf-models-official==2.4) (0.12.0)\r\n",
      "Requirement already satisfied: scipy>=0.19.1 in /opt/conda/lib/python3.7/site-packages (from tf-models-official==2.4) (1.7.2)\r\n",
      "Requirement already satisfied: opencv-python-headless in /opt/conda/lib/python3.7/site-packages (from tf-models-official==2.4) (4.5.4.60)\r\n",
      "Collecting tf-slim>=1.1.0\r\n",
      "  Downloading tf_slim-1.1.0-py2.py3-none-any.whl (352 kB)\r\n",
      "     |████████████████████████████████| 352 kB 28.9 MB/s            \r\n",
      "\u001b[?25hRequirement already satisfied: kaggle>=1.3.9 in /opt/conda/lib/python3.7/site-packages (from tf-models-official==2.4) (1.5.12)\r\n",
      "Requirement already satisfied: sentencepiece in /opt/conda/lib/python3.7/site-packages (from tf-models-official==2.4) (0.1.96)\r\n",
      "Collecting pycocotools\r\n",
      "  Downloading pycocotools-2.0.4.tar.gz (106 kB)\r\n",
      "     |████████████████████████████████| 106 kB 41.8 MB/s            \r\n",
      "\u001b[?25h  Installing build dependencies ... \u001b[?25l-\b \b\\\b \b|\b \b/\b \b-\b \b\\\b \b|\b \b/\b \bdone\r\n",
      "\u001b[?25h  Getting requirements to build wheel ... \u001b[?25l-\b \b\\\b \b|\b \b/\b \bdone\r\n",
      "\u001b[?25h  Preparing metadata (pyproject.toml) ... \u001b[?25l-\b \b\\\b \b|\b \b/\b \bdone\r\n",
      "\u001b[?25hRequirement already satisfied: google-api-python-client>=1.6.7 in /opt/conda/lib/python3.7/site-packages (from tf-models-official==2.4) (1.12.8)\r\n",
      "Collecting py-cpuinfo>=3.3.0\r\n",
      "  Downloading py-cpuinfo-8.0.0.tar.gz (99 kB)\r\n",
      "     |████████████████████████████████| 99 kB 7.9 MB/s             \r\n",
      "\u001b[?25h  Preparing metadata (setup.py) ... \u001b[?25l-\b \bdone\r\n",
      "\u001b[?25hRequirement already satisfied: Pillow in /opt/conda/lib/python3.7/site-packages (from tf-models-official==2.4) (8.2.0)\r\n",
      "Requirement already satisfied: google-cloud-bigquery>=0.31.0 in /opt/conda/lib/python3.7/site-packages (from tf-models-official==2.4) (2.2.0)\r\n",
      "Requirement already satisfied: tensorflow-addons in /opt/conda/lib/python3.7/site-packages (from tf-models-official==2.4) (0.14.0)\r\n",
      "Requirement already satisfied: pandas>=0.22.0 in /opt/conda/lib/python3.7/site-packages (from tf-models-official==2.4) (1.3.4)\r\n",
      "Requirement already satisfied: matplotlib in /opt/conda/lib/python3.7/site-packages (from tf-models-official==2.4) (3.5.0)\r\n",
      "Requirement already satisfied: httplib2<1dev,>=0.15.0 in /opt/conda/lib/python3.7/site-packages (from google-api-python-client>=1.6.7->tf-models-official==2.4) (0.20.2)\r\n",
      "Requirement already satisfied: google-api-core<2dev,>=1.21.0 in /opt/conda/lib/python3.7/site-packages (from google-api-python-client>=1.6.7->tf-models-official==2.4) (1.31.4)\r\n",
      "Requirement already satisfied: google-auth-httplib2>=0.0.3 in /opt/conda/lib/python3.7/site-packages (from google-api-python-client>=1.6.7->tf-models-official==2.4) (0.1.0)\r\n",
      "Requirement already satisfied: google-auth>=1.16.0 in /opt/conda/lib/python3.7/site-packages (from google-api-python-client>=1.6.7->tf-models-official==2.4) (1.35.0)\r\n",
      "Requirement already satisfied: uritemplate<4dev,>=3.0.0 in /opt/conda/lib/python3.7/site-packages (from google-api-python-client>=1.6.7->tf-models-official==2.4) (3.0.1)\r\n",
      "Requirement already satisfied: google-resumable-media<2.0dev,>=0.6.0 in /opt/conda/lib/python3.7/site-packages (from google-cloud-bigquery>=0.31.0->tf-models-official==2.4) (1.3.3)\r\n",
      "Requirement already satisfied: protobuf>=3.12.0 in /opt/conda/lib/python3.7/site-packages (from google-cloud-bigquery>=0.31.0->tf-models-official==2.4) (3.19.1)\r\n",
      "Requirement already satisfied: google-cloud-core<2.0dev,>=1.4.1 in /opt/conda/lib/python3.7/site-packages (from google-cloud-bigquery>=0.31.0->tf-models-official==2.4) (1.7.2)\r\n",
      "Requirement already satisfied: proto-plus>=1.10.0 in /opt/conda/lib/python3.7/site-packages (from google-cloud-bigquery>=0.31.0->tf-models-official==2.4) (1.19.8)\r\n",
      "Requirement already satisfied: certifi in /opt/conda/lib/python3.7/site-packages (from kaggle>=1.3.9->tf-models-official==2.4) (2021.10.8)\r\n",
      "Requirement already satisfied: urllib3 in /opt/conda/lib/python3.7/site-packages (from kaggle>=1.3.9->tf-models-official==2.4) (1.26.7)\r\n",
      "Requirement already satisfied: tqdm in /opt/conda/lib/python3.7/site-packages (from kaggle>=1.3.9->tf-models-official==2.4) (4.62.3)\r\n",
      "Requirement already satisfied: python-dateutil in /opt/conda/lib/python3.7/site-packages (from kaggle>=1.3.9->tf-models-official==2.4) (2.8.0)\r\n",
      "Requirement already satisfied: python-slugify in /opt/conda/lib/python3.7/site-packages (from kaggle>=1.3.9->tf-models-official==2.4) (5.0.2)\r\n",
      "Requirement already satisfied: requests in /opt/conda/lib/python3.7/site-packages (from kaggle>=1.3.9->tf-models-official==2.4) (2.25.1)\r\n",
      "Requirement already satisfied: pytz>=2017.3 in /opt/conda/lib/python3.7/site-packages (from pandas>=0.22.0->tf-models-official==2.4) (2021.3)\r\n",
      "Requirement already satisfied: astunparse~=1.6.3 in /opt/conda/lib/python3.7/site-packages (from tensorflow>=2.4.0->tf-models-official==2.4) (1.6.3)\r\n",
      "Requirement already satisfied: grpcio~=1.32.0 in /opt/conda/lib/python3.7/site-packages (from tensorflow>=2.4.0->tf-models-official==2.4) (1.32.0)\r\n",
      "Requirement already satisfied: h5py~=2.10.0 in /opt/conda/lib/python3.7/site-packages (from tensorflow>=2.4.0->tf-models-official==2.4) (2.10.0)\r\n",
      "Requirement already satisfied: tensorflow-estimator<2.5.0,>=2.4.0 in /opt/conda/lib/python3.7/site-packages (from tensorflow>=2.4.0->tf-models-official==2.4) (2.4.0)\r\n",
      "Requirement already satisfied: wrapt~=1.12.1 in /opt/conda/lib/python3.7/site-packages (from tensorflow>=2.4.0->tf-models-official==2.4) (1.12.1)\r\n",
      "Requirement already satisfied: typing-extensions~=3.7.4 in /opt/conda/lib/python3.7/site-packages (from tensorflow>=2.4.0->tf-models-official==2.4) (3.7.4.3)\r\n",
      "Requirement already satisfied: absl-py~=0.10 in /opt/conda/lib/python3.7/site-packages (from tensorflow>=2.4.0->tf-models-official==2.4) (0.15.0)\r\n",
      "Requirement already satisfied: wheel~=0.35 in /opt/conda/lib/python3.7/site-packages (from tensorflow>=2.4.0->tf-models-official==2.4) (0.37.0)\r\n",
      "Requirement already satisfied: opt-einsum~=3.3.0 in /opt/conda/lib/python3.7/site-packages (from tensorflow>=2.4.0->tf-models-official==2.4) (3.3.0)\r\n",
      "Requirement already satisfied: termcolor~=1.1.0 in /opt/conda/lib/python3.7/site-packages (from tensorflow>=2.4.0->tf-models-official==2.4) (1.1.0)\r\n",
      "Requirement already satisfied: google-pasta~=0.2 in /opt/conda/lib/python3.7/site-packages (from tensorflow>=2.4.0->tf-models-official==2.4) (0.2.0)\r\n",
      "Requirement already satisfied: flatbuffers~=1.12.0 in /opt/conda/lib/python3.7/site-packages (from tensorflow>=2.4.0->tf-models-official==2.4) (1.12)\r\n",
      "Requirement already satisfied: keras-preprocessing~=1.1.2 in /opt/conda/lib/python3.7/site-packages (from tensorflow>=2.4.0->tf-models-official==2.4) (1.1.2)\r\n",
      "Requirement already satisfied: tensorboard~=2.4 in /opt/conda/lib/python3.7/site-packages (from tensorflow>=2.4.0->tf-models-official==2.4) (2.6.0)\r\n",
      "Requirement already satisfied: gast==0.3.3 in /opt/conda/lib/python3.7/site-packages (from tensorflow>=2.4.0->tf-models-official==2.4) (0.3.3)\r\n",
      "Requirement already satisfied: dm-tree~=0.1.1 in /opt/conda/lib/python3.7/site-packages (from tensorflow-model-optimization>=0.4.1->tf-models-official==2.4) (0.1.6)\r\n",
      "Requirement already satisfied: kiwisolver>=1.0.1 in /opt/conda/lib/python3.7/site-packages (from matplotlib->tf-models-official==2.4) (1.3.2)\r\n",
      "Requirement already satisfied: fonttools>=4.22.0 in /opt/conda/lib/python3.7/site-packages (from matplotlib->tf-models-official==2.4) (4.28.2)\r\n",
      "Requirement already satisfied: packaging>=20.0 in /opt/conda/lib/python3.7/site-packages (from matplotlib->tf-models-official==2.4) (21.0)\r\n",
      "Requirement already satisfied: setuptools-scm>=4 in /opt/conda/lib/python3.7/site-packages (from matplotlib->tf-models-official==2.4) (6.3.2)\r\n",
      "Requirement already satisfied: pyparsing>=2.2.1 in /opt/conda/lib/python3.7/site-packages (from matplotlib->tf-models-official==2.4) (3.0.6)\r\n",
      "Requirement already satisfied: cycler>=0.10 in /opt/conda/lib/python3.7/site-packages (from matplotlib->tf-models-official==2.4) (0.11.0)\r\n",
      "Requirement already satisfied: pyasn1-modules>=0.0.5 in /opt/conda/lib/python3.7/site-packages (from oauth2client->tf-models-official==2.4) (0.2.7)\r\n",
      "Requirement already satisfied: pyasn1>=0.1.7 in /opt/conda/lib/python3.7/site-packages (from oauth2client->tf-models-official==2.4) (0.4.8)\r\n",
      "Requirement already satisfied: rsa>=3.1.4 in /opt/conda/lib/python3.7/site-packages (from oauth2client->tf-models-official==2.4) (4.7.2)\r\n",
      "Requirement already satisfied: scikit-learn>=0.21.3 in /opt/conda/lib/python3.7/site-packages (from seqeval->tf-models-official==2.4) (0.23.2)\r\n",
      "Requirement already satisfied: typeguard>=2.7 in /opt/conda/lib/python3.7/site-packages (from tensorflow-addons->tf-models-official==2.4) (2.13.2)\r\n",
      "Requirement already satisfied: tensorflow-metadata in /opt/conda/lib/python3.7/site-packages (from tensorflow-datasets->tf-models-official==2.4) (1.4.0)\r\n",
      "Requirement already satisfied: importlib-resources in /opt/conda/lib/python3.7/site-packages (from tensorflow-datasets->tf-models-official==2.4) (5.4.0)\r\n",
      "Requirement already satisfied: attrs>=18.1.0 in /opt/conda/lib/python3.7/site-packages (from tensorflow-datasets->tf-models-official==2.4) (21.2.0)\r\n",
      "Requirement already satisfied: future in /opt/conda/lib/python3.7/site-packages (from tensorflow-datasets->tf-models-official==2.4) (0.18.2)\r\n",
      "Requirement already satisfied: promise in /opt/conda/lib/python3.7/site-packages (from tensorflow-datasets->tf-models-official==2.4) (2.3)\r\n",
      "Requirement already satisfied: dill in /opt/conda/lib/python3.7/site-packages (from tensorflow-datasets->tf-models-official==2.4) (0.3.4)\r\n",
      "Requirement already satisfied: googleapis-common-protos<2.0dev,>=1.6.0 in /opt/conda/lib/python3.7/site-packages (from google-api-core<2dev,>=1.21.0->google-api-python-client>=1.6.7->tf-models-official==2.4) (1.53.0)\r\n",
      "Requirement already satisfied: setuptools>=40.3.0 in /opt/conda/lib/python3.7/site-packages (from google-api-core<2dev,>=1.21.0->google-api-python-client>=1.6.7->tf-models-official==2.4) (59.1.1)\r\n",
      "Requirement already satisfied: cachetools<5.0,>=2.0.0 in /opt/conda/lib/python3.7/site-packages (from google-auth>=1.16.0->google-api-python-client>=1.6.7->tf-models-official==2.4) (4.2.4)\r\n",
      "Requirement already satisfied: google-crc32c<2.0dev,>=1.0 in /opt/conda/lib/python3.7/site-packages (from google-resumable-media<2.0dev,>=0.6.0->google-cloud-bigquery>=0.31.0->tf-models-official==2.4) (1.1.2)\r\n",
      "Requirement already satisfied: chardet<5,>=3.0.2 in /opt/conda/lib/python3.7/site-packages (from requests->kaggle>=1.3.9->tf-models-official==2.4) (4.0.0)\r\n",
      "Requirement already satisfied: idna<3,>=2.5 in /opt/conda/lib/python3.7/site-packages (from requests->kaggle>=1.3.9->tf-models-official==2.4) (2.10)\r\n",
      "Requirement already satisfied: joblib>=0.11 in /opt/conda/lib/python3.7/site-packages (from scikit-learn>=0.21.3->seqeval->tf-models-official==2.4) (1.1.0)\r\n",
      "Requirement already satisfied: threadpoolctl>=2.0.0 in /opt/conda/lib/python3.7/site-packages (from scikit-learn>=0.21.3->seqeval->tf-models-official==2.4) (3.0.0)\r\n",
      "Requirement already satisfied: tomli>=1.0.0 in /opt/conda/lib/python3.7/site-packages (from setuptools-scm>=4->matplotlib->tf-models-official==2.4) (1.2.2)\r\n",
      "Requirement already satisfied: tensorboard-data-server<0.7.0,>=0.6.0 in /opt/conda/lib/python3.7/site-packages (from tensorboard~=2.4->tensorflow>=2.4.0->tf-models-official==2.4) (0.6.1)\r\n",
      "Requirement already satisfied: google-auth-oauthlib<0.5,>=0.4.1 in /opt/conda/lib/python3.7/site-packages (from tensorboard~=2.4->tensorflow>=2.4.0->tf-models-official==2.4) (0.4.6)\r\n",
      "Requirement already satisfied: markdown>=2.6.8 in /opt/conda/lib/python3.7/site-packages (from tensorboard~=2.4->tensorflow>=2.4.0->tf-models-official==2.4) (3.3.6)\r\n",
      "Requirement already satisfied: werkzeug>=0.11.15 in /opt/conda/lib/python3.7/site-packages (from tensorboard~=2.4->tensorflow>=2.4.0->tf-models-official==2.4) (2.0.2)\r\n",
      "Requirement already satisfied: tensorboard-plugin-wit>=1.6.0 in /opt/conda/lib/python3.7/site-packages (from tensorboard~=2.4->tensorflow>=2.4.0->tf-models-official==2.4) (1.8.0)\r\n",
      "Requirement already satisfied: zipp>=3.1.0 in /opt/conda/lib/python3.7/site-packages (from importlib-resources->tensorflow-datasets->tf-models-official==2.4) (3.6.0)\r\n",
      "Requirement already satisfied: text-unidecode>=1.3 in /opt/conda/lib/python3.7/site-packages (from python-slugify->kaggle>=1.3.9->tf-models-official==2.4) (1.3)\r\n",
      "Collecting absl-py~=0.10\r\n",
      "  Downloading absl_py-0.12.0-py3-none-any.whl (129 kB)\r\n",
      "     |████████████████████████████████| 129 kB 35.9 MB/s            \r\n",
      "\u001b[?25hRequirement already satisfied: requests-oauthlib>=0.7.0 in /opt/conda/lib/python3.7/site-packages (from google-auth-oauthlib<0.5,>=0.4.1->tensorboard~=2.4->tensorflow>=2.4.0->tf-models-official==2.4) (1.3.0)\r\n",
      "Requirement already satisfied: cffi>=1.0.0 in /opt/conda/lib/python3.7/site-packages (from google-crc32c<2.0dev,>=1.0->google-resumable-media<2.0dev,>=0.6.0->google-cloud-bigquery>=0.31.0->tf-models-official==2.4) (1.15.0)\r\n",
      "Requirement already satisfied: importlib-metadata>=4.4 in /opt/conda/lib/python3.7/site-packages (from markdown>=2.6.8->tensorboard~=2.4->tensorflow>=2.4.0->tf-models-official==2.4) (4.8.2)\r\n",
      "Requirement already satisfied: pycparser in /opt/conda/lib/python3.7/site-packages (from cffi>=1.0.0->google-crc32c<2.0dev,>=1.0->google-resumable-media<2.0dev,>=0.6.0->google-cloud-bigquery>=0.31.0->tf-models-official==2.4) (2.21)\r\n",
      "Requirement already satisfied: oauthlib>=3.0.0 in /opt/conda/lib/python3.7/site-packages (from requests-oauthlib>=0.7.0->google-auth-oauthlib<0.5,>=0.4.1->tensorboard~=2.4->tensorflow>=2.4.0->tf-models-official==2.4) (3.1.1)\r\n",
      "Building wheels for collected packages: py-cpuinfo, pycocotools, seqeval\r\n",
      "  Building wheel for py-cpuinfo (setup.py) ... \u001b[?25l-\b \b\\\b \bdone\r\n",
      "\u001b[?25h  Created wheel for py-cpuinfo: filename=py_cpuinfo-8.0.0-py3-none-any.whl size=22258 sha256=4a2e71f720f7fb8445913f87fd4ffeee64c3130512b1f8bce9c5d6ba30504c29\r\n",
      "  Stored in directory: /root/.cache/pip/wheels/d2/f1/1f/041add21dc9c4220157f1bd2bd6afe1f1a49524c3396b94401\r\n",
      "  Building wheel for pycocotools (pyproject.toml) ... \u001b[?25l-\b \b\\\b \b|\b \b/\b \b-\b \b\\\b \b|\b \b/\b \b-\b \b\\\b \b|\b \bdone\r\n",
      "\u001b[?25h  Created wheel for pycocotools: filename=pycocotools-2.0.4-cp37-cp37m-linux_x86_64.whl size=370034 sha256=a4fa174fc794bd7355624f41253c94373131b5cf33c7262c66271bb6bde21a0a\r\n",
      "  Stored in directory: /root/.cache/pip/wheels/a3/5f/fa/f011e578cc76e1fc5be8dce30b3eb9fd00f337e744b3bba59b\r\n",
      "  Building wheel for seqeval (setup.py) ... \u001b[?25l-\b \bdone\r\n",
      "\u001b[?25h  Created wheel for seqeval: filename=seqeval-1.2.2-py3-none-any.whl size=16181 sha256=c89c4e0025c0a8ef7bc69034e23216012d2947ae365284e9c0fa1a04a0f22653\r\n",
      "  Stored in directory: /root/.cache/pip/wheels/05/96/ee/7cac4e74f3b19e3158dce26a20a1c86b3533c43ec72a549fd7\r\n",
      "Successfully built py-cpuinfo pycocotools seqeval\r\n",
      "Installing collected packages: absl-py, tf-slim, tensorflow-model-optimization, seqeval, pycocotools, py-cpuinfo, gin-config, tf-models-official\r\n",
      "  Attempting uninstall: absl-py\r\n",
      "    Found existing installation: absl-py 0.15.0\r\n",
      "    Uninstalling absl-py-0.15.0:\r\n",
      "      Successfully uninstalled absl-py-0.15.0\r\n",
      "\u001b[31mERROR: pip's dependency resolver does not currently take into account all the packages that are installed. This behaviour is the source of the following dependency conflicts.\r\n",
      "tensorflow-io 0.21.0 requires tensorflow-io-gcs-filesystem==0.21.0, which is not installed.\r\n",
      "explainable-ai-sdk 1.3.2 requires xai-image-widget, which is not installed.\r\n",
      "tfx-bsl 1.4.0 requires pyarrow<6,>=1, but you have pyarrow 6.0.0 which is incompatible.\r\n",
      "tfx-bsl 1.4.0 requires tensorflow!=2.0.*,!=2.1.*,!=2.2.*,!=2.3.*,!=2.4.*,!=2.5.*,<3,>=1.15.2, but you have tensorflow 2.4.4 which is incompatible.\r\n",
      "tensorflow-transform 1.4.0 requires pyarrow<6,>=1, but you have pyarrow 6.0.0 which is incompatible.\r\n",
      "tensorflow-transform 1.4.0 requires tensorflow!=2.0.*,!=2.1.*,!=2.2.*,!=2.3.*,!=2.4.*,!=2.5.*,<2.7,>=1.15.2, but you have tensorflow 2.4.4 which is incompatible.\r\n",
      "tensorflow-serving-api 2.6.1 requires tensorflow<3,>=2.6.1, but you have tensorflow 2.4.4 which is incompatible.\r\n",
      "tensorflow-io 0.21.0 requires tensorflow<2.7.0,>=2.6.0, but you have tensorflow 2.4.4 which is incompatible.\r\n",
      "ortools 9.1.9490 requires absl-py>=0.13, but you have absl-py 0.12.0 which is incompatible.\r\n",
      "optax 0.1.0 requires typing-extensions~=3.10.0, but you have typing-extensions 3.7.4.3 which is incompatible.\u001b[0m\r\n",
      "Successfully installed absl-py-0.12.0 gin-config-0.5.0 py-cpuinfo-8.0.0 pycocotools-2.0.4 seqeval-1.2.2 tensorflow-model-optimization-0.7.2 tf-models-official-2.4.0 tf-slim-1.1.0\r\n",
      "\u001b[33mWARNING: Running pip as the 'root' user can result in broken permissions and conflicting behaviour with the system package manager. It is recommended to use a virtual environment instead: https://pip.pypa.io/warnings/venv\u001b[0m\r\n",
      "Collecting tensorflow-gpu==2.4.2\r\n",
      "  Downloading tensorflow_gpu-2.4.2-cp37-cp37m-manylinux2010_x86_64.whl (394.5 MB)\r\n",
      "     |████████████████████████████████| 394.5 MB 27 kB/s              \r\n",
      "\u001b[?25hRequirement already satisfied: termcolor~=1.1.0 in /opt/conda/lib/python3.7/site-packages (from tensorflow-gpu==2.4.2) (1.1.0)\r\n",
      "Requirement already satisfied: google-pasta~=0.2 in /opt/conda/lib/python3.7/site-packages (from tensorflow-gpu==2.4.2) (0.2.0)\r\n",
      "Requirement already satisfied: protobuf>=3.9.2 in /opt/conda/lib/python3.7/site-packages (from tensorflow-gpu==2.4.2) (3.19.1)\r\n",
      "Requirement already satisfied: h5py~=2.10.0 in /opt/conda/lib/python3.7/site-packages (from tensorflow-gpu==2.4.2) (2.10.0)\r\n",
      "Requirement already satisfied: flatbuffers~=1.12.0 in /opt/conda/lib/python3.7/site-packages (from tensorflow-gpu==2.4.2) (1.12)\r\n",
      "Requirement already satisfied: astunparse~=1.6.3 in /opt/conda/lib/python3.7/site-packages (from tensorflow-gpu==2.4.2) (1.6.3)\r\n",
      "Requirement already satisfied: six~=1.15.0 in /opt/conda/lib/python3.7/site-packages (from tensorflow-gpu==2.4.2) (1.15.0)\r\n",
      "Requirement already satisfied: wrapt~=1.12.1 in /opt/conda/lib/python3.7/site-packages (from tensorflow-gpu==2.4.2) (1.12.1)\r\n",
      "Requirement already satisfied: tensorflow-estimator<2.5.0,>=2.4.0 in /opt/conda/lib/python3.7/site-packages (from tensorflow-gpu==2.4.2) (2.4.0)\r\n",
      "Requirement already satisfied: absl-py~=0.10 in /opt/conda/lib/python3.7/site-packages (from tensorflow-gpu==2.4.2) (0.12.0)\r\n",
      "Requirement already satisfied: tensorboard~=2.4 in /opt/conda/lib/python3.7/site-packages (from tensorflow-gpu==2.4.2) (2.6.0)\r\n",
      "Requirement already satisfied: numpy~=1.19.2 in /opt/conda/lib/python3.7/site-packages (from tensorflow-gpu==2.4.2) (1.19.5)\r\n",
      "Requirement already satisfied: typing-extensions~=3.7.4 in /opt/conda/lib/python3.7/site-packages (from tensorflow-gpu==2.4.2) (3.7.4.3)\r\n",
      "Requirement already satisfied: keras-preprocessing~=1.1.2 in /opt/conda/lib/python3.7/site-packages (from tensorflow-gpu==2.4.2) (1.1.2)\r\n",
      "Requirement already satisfied: wheel~=0.35 in /opt/conda/lib/python3.7/site-packages (from tensorflow-gpu==2.4.2) (0.37.0)\r\n",
      "Requirement already satisfied: grpcio~=1.32.0 in /opt/conda/lib/python3.7/site-packages (from tensorflow-gpu==2.4.2) (1.32.0)\r\n",
      "Requirement already satisfied: gast==0.3.3 in /opt/conda/lib/python3.7/site-packages (from tensorflow-gpu==2.4.2) (0.3.3)\r\n",
      "Requirement already satisfied: opt-einsum~=3.3.0 in /opt/conda/lib/python3.7/site-packages (from tensorflow-gpu==2.4.2) (3.3.0)\r\n",
      "Requirement already satisfied: setuptools>=41.0.0 in /opt/conda/lib/python3.7/site-packages (from tensorboard~=2.4->tensorflow-gpu==2.4.2) (59.1.1)\r\n",
      "Requirement already satisfied: markdown>=2.6.8 in /opt/conda/lib/python3.7/site-packages (from tensorboard~=2.4->tensorflow-gpu==2.4.2) (3.3.6)\r\n",
      "Requirement already satisfied: google-auth-oauthlib<0.5,>=0.4.1 in /opt/conda/lib/python3.7/site-packages (from tensorboard~=2.4->tensorflow-gpu==2.4.2) (0.4.6)\r\n",
      "Requirement already satisfied: requests<3,>=2.21.0 in /opt/conda/lib/python3.7/site-packages (from tensorboard~=2.4->tensorflow-gpu==2.4.2) (2.25.1)\r\n",
      "Requirement already satisfied: google-auth<2,>=1.6.3 in /opt/conda/lib/python3.7/site-packages (from tensorboard~=2.4->tensorflow-gpu==2.4.2) (1.35.0)\r\n",
      "Requirement already satisfied: tensorboard-data-server<0.7.0,>=0.6.0 in /opt/conda/lib/python3.7/site-packages (from tensorboard~=2.4->tensorflow-gpu==2.4.2) (0.6.1)\r\n",
      "Requirement already satisfied: tensorboard-plugin-wit>=1.6.0 in /opt/conda/lib/python3.7/site-packages (from tensorboard~=2.4->tensorflow-gpu==2.4.2) (1.8.0)\r\n",
      "Requirement already satisfied: werkzeug>=0.11.15 in /opt/conda/lib/python3.7/site-packages (from tensorboard~=2.4->tensorflow-gpu==2.4.2) (2.0.2)\r\n",
      "Requirement already satisfied: rsa<5,>=3.1.4 in /opt/conda/lib/python3.7/site-packages (from google-auth<2,>=1.6.3->tensorboard~=2.4->tensorflow-gpu==2.4.2) (4.7.2)\r\n",
      "Requirement already satisfied: pyasn1-modules>=0.2.1 in /opt/conda/lib/python3.7/site-packages (from google-auth<2,>=1.6.3->tensorboard~=2.4->tensorflow-gpu==2.4.2) (0.2.7)\r\n",
      "Requirement already satisfied: cachetools<5.0,>=2.0.0 in /opt/conda/lib/python3.7/site-packages (from google-auth<2,>=1.6.3->tensorboard~=2.4->tensorflow-gpu==2.4.2) (4.2.4)\r\n",
      "Requirement already satisfied: requests-oauthlib>=0.7.0 in /opt/conda/lib/python3.7/site-packages (from google-auth-oauthlib<0.5,>=0.4.1->tensorboard~=2.4->tensorflow-gpu==2.4.2) (1.3.0)\r\n",
      "Requirement already satisfied: importlib-metadata>=4.4 in /opt/conda/lib/python3.7/site-packages (from markdown>=2.6.8->tensorboard~=2.4->tensorflow-gpu==2.4.2) (4.8.2)\r\n",
      "Requirement already satisfied: certifi>=2017.4.17 in /opt/conda/lib/python3.7/site-packages (from requests<3,>=2.21.0->tensorboard~=2.4->tensorflow-gpu==2.4.2) (2021.10.8)\r\n",
      "Requirement already satisfied: chardet<5,>=3.0.2 in /opt/conda/lib/python3.7/site-packages (from requests<3,>=2.21.0->tensorboard~=2.4->tensorflow-gpu==2.4.2) (4.0.0)\r\n",
      "Requirement already satisfied: urllib3<1.27,>=1.21.1 in /opt/conda/lib/python3.7/site-packages (from requests<3,>=2.21.0->tensorboard~=2.4->tensorflow-gpu==2.4.2) (1.26.7)\r\n",
      "Requirement already satisfied: idna<3,>=2.5 in /opt/conda/lib/python3.7/site-packages (from requests<3,>=2.21.0->tensorboard~=2.4->tensorflow-gpu==2.4.2) (2.10)\r\n",
      "Requirement already satisfied: zipp>=0.5 in /opt/conda/lib/python3.7/site-packages (from importlib-metadata>=4.4->markdown>=2.6.8->tensorboard~=2.4->tensorflow-gpu==2.4.2) (3.6.0)\r\n",
      "Requirement already satisfied: pyasn1<0.5.0,>=0.4.6 in /opt/conda/lib/python3.7/site-packages (from pyasn1-modules>=0.2.1->google-auth<2,>=1.6.3->tensorboard~=2.4->tensorflow-gpu==2.4.2) (0.4.8)\r\n",
      "Requirement already satisfied: oauthlib>=3.0.0 in /opt/conda/lib/python3.7/site-packages (from requests-oauthlib>=0.7.0->google-auth-oauthlib<0.5,>=0.4.1->tensorboard~=2.4->tensorflow-gpu==2.4.2) (3.1.1)\r\n",
      "Installing collected packages: tensorflow-gpu\r\n",
      "Successfully installed tensorflow-gpu-2.4.2\r\n",
      "\u001b[33mWARNING: Running pip as the 'root' user can result in broken permissions and conflicting behaviour with the system package manager. It is recommended to use a virtual environment instead: https://pip.pypa.io/warnings/venv\u001b[0m\r\n",
      "Collecting delayed\r\n",
      "  Downloading delayed-0.11.0b1-py2.py3-none-any.whl (19 kB)\r\n",
      "Requirement already satisfied: redis in /opt/conda/lib/python3.7/site-packages (from delayed) (4.0.2)\r\n",
      "Collecting hiredis\r\n",
      "  Downloading hiredis-2.0.0-cp37-cp37m-manylinux2010_x86_64.whl (85 kB)\r\n",
      "     |████████████████████████████████| 85 kB 671 kB/s            \r\n",
      "\u001b[?25hRequirement already satisfied: deprecated in /opt/conda/lib/python3.7/site-packages (from redis->delayed) (1.2.13)\r\n",
      "Requirement already satisfied: wrapt<2,>=1.10 in /opt/conda/lib/python3.7/site-packages (from deprecated->redis->delayed) (1.12.1)\r\n",
      "Installing collected packages: hiredis, delayed\r\n",
      "Successfully installed delayed-0.11.0b1 hiredis-2.0.0\r\n",
      "\u001b[33mWARNING: Running pip as the 'root' user can result in broken permissions and conflicting behaviour with the system package manager. It is recommended to use a virtual environment instead: https://pip.pypa.io/warnings/venv\u001b[0m\r\n",
      "Collecting alt-profanity-check\r\n",
      "  Downloading alt-profanity-check-1.0.2.1.tar.gz (1.9 MB)\r\n",
      "     |████████████████████████████████| 1.9 MB 598 kB/s            \r\n",
      "\u001b[?25h  Preparing metadata (setup.py) ... \u001b[?25l-\b \bdone\r\n",
      "\u001b[?25hCollecting scikit-learn==1.0.2\r\n",
      "  Downloading scikit_learn-1.0.2-cp37-cp37m-manylinux_2_17_x86_64.manylinux2014_x86_64.whl (24.8 MB)\r\n",
      "     |████████████████████████████████| 24.8 MB 55.0 MB/s            \r\n",
      "\u001b[?25hRequirement already satisfied: joblib>=1.1.0 in /opt/conda/lib/python3.7/site-packages (from alt-profanity-check) (1.1.0)\r\n",
      "Requirement already satisfied: threadpoolctl>=2.0.0 in /opt/conda/lib/python3.7/site-packages (from scikit-learn==1.0.2->alt-profanity-check) (3.0.0)\r\n",
      "Requirement already satisfied: scipy>=1.1.0 in /opt/conda/lib/python3.7/site-packages (from scikit-learn==1.0.2->alt-profanity-check) (1.7.2)\r\n",
      "Requirement already satisfied: numpy>=1.14.6 in /opt/conda/lib/python3.7/site-packages (from scikit-learn==1.0.2->alt-profanity-check) (1.19.5)\r\n",
      "Building wheels for collected packages: alt-profanity-check\r\n",
      "  Building wheel for alt-profanity-check (setup.py) ... \u001b[?25l-\b \b\\\b \b|\b \bdone\r\n",
      "\u001b[?25h  Created wheel for alt-profanity-check: filename=alt_profanity_check-1.0.2.1-py3-none-any.whl size=1865308 sha256=1826a873b4c6430f7e6653b3c62c3604684f428485d97c64a5021158a0f15696\r\n",
      "  Stored in directory: /root/.cache/pip/wheels/97/0b/42/bcc90fa73e8d6765fab1c9436ac4bc5a6978887c937978db00\r\n",
      "Successfully built alt-profanity-check\r\n",
      "Installing collected packages: scikit-learn, alt-profanity-check\r\n",
      "  Attempting uninstall: scikit-learn\r\n",
      "    Found existing installation: scikit-learn 0.23.2\r\n",
      "    Uninstalling scikit-learn-0.23.2:\r\n",
      "      Successfully uninstalled scikit-learn-0.23.2\r\n",
      "\u001b[31mERROR: pip's dependency resolver does not currently take into account all the packages that are installed. This behaviour is the source of the following dependency conflicts.\r\n",
      "pdpbox 0.2.1 requires matplotlib==3.1.1, but you have matplotlib 3.5.0 which is incompatible.\r\n",
      "hypertools 0.7.0 requires scikit-learn!=0.22,<0.24,>=0.19.1, but you have scikit-learn 1.0.2 which is incompatible.\u001b[0m\r\n",
      "Successfully installed alt-profanity-check-1.0.2.1 scikit-learn-1.0.2\r\n",
      "\u001b[33mWARNING: Running pip as the 'root' user can result in broken permissions and conflicting behaviour with the system package manager. It is recommended to use a virtual environment instead: https://pip.pypa.io/warnings/venv\u001b[0m\r\n"
     ]
    },
    {
     "name": "stderr",
     "output_type": "stream",
     "text": [
      "2022-03-20 07:21:12.787124: I tensorflow/stream_executor/platform/default/dso_loader.cc:49] Successfully opened dynamic library libcudart.so.11.0\n",
      "/opt/conda/lib/python3.7/site-packages/sklearn/base.py:338: UserWarning: Trying to unpickle estimator TfidfTransformer from version 1.0.1 when using version 1.0.2. This might lead to breaking code or invalid results. Use at your own risk. For more info please refer to:\n",
      "https://scikit-learn.org/stable/modules/model_persistence.html#security-maintainability-limitations\n",
      "  UserWarning,\n",
      "/opt/conda/lib/python3.7/site-packages/sklearn/base.py:338: UserWarning: Trying to unpickle estimator TfidfVectorizer from version 1.0.1 when using version 1.0.2. This might lead to breaking code or invalid results. Use at your own risk. For more info please refer to:\n",
      "https://scikit-learn.org/stable/modules/model_persistence.html#security-maintainability-limitations\n",
      "  UserWarning,\n",
      "/opt/conda/lib/python3.7/site-packages/sklearn/base.py:338: UserWarning: Trying to unpickle estimator LinearSVC from version 1.0.1 when using version 1.0.2. This might lead to breaking code or invalid results. Use at your own risk. For more info please refer to:\n",
      "https://scikit-learn.org/stable/modules/model_persistence.html#security-maintainability-limitations\n",
      "  UserWarning,\n",
      "/opt/conda/lib/python3.7/site-packages/sklearn/base.py:338: UserWarning: Trying to unpickle estimator _SigmoidCalibration from version 1.0.1 when using version 1.0.2. This might lead to breaking code or invalid results. Use at your own risk. For more info please refer to:\n",
      "https://scikit-learn.org/stable/modules/model_persistence.html#security-maintainability-limitations\n",
      "  UserWarning,\n",
      "/opt/conda/lib/python3.7/site-packages/sklearn/base.py:338: UserWarning: Trying to unpickle estimator CalibratedClassifierCV from version 1.0.1 when using version 1.0.2. This might lead to breaking code or invalid results. Use at your own risk. For more info please refer to:\n",
      "https://scikit-learn.org/stable/modules/model_persistence.html#security-maintainability-limitations\n",
      "  UserWarning,\n"
     ]
    }
   ],
   "source": [
    "!pip install tensorflow-text==2.4.2\n",
    "!pip install tf-models-official==2.4\n",
    "!pip install tensorflow-gpu==2.4.2\n",
    "!pip install delayed\n",
    "!pip install alt-profanity-check\n",
    "import numpy as np\n",
    "import pandas as pd\n",
    "import tensorflow as tf\n",
    "import tensorflow_hub as hub\n",
    "import tensorflow_text as text\n",
    "from sklearn.metrics import confusion_matrix, ConfusionMatrixDisplay\n",
    "from sklearn.metrics import classification_report\n",
    "import seaborn as sns\n",
    "import matplotlib.pyplot as plt\n",
    "from wordcloud import WordCloud\n",
    "import re\n",
    "import nltk\n",
    "from nltk.corpus import stopwords\n",
    "from nltk.stem.porter import PorterStemmer\n",
    "import joblib\n",
    "from profanity_check import predict, predict_prob\n",
    "from tqdm import tqdm\n",
    "from sklearn.preprocessing import MinMaxScaler"
   ]
  },
  {
   "cell_type": "code",
   "execution_count": 2,
   "id": "0b022de6",
   "metadata": {
    "execution": {
     "iopub.execute_input": "2022-03-20T07:21:17.340208Z",
     "iopub.status.busy": "2022-03-20T07:21:17.339405Z",
     "iopub.status.idle": "2022-03-20T07:21:17.342607Z",
     "shell.execute_reply": "2022-03-20T07:21:17.340770Z",
     "shell.execute_reply.started": "2022-03-19T16:58:02.924694Z"
    },
    "papermill": {
     "duration": 0.395519,
     "end_time": "2022-03-20T07:21:17.342768",
     "exception": false,
     "start_time": "2022-03-20T07:21:16.947249",
     "status": "completed"
    },
    "tags": []
   },
   "outputs": [
    {
     "name": "stdout",
     "output_type": "stream",
     "text": [
      "2.4.2\n"
     ]
    }
   ],
   "source": [
    "print(tf.__version__)"
   ]
  },
  {
   "cell_type": "code",
   "execution_count": 3,
   "id": "a018b7e1",
   "metadata": {
    "execution": {
     "iopub.execute_input": "2022-03-20T07:21:18.364413Z",
     "iopub.status.busy": "2022-03-20T07:21:18.363542Z",
     "iopub.status.idle": "2022-03-20T07:21:19.102327Z",
     "shell.execute_reply": "2022-03-20T07:21:19.101544Z",
     "shell.execute_reply.started": "2022-03-19T16:58:02.950486Z"
    },
    "papermill": {
     "duration": 1.35325,
     "end_time": "2022-03-20T07:21:19.102470",
     "exception": false,
     "start_time": "2022-03-20T07:21:17.749220",
     "status": "completed"
    },
    "tags": []
   },
   "outputs": [
    {
     "name": "stdout",
     "output_type": "stream",
     "text": [
      "Sun Mar 20 07:21:18 2022       \r\n",
      "+-----------------------------------------------------------------------------+\r\n",
      "| NVIDIA-SMI 450.119.04   Driver Version: 450.119.04   CUDA Version: 11.0     |\r\n",
      "|-------------------------------+----------------------+----------------------+\r\n",
      "| GPU  Name        Persistence-M| Bus-Id        Disp.A | Volatile Uncorr. ECC |\r\n",
      "| Fan  Temp  Perf  Pwr:Usage/Cap|         Memory-Usage | GPU-Util  Compute M. |\r\n",
      "|                               |                      |               MIG M. |\r\n",
      "|===============================+======================+======================|\r\n",
      "|   0  Tesla P100-PCIE...  Off  | 00000000:00:04.0 Off |                    0 |\r\n",
      "| N/A   35C    P0    27W / 250W |      0MiB / 16280MiB |      0%      Default |\r\n",
      "|                               |                      |                  N/A |\r\n",
      "+-------------------------------+----------------------+----------------------+\r\n",
      "                                                                               \r\n",
      "+-----------------------------------------------------------------------------+\r\n",
      "| Processes:                                                                  |\r\n",
      "|  GPU   GI   CI        PID   Type   Process name                  GPU Memory |\r\n",
      "|        ID   ID                                                   Usage      |\r\n",
      "|=============================================================================|\r\n",
      "|  No running processes found                                                 |\r\n",
      "+-----------------------------------------------------------------------------+\r\n"
     ]
    }
   ],
   "source": [
    "!nvidia-smi "
   ]
  },
  {
   "cell_type": "code",
   "execution_count": 4,
   "id": "5a3dfc0e",
   "metadata": {
    "execution": {
     "iopub.execute_input": "2022-03-20T07:21:19.878948Z",
     "iopub.status.busy": "2022-03-20T07:21:19.878348Z",
     "iopub.status.idle": "2022-03-20T07:21:20.696266Z",
     "shell.execute_reply": "2022-03-20T07:21:20.696678Z",
     "shell.execute_reply.started": "2022-03-19T16:58:03.744513Z"
    },
    "papermill": {
     "duration": 1.214189,
     "end_time": "2022-03-20T07:21:20.696823",
     "exception": false,
     "start_time": "2022-03-20T07:21:19.482634",
     "status": "completed"
    },
    "tags": []
   },
   "outputs": [
    {
     "name": "stderr",
     "output_type": "stream",
     "text": [
      "2022-03-20 07:21:19.875878: I tensorflow/core/platform/cpu_feature_guard.cc:142] This TensorFlow binary is optimized with oneAPI Deep Neural Network Library (oneDNN) to use the following CPU instructions in performance-critical operations:  AVX2 AVX512F FMA\n",
      "To enable them in other operations, rebuild TensorFlow with the appropriate compiler flags.\n"
     ]
    },
    {
     "data": {
      "text/plain": [
       "True"
      ]
     },
     "execution_count": 4,
     "metadata": {},
     "output_type": "execute_result"
    },
    {
     "name": "stderr",
     "output_type": "stream",
     "text": [
      "2022-03-20 07:21:19.876479: I tensorflow/compiler/jit/xla_gpu_device.cc:99] Not creating XLA devices, tf_xla_enable_xla_devices not set\n",
      "2022-03-20 07:21:19.878158: I tensorflow/stream_executor/platform/default/dso_loader.cc:49] Successfully opened dynamic library libcuda.so.1\n",
      "2022-03-20 07:21:19.913711: I tensorflow/stream_executor/cuda/cuda_gpu_executor.cc:941] successful NUMA node read from SysFS had negative value (-1), but there must be at least one NUMA node, so returning NUMA node zero\n",
      "2022-03-20 07:21:19.914325: I tensorflow/core/common_runtime/gpu/gpu_device.cc:1720] Found device 0 with properties: \n",
      "pciBusID: 0000:00:04.0 name: Tesla P100-PCIE-16GB computeCapability: 6.0\n",
      "coreClock: 1.3285GHz coreCount: 56 deviceMemorySize: 15.90GiB deviceMemoryBandwidth: 681.88GiB/s\n",
      "2022-03-20 07:21:19.914393: I tensorflow/stream_executor/platform/default/dso_loader.cc:49] Successfully opened dynamic library libcudart.so.11.0\n",
      "2022-03-20 07:21:19.961450: I tensorflow/stream_executor/platform/default/dso_loader.cc:49] Successfully opened dynamic library libcublas.so.11\n",
      "2022-03-20 07:21:19.961565: I tensorflow/stream_executor/platform/default/dso_loader.cc:49] Successfully opened dynamic library libcublasLt.so.11\n",
      "2022-03-20 07:21:19.994912: I tensorflow/stream_executor/platform/default/dso_loader.cc:49] Successfully opened dynamic library libcufft.so.10\n",
      "2022-03-20 07:21:20.039075: I tensorflow/stream_executor/platform/default/dso_loader.cc:49] Successfully opened dynamic library libcurand.so.10\n",
      "2022-03-20 07:21:20.062682: I tensorflow/stream_executor/platform/default/dso_loader.cc:49] Successfully opened dynamic library libcusolver.so.10\n",
      "2022-03-20 07:21:20.070560: I tensorflow/stream_executor/platform/default/dso_loader.cc:49] Successfully opened dynamic library libcusparse.so.11\n",
      "2022-03-20 07:21:20.073168: I tensorflow/stream_executor/platform/default/dso_loader.cc:49] Successfully opened dynamic library libcudnn.so.8\n",
      "2022-03-20 07:21:20.073355: I tensorflow/stream_executor/cuda/cuda_gpu_executor.cc:941] successful NUMA node read from SysFS had negative value (-1), but there must be at least one NUMA node, so returning NUMA node zero\n",
      "2022-03-20 07:21:20.074048: I tensorflow/stream_executor/cuda/cuda_gpu_executor.cc:941] successful NUMA node read from SysFS had negative value (-1), but there must be at least one NUMA node, so returning NUMA node zero\n",
      "2022-03-20 07:21:20.074633: I tensorflow/core/common_runtime/gpu/gpu_device.cc:1862] Adding visible gpu devices: 0\n",
      "2022-03-20 07:21:20.074727: I tensorflow/stream_executor/platform/default/dso_loader.cc:49] Successfully opened dynamic library libcudart.so.11.0\n",
      "2022-03-20 07:21:20.680503: I tensorflow/core/common_runtime/gpu/gpu_device.cc:1261] Device interconnect StreamExecutor with strength 1 edge matrix:\n",
      "2022-03-20 07:21:20.680553: I tensorflow/core/common_runtime/gpu/gpu_device.cc:1267]      0 \n",
      "2022-03-20 07:21:20.680564: I tensorflow/core/common_runtime/gpu/gpu_device.cc:1280] 0:   N \n",
      "2022-03-20 07:21:20.680940: I tensorflow/stream_executor/cuda/cuda_gpu_executor.cc:941] successful NUMA node read from SysFS had negative value (-1), but there must be at least one NUMA node, so returning NUMA node zero\n",
      "2022-03-20 07:21:20.681800: I tensorflow/stream_executor/cuda/cuda_gpu_executor.cc:941] successful NUMA node read from SysFS had negative value (-1), but there must be at least one NUMA node, so returning NUMA node zero\n",
      "2022-03-20 07:21:20.682502: I tensorflow/stream_executor/cuda/cuda_gpu_executor.cc:941] successful NUMA node read from SysFS had negative value (-1), but there must be at least one NUMA node, so returning NUMA node zero\n",
      "2022-03-20 07:21:20.683093: I tensorflow/core/common_runtime/gpu/gpu_device.cc:1406] Created TensorFlow device (/device:GPU:0 with 14957 MB memory) -> physical GPU (device: 0, name: Tesla P100-PCIE-16GB, pci bus id: 0000:00:04.0, compute capability: 6.0)\n"
     ]
    }
   ],
   "source": [
    "tf.test.is_gpu_available()"
   ]
  },
  {
   "cell_type": "markdown",
   "id": "ed2c814c",
   "metadata": {
    "papermill": {
     "duration": 0.385444,
     "end_time": "2022-03-20T07:21:21.463578",
     "exception": false,
     "start_time": "2022-03-20T07:21:21.078134",
     "status": "completed"
    },
    "tags": []
   },
   "source": [
    "# Reading Training Data"
   ]
  },
  {
   "cell_type": "code",
   "execution_count": 5,
   "id": "936b8f64",
   "metadata": {
    "execution": {
     "iopub.execute_input": "2022-03-20T07:21:22.247621Z",
     "iopub.status.busy": "2022-03-20T07:21:22.246946Z",
     "iopub.status.idle": "2022-03-20T07:21:22.357804Z",
     "shell.execute_reply": "2022-03-20T07:21:22.356904Z",
     "shell.execute_reply.started": "2022-03-19T16:58:04.588168Z"
    },
    "papermill": {
     "duration": 0.509822,
     "end_time": "2022-03-20T07:21:22.357945",
     "exception": false,
     "start_time": "2022-03-20T07:21:21.848123",
     "status": "completed"
    },
    "tags": []
   },
   "outputs": [
    {
     "data": {
      "text/html": [
       "<div>\n",
       "<style scoped>\n",
       "    .dataframe tbody tr th:only-of-type {\n",
       "        vertical-align: middle;\n",
       "    }\n",
       "\n",
       "    .dataframe tbody tr th {\n",
       "        vertical-align: top;\n",
       "    }\n",
       "\n",
       "    .dataframe thead th {\n",
       "        text-align: right;\n",
       "    }\n",
       "</style>\n",
       "<table border=\"1\" class=\"dataframe\">\n",
       "  <thead>\n",
       "    <tr style=\"text-align: right;\">\n",
       "      <th></th>\n",
       "      <th>id</th>\n",
       "      <th>tweet</th>\n",
       "      <th>label</th>\n",
       "    </tr>\n",
       "  </thead>\n",
       "  <tbody>\n",
       "    <tr>\n",
       "      <th>0</th>\n",
       "      <td>1</td>\n",
       "      <td>The CDC currently reports 99031 deaths. In gen...</td>\n",
       "      <td>real</td>\n",
       "    </tr>\n",
       "    <tr>\n",
       "      <th>1</th>\n",
       "      <td>2</td>\n",
       "      <td>States reported 1121 deaths a small rise from ...</td>\n",
       "      <td>real</td>\n",
       "    </tr>\n",
       "    <tr>\n",
       "      <th>2</th>\n",
       "      <td>3</td>\n",
       "      <td>Politically Correct Woman (Almost) Uses Pandem...</td>\n",
       "      <td>fake</td>\n",
       "    </tr>\n",
       "    <tr>\n",
       "      <th>3</th>\n",
       "      <td>4</td>\n",
       "      <td>#IndiaFightsCorona: We have 1524 #COVID testin...</td>\n",
       "      <td>real</td>\n",
       "    </tr>\n",
       "    <tr>\n",
       "      <th>4</th>\n",
       "      <td>5</td>\n",
       "      <td>Populous states can generate large case counts...</td>\n",
       "      <td>real</td>\n",
       "    </tr>\n",
       "  </tbody>\n",
       "</table>\n",
       "</div>"
      ],
      "text/plain": [
       "   id                                              tweet label\n",
       "0   1  The CDC currently reports 99031 deaths. In gen...  real\n",
       "1   2  States reported 1121 deaths a small rise from ...  real\n",
       "2   3  Politically Correct Woman (Almost) Uses Pandem...  fake\n",
       "3   4  #IndiaFightsCorona: We have 1524 #COVID testin...  real\n",
       "4   5  Populous states can generate large case counts...  real"
      ]
     },
     "execution_count": 5,
     "metadata": {},
     "output_type": "execute_result"
    }
   ],
   "source": [
    "df_train = pd.read_csv(\"../input/covid-misinfo/Constraint_English_Train.csv\")\n",
    "df_val = pd.read_csv(\"../input/covid-misinfo/Constraint_English_Val.csv\")\n",
    "df_test = pd.read_csv(\"../input/covid-misinfo/Constraint_English_Test.csv\")\n",
    "df = pd.concat([df_train, df_val, df_test], ignore_index=True)\n",
    "df.head()"
   ]
  },
  {
   "cell_type": "code",
   "execution_count": 6,
   "id": "8b95492c",
   "metadata": {
    "execution": {
     "iopub.execute_input": "2022-03-20T07:21:23.150510Z",
     "iopub.status.busy": "2022-03-20T07:21:23.149540Z",
     "iopub.status.idle": "2022-03-20T07:21:23.152583Z",
     "shell.execute_reply": "2022-03-20T07:21:23.152122Z",
     "shell.execute_reply.started": "2022-03-19T16:58:04.706784Z"
    },
    "papermill": {
     "duration": 0.400953,
     "end_time": "2022-03-20T07:21:23.152713",
     "exception": false,
     "start_time": "2022-03-20T07:21:22.751760",
     "status": "completed"
    },
    "tags": []
   },
   "outputs": [
    {
     "data": {
      "text/plain": [
       "(10700, 3)"
      ]
     },
     "execution_count": 6,
     "metadata": {},
     "output_type": "execute_result"
    }
   ],
   "source": [
    "df.shape"
   ]
  },
  {
   "cell_type": "markdown",
   "id": "9af2bf1b",
   "metadata": {
    "papermill": {
     "duration": 0.385937,
     "end_time": "2022-03-20T07:21:23.921194",
     "exception": false,
     "start_time": "2022-03-20T07:21:23.535257",
     "status": "completed"
    },
    "tags": []
   },
   "source": [
    "# Training Data Insight"
   ]
  },
  {
   "cell_type": "code",
   "execution_count": 7,
   "id": "b3471389",
   "metadata": {
    "execution": {
     "iopub.execute_input": "2022-03-20T07:21:24.748950Z",
     "iopub.status.busy": "2022-03-20T07:21:24.742559Z",
     "iopub.status.idle": "2022-03-20T07:21:24.792428Z",
     "shell.execute_reply": "2022-03-20T07:21:24.791930Z",
     "shell.execute_reply.started": "2022-03-19T16:58:04.71491Z"
    },
    "papermill": {
     "duration": 0.442624,
     "end_time": "2022-03-20T07:21:24.792561",
     "exception": false,
     "start_time": "2022-03-20T07:21:24.349937",
     "status": "completed"
    },
    "tags": []
   },
   "outputs": [
    {
     "data": {
      "text/html": [
       "<div>\n",
       "<style scoped>\n",
       "    .dataframe tbody tr th:only-of-type {\n",
       "        vertical-align: middle;\n",
       "    }\n",
       "\n",
       "    .dataframe tbody tr th {\n",
       "        vertical-align: top;\n",
       "    }\n",
       "\n",
       "    .dataframe thead tr th {\n",
       "        text-align: left;\n",
       "    }\n",
       "\n",
       "    .dataframe thead tr:last-of-type th {\n",
       "        text-align: right;\n",
       "    }\n",
       "</style>\n",
       "<table border=\"1\" class=\"dataframe\">\n",
       "  <thead>\n",
       "    <tr>\n",
       "      <th></th>\n",
       "      <th colspan=\"8\" halign=\"left\">id</th>\n",
       "    </tr>\n",
       "    <tr>\n",
       "      <th></th>\n",
       "      <th>count</th>\n",
       "      <th>mean</th>\n",
       "      <th>std</th>\n",
       "      <th>min</th>\n",
       "      <th>25%</th>\n",
       "      <th>50%</th>\n",
       "      <th>75%</th>\n",
       "      <th>max</th>\n",
       "    </tr>\n",
       "    <tr>\n",
       "      <th>label</th>\n",
       "      <th></th>\n",
       "      <th></th>\n",
       "      <th></th>\n",
       "      <th></th>\n",
       "      <th></th>\n",
       "      <th></th>\n",
       "      <th></th>\n",
       "      <th></th>\n",
       "    </tr>\n",
       "  </thead>\n",
       "  <tbody>\n",
       "    <tr>\n",
       "      <th>fake</th>\n",
       "      <td>5100.0</td>\n",
       "      <td>2373.648627</td>\n",
       "      <td>1821.186440</td>\n",
       "      <td>1.0</td>\n",
       "      <td>902.00</td>\n",
       "      <td>1812.0</td>\n",
       "      <td>3761.50</td>\n",
       "      <td>6419.0</td>\n",
       "    </tr>\n",
       "    <tr>\n",
       "      <th>real</th>\n",
       "      <td>5600.0</td>\n",
       "      <td>2337.061071</td>\n",
       "      <td>1819.161764</td>\n",
       "      <td>1.0</td>\n",
       "      <td>884.75</td>\n",
       "      <td>1757.0</td>\n",
       "      <td>3726.75</td>\n",
       "      <td>6420.0</td>\n",
       "    </tr>\n",
       "  </tbody>\n",
       "</table>\n",
       "</div>"
      ],
      "text/plain": [
       "           id                                                                \n",
       "        count         mean          std  min     25%     50%      75%     max\n",
       "label                                                                        \n",
       "fake   5100.0  2373.648627  1821.186440  1.0  902.00  1812.0  3761.50  6419.0\n",
       "real   5600.0  2337.061071  1819.161764  1.0  884.75  1757.0  3726.75  6420.0"
      ]
     },
     "execution_count": 7,
     "metadata": {},
     "output_type": "execute_result"
    }
   ],
   "source": [
    "df.groupby('label').describe()"
   ]
  },
  {
   "cell_type": "code",
   "execution_count": 8,
   "id": "5b12e778",
   "metadata": {
    "execution": {
     "iopub.execute_input": "2022-03-20T07:21:25.861746Z",
     "iopub.status.busy": "2022-03-20T07:21:25.860955Z",
     "iopub.status.idle": "2022-03-20T07:21:26.157577Z",
     "shell.execute_reply": "2022-03-20T07:21:26.158606Z",
     "shell.execute_reply.started": "2022-03-19T16:58:04.766215Z"
    },
    "papermill": {
     "duration": 0.973808,
     "end_time": "2022-03-20T07:21:26.158833",
     "exception": false,
     "start_time": "2022-03-20T07:21:25.185025",
     "status": "completed"
    },
    "tags": []
   },
   "outputs": [
    {
     "name": "stderr",
     "output_type": "stream",
     "text": [
      "/opt/conda/lib/python3.7/site-packages/seaborn/_decorators.py:43: FutureWarning: Pass the following variable as a keyword arg: x. From version 0.12, the only valid positional argument will be `data`, and passing other arguments without an explicit keyword will result in an error or misinterpretation.\n",
      "  FutureWarning\n"
     ]
    },
    {
     "data": {
      "image/png": "[encoded data removed]",
      "text/plain": [
       "<Figure size 576x432 with 1 Axes>"
      ]
     },
     "metadata": {
      "needs_background": "light"
     },
     "output_type": "display_data"
    }
   ],
   "source": [
    "plt.figure(figsize=(8,6))\n",
    "sns.set_style(style='darkgrid')\n",
    "sns.countplot(df['label'])\n",
    "plt.title(\"Covid Fake and Real Tweets\")\n",
    "plt.show()"
   ]
  },
  {
   "cell_type": "code",
   "execution_count": 9,
   "id": "cafcb502",
   "metadata": {
    "execution": {
     "iopub.execute_input": "2022-03-20T07:21:27.074869Z",
     "iopub.status.busy": "2022-03-20T07:21:27.074132Z",
     "iopub.status.idle": "2022-03-20T07:21:27.167353Z",
     "shell.execute_reply": "2022-03-20T07:21:27.167767Z",
     "shell.execute_reply.started": "2022-03-19T16:58:04.99249Z"
    },
    "papermill": {
     "duration": 0.486177,
     "end_time": "2022-03-20T07:21:27.167908",
     "exception": false,
     "start_time": "2022-03-20T07:21:26.681731",
     "status": "completed"
    },
    "tags": []
   },
   "outputs": [
    {
     "data": {
      "image/png": "[encoded data removed]",
      "text/plain": [
       "<Figure size 432x576 with 1 Axes>"
      ]
     },
     "metadata": {},
     "output_type": "display_data"
    }
   ],
   "source": [
    "plt.figure(figsize=(6,8))\n",
    "sns.set_style(\"darkgrid\")\n",
    "df[\"label\"].value_counts().plot.pie(autopct='%0.2f%%')\n",
    "plt.title(\"Percent contribution\")\n",
    "plt.show()"
   ]
  },
  {
   "cell_type": "markdown",
   "id": "abc3e1b6",
   "metadata": {
    "papermill": {
     "duration": 0.451682,
     "end_time": "2022-03-20T07:21:28.002326",
     "exception": false,
     "start_time": "2022-03-20T07:21:27.550644",
     "status": "completed"
    },
    "tags": []
   },
   "source": [
    "# Feature Engineering"
   ]
  },
  {
   "cell_type": "code",
   "execution_count": 10,
   "id": "cc1f407c",
   "metadata": {
    "execution": {
     "iopub.execute_input": "2022-03-20T07:21:28.804187Z",
     "iopub.status.busy": "2022-03-20T07:21:28.803270Z",
     "iopub.status.idle": "2022-03-20T07:21:28.805844Z",
     "shell.execute_reply": "2022-03-20T07:21:28.805415Z",
     "shell.execute_reply.started": "2022-03-19T16:58:05.096185Z"
    },
    "papermill": {
     "duration": 0.418065,
     "end_time": "2022-03-20T07:21:28.805965",
     "exception": false,
     "start_time": "2022-03-20T07:21:28.387900",
     "status": "completed"
    },
    "tags": []
   },
   "outputs": [],
   "source": [
    "def get_prafanity_scores(text):\n",
    "    embeds = []\n",
    "    \n",
    "    for line in tqdm(text):\n",
    "        \n",
    "        embeds.append(predict_prob([line])[0])\n",
    "    \n",
    "    assert len(text) == len(embeds)    \n",
    "    return embeds"
   ]
  },
  {
   "cell_type": "code",
   "execution_count": 11,
   "id": "bb240860",
   "metadata": {
    "execution": {
     "iopub.execute_input": "2022-03-20T07:21:29.962551Z",
     "iopub.status.busy": "2022-03-20T07:21:29.961537Z",
     "iopub.status.idle": "2022-03-20T07:21:29.963311Z",
     "shell.execute_reply": "2022-03-20T07:21:29.963704Z",
     "shell.execute_reply.started": "2022-03-19T16:58:05.105694Z"
    },
    "papermill": {
     "duration": 0.415523,
     "end_time": "2022-03-20T07:21:29.963840",
     "exception": false,
     "start_time": "2022-03-20T07:21:29.548317",
     "status": "completed"
    },
    "tags": []
   },
   "outputs": [],
   "source": [
    "#textural features\n",
    "def get_text_ft(text):\n",
    "    tweet_len =  len(text)\n",
    "    tweet_num_of_upper_char = sum([len([char for char in word if char.isupper()]) for word in text])\n",
    "    tweet_num_of_qmarks = sum([len([char for char in word if char == '?']) for word in text]) \n",
    "    tweet_num_of_exclmmarks = sum([len([char for char in word if char == '!']) for word in text])\n",
    "    return tweet_len, tweet_num_of_upper_char, tweet_num_of_qmarks, tweet_num_of_exclmmarks"
   ]
  },
  {
   "cell_type": "code",
   "execution_count": 12,
   "id": "777a6d0b",
   "metadata": {
    "execution": {
     "iopub.execute_input": "2022-03-20T07:21:30.781010Z",
     "iopub.status.busy": "2022-03-20T07:21:30.780129Z",
     "iopub.status.idle": "2022-03-20T07:21:52.303648Z",
     "shell.execute_reply": "2022-03-20T07:21:52.303146Z",
     "shell.execute_reply.started": "2022-03-19T16:58:05.11608Z"
    },
    "papermill": {
     "duration": 21.934686,
     "end_time": "2022-03-20T07:21:52.303789",
     "exception": false,
     "start_time": "2022-03-20T07:21:30.369103",
     "status": "completed"
    },
    "tags": []
   },
   "outputs": [
    {
     "name": "stderr",
     "output_type": "stream",
     "text": [
      "100%|██████████| 10700/10700 [00:19<00:00, 560.75it/s]\n"
     ]
    }
   ],
   "source": [
    "df['profanity_scores'] = get_prafanity_scores(df['tweet'])\n",
    "df[['length','num_of_upper_char','num_of_qmarks','num_of_exclmmarks']] = df['tweet'].apply(lambda x: get_text_ft(x)).to_list()"
   ]
  },
  {
   "cell_type": "code",
   "execution_count": 13,
   "id": "f81381af",
   "metadata": {
    "execution": {
     "iopub.execute_input": "2022-03-20T07:21:53.190903Z",
     "iopub.status.busy": "2022-03-20T07:21:53.189947Z",
     "iopub.status.idle": "2022-03-20T07:21:53.198802Z",
     "shell.execute_reply": "2022-03-20T07:21:53.199234Z",
     "shell.execute_reply.started": "2022-03-19T16:58:27.679558Z"
    },
    "papermill": {
     "duration": 0.453188,
     "end_time": "2022-03-20T07:21:53.199378",
     "exception": false,
     "start_time": "2022-03-20T07:21:52.746190",
     "status": "completed"
    },
    "tags": []
   },
   "outputs": [
    {
     "data": {
      "text/html": [
       "<div>\n",
       "<style scoped>\n",
       "    .dataframe tbody tr th:only-of-type {\n",
       "        vertical-align: middle;\n",
       "    }\n",
       "\n",
       "    .dataframe tbody tr th {\n",
       "        vertical-align: top;\n",
       "    }\n",
       "\n",
       "    .dataframe thead th {\n",
       "        text-align: right;\n",
       "    }\n",
       "</style>\n",
       "<table border=\"1\" class=\"dataframe\">\n",
       "  <thead>\n",
       "    <tr style=\"text-align: right;\">\n",
       "      <th></th>\n",
       "      <th>id</th>\n",
       "      <th>tweet</th>\n",
       "      <th>label</th>\n",
       "      <th>profanity_scores</th>\n",
       "      <th>length</th>\n",
       "      <th>num_of_upper_char</th>\n",
       "      <th>num_of_qmarks</th>\n",
       "      <th>num_of_exclmmarks</th>\n",
       "    </tr>\n",
       "  </thead>\n",
       "  <tbody>\n",
       "    <tr>\n",
       "      <th>0</th>\n",
       "      <td>1</td>\n",
       "      <td>The CDC currently reports 99031 deaths. In gen...</td>\n",
       "      <td>real</td>\n",
       "      <td>0.009465</td>\n",
       "      <td>190</td>\n",
       "      <td>6</td>\n",
       "      <td>0</td>\n",
       "      <td>0</td>\n",
       "    </tr>\n",
       "    <tr>\n",
       "      <th>1</th>\n",
       "      <td>2</td>\n",
       "      <td>States reported 1121 deaths a small rise from ...</td>\n",
       "      <td>real</td>\n",
       "      <td>0.031755</td>\n",
       "      <td>129</td>\n",
       "      <td>10</td>\n",
       "      <td>0</td>\n",
       "      <td>0</td>\n",
       "    </tr>\n",
       "    <tr>\n",
       "      <th>2</th>\n",
       "      <td>3</td>\n",
       "      <td>Politically Correct Woman (Almost) Uses Pandem...</td>\n",
       "      <td>fake</td>\n",
       "      <td>0.061657</td>\n",
       "      <td>131</td>\n",
       "      <td>16</td>\n",
       "      <td>0</td>\n",
       "      <td>0</td>\n",
       "    </tr>\n",
       "    <tr>\n",
       "      <th>3</th>\n",
       "      <td>4</td>\n",
       "      <td>#IndiaFightsCorona: We have 1524 #COVID testin...</td>\n",
       "      <td>real</td>\n",
       "      <td>0.034314</td>\n",
       "      <td>204</td>\n",
       "      <td>32</td>\n",
       "      <td>0</td>\n",
       "      <td>0</td>\n",
       "    </tr>\n",
       "    <tr>\n",
       "      <th>4</th>\n",
       "      <td>5</td>\n",
       "      <td>Populous states can generate large case counts...</td>\n",
       "      <td>real</td>\n",
       "      <td>0.014909</td>\n",
       "      <td>231</td>\n",
       "      <td>26</td>\n",
       "      <td>0</td>\n",
       "      <td>0</td>\n",
       "    </tr>\n",
       "    <tr>\n",
       "      <th>...</th>\n",
       "      <td>...</td>\n",
       "      <td>...</td>\n",
       "      <td>...</td>\n",
       "      <td>...</td>\n",
       "      <td>...</td>\n",
       "      <td>...</td>\n",
       "      <td>...</td>\n",
       "      <td>...</td>\n",
       "    </tr>\n",
       "    <tr>\n",
       "      <th>10695</th>\n",
       "      <td>2136</td>\n",
       "      <td>#CoronaVirusUpdates: State-wise details of Tot...</td>\n",
       "      <td>real</td>\n",
       "      <td>0.008353</td>\n",
       "      <td>300</td>\n",
       "      <td>24</td>\n",
       "      <td>0</td>\n",
       "      <td>0</td>\n",
       "    </tr>\n",
       "    <tr>\n",
       "      <th>10696</th>\n",
       "      <td>2137</td>\n",
       "      <td>Tonight 12(midnight) onwards Disaster Manageme...</td>\n",
       "      <td>fake</td>\n",
       "      <td>0.004930</td>\n",
       "      <td>271</td>\n",
       "      <td>7</td>\n",
       "      <td>0</td>\n",
       "      <td>0</td>\n",
       "    </tr>\n",
       "    <tr>\n",
       "      <th>10697</th>\n",
       "      <td>2138</td>\n",
       "      <td>296 new cases of #COVID19Nigeria; Plateau-85 E...</td>\n",
       "      <td>real</td>\n",
       "      <td>0.025429</td>\n",
       "      <td>252</td>\n",
       "      <td>30</td>\n",
       "      <td>0</td>\n",
       "      <td>0</td>\n",
       "    </tr>\n",
       "    <tr>\n",
       "      <th>10698</th>\n",
       "      <td>2139</td>\n",
       "      <td>RT @CDCemergency: #DYK? @CDCgovâ€™s One-Stop S...</td>\n",
       "      <td>real</td>\n",
       "      <td>0.025241</td>\n",
       "      <td>144</td>\n",
       "      <td>21</td>\n",
       "      <td>1</td>\n",
       "      <td>0</td>\n",
       "    </tr>\n",
       "    <tr>\n",
       "      <th>10699</th>\n",
       "      <td>2140</td>\n",
       "      <td>More than half of pregnant women recently admi...</td>\n",
       "      <td>real</td>\n",
       "      <td>0.032594</td>\n",
       "      <td>180</td>\n",
       "      <td>14</td>\n",
       "      <td>0</td>\n",
       "      <td>0</td>\n",
       "    </tr>\n",
       "  </tbody>\n",
       "</table>\n",
       "<p>10700 rows × 8 columns</p>\n",
       "</div>"
      ],
      "text/plain": [
       "         id                                              tweet label  \\\n",
       "0         1  The CDC currently reports 99031 deaths. In gen...  real   \n",
       "1         2  States reported 1121 deaths a small rise from ...  real   \n",
       "2         3  Politically Correct Woman (Almost) Uses Pandem...  fake   \n",
       "3         4  #IndiaFightsCorona: We have 1524 #COVID testin...  real   \n",
       "4         5  Populous states can generate large case counts...  real   \n",
       "...     ...                                                ...   ...   \n",
       "10695  2136  #CoronaVirusUpdates: State-wise details of Tot...  real   \n",
       "10696  2137  Tonight 12(midnight) onwards Disaster Manageme...  fake   \n",
       "10697  2138  296 new cases of #COVID19Nigeria; Plateau-85 E...  real   \n",
       "10698  2139  RT @CDCemergency: #DYK? @CDCgovâ€™s One-Stop S...  real   \n",
       "10699  2140  More than half of pregnant women recently admi...  real   \n",
       "\n",
       "       profanity_scores  length  num_of_upper_char  num_of_qmarks  \\\n",
       "0              0.009465     190                  6              0   \n",
       "1              0.031755     129                 10              0   \n",
       "2              0.061657     131                 16              0   \n",
       "3              0.034314     204                 32              0   \n",
       "4              0.014909     231                 26              0   \n",
       "...                 ...     ...                ...            ...   \n",
       "10695          0.008353     300                 24              0   \n",
       "10696          0.004930     271                  7              0   \n",
       "10697          0.025429     252                 30              0   \n",
       "10698          0.025241     144                 21              1   \n",
       "10699          0.032594     180                 14              0   \n",
       "\n",
       "       num_of_exclmmarks  \n",
       "0                      0  \n",
       "1                      0  \n",
       "2                      0  \n",
       "3                      0  \n",
       "4                      0  \n",
       "...                  ...  \n",
       "10695                  0  \n",
       "10696                  0  \n",
       "10697                  0  \n",
       "10698                  0  \n",
       "10699                  0  \n",
       "\n",
       "[10700 rows x 8 columns]"
      ]
     },
     "execution_count": 13,
     "metadata": {},
     "output_type": "execute_result"
    }
   ],
   "source": [
    "df"
   ]
  },
  {
   "cell_type": "code",
   "execution_count": 14,
   "id": "16baa59c",
   "metadata": {
    "execution": {
     "iopub.execute_input": "2022-03-20T07:21:54.088960Z",
     "iopub.status.busy": "2022-03-20T07:21:54.088101Z",
     "iopub.status.idle": "2022-03-20T07:21:54.099463Z",
     "shell.execute_reply": "2022-03-20T07:21:54.099932Z",
     "shell.execute_reply.started": "2022-03-19T16:58:27.701468Z"
    },
    "papermill": {
     "duration": 0.453249,
     "end_time": "2022-03-20T07:21:54.100087",
     "exception": false,
     "start_time": "2022-03-20T07:21:53.646838",
     "status": "completed"
    },
    "tags": []
   },
   "outputs": [
    {
     "data": {
      "text/html": [
       "<div>\n",
       "<style scoped>\n",
       "    .dataframe tbody tr th:only-of-type {\n",
       "        vertical-align: middle;\n",
       "    }\n",
       "\n",
       "    .dataframe tbody tr th {\n",
       "        vertical-align: top;\n",
       "    }\n",
       "\n",
       "    .dataframe thead th {\n",
       "        text-align: right;\n",
       "    }\n",
       "</style>\n",
       "<table border=\"1\" class=\"dataframe\">\n",
       "  <thead>\n",
       "    <tr style=\"text-align: right;\">\n",
       "      <th></th>\n",
       "      <th>id</th>\n",
       "      <th>tweet</th>\n",
       "      <th>label</th>\n",
       "      <th>profanity_scores</th>\n",
       "      <th>length</th>\n",
       "      <th>num_of_upper_char</th>\n",
       "      <th>num_of_qmarks</th>\n",
       "      <th>num_of_exclmmarks</th>\n",
       "    </tr>\n",
       "  </thead>\n",
       "  <tbody>\n",
       "    <tr>\n",
       "      <th>2160</th>\n",
       "      <td>2161</td>\n",
       "      <td>Local Man Sick To Fucking Death Hearing About ...</td>\n",
       "      <td>fake</td>\n",
       "      <td>0.999747</td>\n",
       "      <td>85</td>\n",
       "      <td>16</td>\n",
       "      <td>0</td>\n",
       "      <td>0</td>\n",
       "    </tr>\n",
       "    <tr>\n",
       "      <th>4895</th>\n",
       "      <td>4896</td>\n",
       "      <td>Stoner Strung Out To Fuck Thanks To Lockdown R...</td>\n",
       "      <td>fake</td>\n",
       "      <td>0.999376</td>\n",
       "      <td>81</td>\n",
       "      <td>11</td>\n",
       "      <td>0</td>\n",
       "      <td>0</td>\n",
       "    </tr>\n",
       "    <tr>\n",
       "      <th>8557</th>\n",
       "      <td>2138</td>\n",
       "      <td>Nothing screams “I am sat around doing fuck al...</td>\n",
       "      <td>fake</td>\n",
       "      <td>0.997964</td>\n",
       "      <td>184</td>\n",
       "      <td>6</td>\n",
       "      <td>0</td>\n",
       "      <td>0</td>\n",
       "    </tr>\n",
       "    <tr>\n",
       "      <th>4927</th>\n",
       "      <td>4928</td>\n",
       "      <td>Ellie Goulding says she’s amazed there were 20...</td>\n",
       "      <td>fake</td>\n",
       "      <td>0.993335</td>\n",
       "      <td>174</td>\n",
       "      <td>13</td>\n",
       "      <td>1</td>\n",
       "      <td>0</td>\n",
       "    </tr>\n",
       "    <tr>\n",
       "      <th>8861</th>\n",
       "      <td>302</td>\n",
       "      <td>#covid19 #coronavirus #coronaoutbreak Â£10 for...</td>\n",
       "      <td>fake</td>\n",
       "      <td>0.985309</td>\n",
       "      <td>251</td>\n",
       "      <td>14</td>\n",
       "      <td>0</td>\n",
       "      <td>9</td>\n",
       "    </tr>\n",
       "  </tbody>\n",
       "</table>\n",
       "</div>"
      ],
      "text/plain": [
       "        id                                              tweet label  \\\n",
       "2160  2161  Local Man Sick To Fucking Death Hearing About ...  fake   \n",
       "4895  4896  Stoner Strung Out To Fuck Thanks To Lockdown R...  fake   \n",
       "8557  2138  Nothing screams “I am sat around doing fuck al...  fake   \n",
       "4927  4928  Ellie Goulding says she’s amazed there were 20...  fake   \n",
       "8861   302  #covid19 #coronavirus #coronaoutbreak Â£10 for...  fake   \n",
       "\n",
       "      profanity_scores  length  num_of_upper_char  num_of_qmarks  \\\n",
       "2160          0.999747      85                 16              0   \n",
       "4895          0.999376      81                 11              0   \n",
       "8557          0.997964     184                  6              0   \n",
       "4927          0.993335     174                 13              1   \n",
       "8861          0.985309     251                 14              0   \n",
       "\n",
       "      num_of_exclmmarks  \n",
       "2160                  0  \n",
       "4895                  0  \n",
       "8557                  0  \n",
       "4927                  0  \n",
       "8861                  9  "
      ]
     },
     "execution_count": 14,
     "metadata": {},
     "output_type": "execute_result"
    }
   ],
   "source": [
    "df.nlargest(5, 'profanity_scores')"
   ]
  },
  {
   "cell_type": "code",
   "execution_count": 15,
   "id": "686fd490",
   "metadata": {
    "execution": {
     "iopub.execute_input": "2022-03-20T07:21:55.022045Z",
     "iopub.status.busy": "2022-03-20T07:21:55.021226Z",
     "iopub.status.idle": "2022-03-20T07:21:55.031548Z",
     "shell.execute_reply": "2022-03-20T07:21:55.031906Z",
     "shell.execute_reply.started": "2022-03-19T16:58:27.728231Z"
    },
    "papermill": {
     "duration": 0.471636,
     "end_time": "2022-03-20T07:21:55.032046",
     "exception": false,
     "start_time": "2022-03-20T07:21:54.560410",
     "status": "completed"
    },
    "tags": []
   },
   "outputs": [
    {
     "data": {
      "text/html": [
       "<div>\n",
       "<style scoped>\n",
       "    .dataframe tbody tr th:only-of-type {\n",
       "        vertical-align: middle;\n",
       "    }\n",
       "\n",
       "    .dataframe tbody tr th {\n",
       "        vertical-align: top;\n",
       "    }\n",
       "\n",
       "    .dataframe thead th {\n",
       "        text-align: right;\n",
       "    }\n",
       "</style>\n",
       "<table border=\"1\" class=\"dataframe\">\n",
       "  <thead>\n",
       "    <tr style=\"text-align: right;\">\n",
       "      <th></th>\n",
       "      <th>id</th>\n",
       "      <th>tweet</th>\n",
       "      <th>label</th>\n",
       "      <th>profanity_scores</th>\n",
       "      <th>length</th>\n",
       "      <th>num_of_upper_char</th>\n",
       "      <th>num_of_qmarks</th>\n",
       "      <th>num_of_exclmmarks</th>\n",
       "    </tr>\n",
       "  </thead>\n",
       "  <tbody>\n",
       "    <tr>\n",
       "      <th>5464</th>\n",
       "      <td>5465</td>\n",
       "      <td>Says Sarah Huckabee Sanders tweeted, ???It???s...</td>\n",
       "      <td>fake</td>\n",
       "      <td>0.015965</td>\n",
       "      <td>338</td>\n",
       "      <td>28</td>\n",
       "      <td>34</td>\n",
       "      <td>0</td>\n",
       "    </tr>\n",
       "    <tr>\n",
       "      <th>8695</th>\n",
       "      <td>136</td>\n",
       "      <td>Italy ???went against the WHO's ???law?????ï¿½...</td>\n",
       "      <td>fake</td>\n",
       "      <td>0.121505</td>\n",
       "      <td>198</td>\n",
       "      <td>9</td>\n",
       "      <td>21</td>\n",
       "      <td>0</td>\n",
       "    </tr>\n",
       "    <tr>\n",
       "      <th>3045</th>\n",
       "      <td>3046</td>\n",
       "      <td>???President Trump just announced that the ???...</td>\n",
       "      <td>fake</td>\n",
       "      <td>0.008184</td>\n",
       "      <td>219</td>\n",
       "      <td>13</td>\n",
       "      <td>17</td>\n",
       "      <td>1</td>\n",
       "    </tr>\n",
       "    <tr>\n",
       "      <th>3291</th>\n",
       "      <td>3292</td>\n",
       "      <td>Quotes Anthony Fauci as writing, ???I reject t...</td>\n",
       "      <td>fake</td>\n",
       "      <td>0.082221</td>\n",
       "      <td>165</td>\n",
       "      <td>5</td>\n",
       "      <td>17</td>\n",
       "      <td>0</td>\n",
       "    </tr>\n",
       "    <tr>\n",
       "      <th>4420</th>\n",
       "      <td>4421</td>\n",
       "      <td>Trey Gowdy said, ???I???m not saying COVID-19 ...</td>\n",
       "      <td>fake</td>\n",
       "      <td>0.109564</td>\n",
       "      <td>149</td>\n",
       "      <td>9</td>\n",
       "      <td>17</td>\n",
       "      <td>0</td>\n",
       "    </tr>\n",
       "  </tbody>\n",
       "</table>\n",
       "</div>"
      ],
      "text/plain": [
       "        id                                              tweet label  \\\n",
       "5464  5465  Says Sarah Huckabee Sanders tweeted, ???It???s...  fake   \n",
       "8695   136  Italy ???went against the WHO's ???law?????ï¿½...  fake   \n",
       "3045  3046  ???President Trump just announced that the ???...  fake   \n",
       "3291  3292  Quotes Anthony Fauci as writing, ???I reject t...  fake   \n",
       "4420  4421  Trey Gowdy said, ???I???m not saying COVID-19 ...  fake   \n",
       "\n",
       "      profanity_scores  length  num_of_upper_char  num_of_qmarks  \\\n",
       "5464          0.015965     338                 28             34   \n",
       "8695          0.121505     198                  9             21   \n",
       "3045          0.008184     219                 13             17   \n",
       "3291          0.082221     165                  5             17   \n",
       "4420          0.109564     149                  9             17   \n",
       "\n",
       "      num_of_exclmmarks  \n",
       "5464                  0  \n",
       "8695                  0  \n",
       "3045                  1  \n",
       "3291                  0  \n",
       "4420                  0  "
      ]
     },
     "execution_count": 15,
     "metadata": {},
     "output_type": "execute_result"
    }
   ],
   "source": [
    "df.nlargest(5, 'num_of_qmarks')"
   ]
  },
  {
   "cell_type": "markdown",
   "id": "93f75491",
   "metadata": {
    "papermill": {
     "duration": 0.435214,
     "end_time": "2022-03-20T07:21:55.907143",
     "exception": false,
     "start_time": "2022-03-20T07:21:55.471929",
     "status": "completed"
    },
    "tags": []
   },
   "source": [
    "# Normalizing"
   ]
  },
  {
   "cell_type": "code",
   "execution_count": 16,
   "id": "a244abc1",
   "metadata": {
    "execution": {
     "iopub.execute_input": "2022-03-20T07:21:56.804075Z",
     "iopub.status.busy": "2022-03-20T07:21:56.803118Z",
     "iopub.status.idle": "2022-03-20T07:21:56.808206Z",
     "shell.execute_reply": "2022-03-20T07:21:56.808589Z",
     "shell.execute_reply.started": "2022-03-19T16:58:27.750157Z"
    },
    "papermill": {
     "duration": 0.462823,
     "end_time": "2022-03-20T07:21:56.808730",
     "exception": false,
     "start_time": "2022-03-20T07:21:56.345907",
     "status": "completed"
    },
    "tags": []
   },
   "outputs": [],
   "source": [
    "df['length'] = MinMaxScaler().fit_transform(np.array(df['length']).reshape(-1,1))\n",
    "df['num_of_upper_char'] = MinMaxScaler().fit_transform(np.array(df['num_of_upper_char']).reshape(-1,1))\n",
    "df['num_of_qmarks'] = MinMaxScaler().fit_transform(np.array(df['num_of_qmarks']).reshape(-1,1))\n",
    "df['num_of_exclmmarks'] = MinMaxScaler().fit_transform(np.array(df['num_of_exclmmarks']).reshape(-1,1))"
   ]
  },
  {
   "cell_type": "code",
   "execution_count": 17,
   "id": "62b8e1ee",
   "metadata": {
    "execution": {
     "iopub.execute_input": "2022-03-20T07:21:57.681960Z",
     "iopub.status.busy": "2022-03-20T07:21:57.680953Z",
     "iopub.status.idle": "2022-03-20T07:21:57.696766Z",
     "shell.execute_reply": "2022-03-20T07:21:57.697295Z",
     "shell.execute_reply.started": "2022-03-19T16:58:27.762788Z"
    },
    "papermill": {
     "duration": 0.457064,
     "end_time": "2022-03-20T07:21:57.697451",
     "exception": false,
     "start_time": "2022-03-20T07:21:57.240387",
     "status": "completed"
    },
    "tags": []
   },
   "outputs": [
    {
     "data": {
      "text/html": [
       "<div>\n",
       "<style scoped>\n",
       "    .dataframe tbody tr th:only-of-type {\n",
       "        vertical-align: middle;\n",
       "    }\n",
       "\n",
       "    .dataframe tbody tr th {\n",
       "        vertical-align: top;\n",
       "    }\n",
       "\n",
       "    .dataframe thead th {\n",
       "        text-align: right;\n",
       "    }\n",
       "</style>\n",
       "<table border=\"1\" class=\"dataframe\">\n",
       "  <thead>\n",
       "    <tr style=\"text-align: right;\">\n",
       "      <th></th>\n",
       "      <th>id</th>\n",
       "      <th>tweet</th>\n",
       "      <th>label</th>\n",
       "      <th>profanity_scores</th>\n",
       "      <th>length</th>\n",
       "      <th>num_of_upper_char</th>\n",
       "      <th>num_of_qmarks</th>\n",
       "      <th>num_of_exclmmarks</th>\n",
       "    </tr>\n",
       "  </thead>\n",
       "  <tbody>\n",
       "    <tr>\n",
       "      <th>0</th>\n",
       "      <td>1</td>\n",
       "      <td>The CDC currently reports 99031 deaths. In gen...</td>\n",
       "      <td>real</td>\n",
       "      <td>0.009465</td>\n",
       "      <td>0.016761</td>\n",
       "      <td>0.006865</td>\n",
       "      <td>0.000000</td>\n",
       "      <td>0.0</td>\n",
       "    </tr>\n",
       "    <tr>\n",
       "      <th>1</th>\n",
       "      <td>2</td>\n",
       "      <td>States reported 1121 deaths a small rise from ...</td>\n",
       "      <td>real</td>\n",
       "      <td>0.031755</td>\n",
       "      <td>0.010817</td>\n",
       "      <td>0.011442</td>\n",
       "      <td>0.000000</td>\n",
       "      <td>0.0</td>\n",
       "    </tr>\n",
       "    <tr>\n",
       "      <th>2</th>\n",
       "      <td>3</td>\n",
       "      <td>Politically Correct Woman (Almost) Uses Pandem...</td>\n",
       "      <td>fake</td>\n",
       "      <td>0.061657</td>\n",
       "      <td>0.011011</td>\n",
       "      <td>0.018307</td>\n",
       "      <td>0.000000</td>\n",
       "      <td>0.0</td>\n",
       "    </tr>\n",
       "    <tr>\n",
       "      <th>3</th>\n",
       "      <td>4</td>\n",
       "      <td>#IndiaFightsCorona: We have 1524 #COVID testin...</td>\n",
       "      <td>real</td>\n",
       "      <td>0.034314</td>\n",
       "      <td>0.018125</td>\n",
       "      <td>0.036613</td>\n",
       "      <td>0.000000</td>\n",
       "      <td>0.0</td>\n",
       "    </tr>\n",
       "    <tr>\n",
       "      <th>4</th>\n",
       "      <td>5</td>\n",
       "      <td>Populous states can generate large case counts...</td>\n",
       "      <td>real</td>\n",
       "      <td>0.014909</td>\n",
       "      <td>0.020756</td>\n",
       "      <td>0.029748</td>\n",
       "      <td>0.000000</td>\n",
       "      <td>0.0</td>\n",
       "    </tr>\n",
       "    <tr>\n",
       "      <th>...</th>\n",
       "      <td>...</td>\n",
       "      <td>...</td>\n",
       "      <td>...</td>\n",
       "      <td>...</td>\n",
       "      <td>...</td>\n",
       "      <td>...</td>\n",
       "      <td>...</td>\n",
       "      <td>...</td>\n",
       "    </tr>\n",
       "    <tr>\n",
       "      <th>10695</th>\n",
       "      <td>2136</td>\n",
       "      <td>#CoronaVirusUpdates: State-wise details of Tot...</td>\n",
       "      <td>real</td>\n",
       "      <td>0.008353</td>\n",
       "      <td>0.027480</td>\n",
       "      <td>0.027460</td>\n",
       "      <td>0.000000</td>\n",
       "      <td>0.0</td>\n",
       "    </tr>\n",
       "    <tr>\n",
       "      <th>10696</th>\n",
       "      <td>2137</td>\n",
       "      <td>Tonight 12(midnight) onwards Disaster Manageme...</td>\n",
       "      <td>fake</td>\n",
       "      <td>0.004930</td>\n",
       "      <td>0.024654</td>\n",
       "      <td>0.008009</td>\n",
       "      <td>0.000000</td>\n",
       "      <td>0.0</td>\n",
       "    </tr>\n",
       "    <tr>\n",
       "      <th>10697</th>\n",
       "      <td>2138</td>\n",
       "      <td>296 new cases of #COVID19Nigeria; Plateau-85 E...</td>\n",
       "      <td>real</td>\n",
       "      <td>0.025429</td>\n",
       "      <td>0.022803</td>\n",
       "      <td>0.034325</td>\n",
       "      <td>0.000000</td>\n",
       "      <td>0.0</td>\n",
       "    </tr>\n",
       "    <tr>\n",
       "      <th>10698</th>\n",
       "      <td>2139</td>\n",
       "      <td>RT @CDCemergency: #DYK? @CDCgovâ€™s One-Stop S...</td>\n",
       "      <td>real</td>\n",
       "      <td>0.025241</td>\n",
       "      <td>0.012278</td>\n",
       "      <td>0.024027</td>\n",
       "      <td>0.029412</td>\n",
       "      <td>0.0</td>\n",
       "    </tr>\n",
       "    <tr>\n",
       "      <th>10699</th>\n",
       "      <td>2140</td>\n",
       "      <td>More than half of pregnant women recently admi...</td>\n",
       "      <td>real</td>\n",
       "      <td>0.032594</td>\n",
       "      <td>0.015786</td>\n",
       "      <td>0.016018</td>\n",
       "      <td>0.000000</td>\n",
       "      <td>0.0</td>\n",
       "    </tr>\n",
       "  </tbody>\n",
       "</table>\n",
       "<p>10700 rows × 8 columns</p>\n",
       "</div>"
      ],
      "text/plain": [
       "         id                                              tweet label  \\\n",
       "0         1  The CDC currently reports 99031 deaths. In gen...  real   \n",
       "1         2  States reported 1121 deaths a small rise from ...  real   \n",
       "2         3  Politically Correct Woman (Almost) Uses Pandem...  fake   \n",
       "3         4  #IndiaFightsCorona: We have 1524 #COVID testin...  real   \n",
       "4         5  Populous states can generate large case counts...  real   \n",
       "...     ...                                                ...   ...   \n",
       "10695  2136  #CoronaVirusUpdates: State-wise details of Tot...  real   \n",
       "10696  2137  Tonight 12(midnight) onwards Disaster Manageme...  fake   \n",
       "10697  2138  296 new cases of #COVID19Nigeria; Plateau-85 E...  real   \n",
       "10698  2139  RT @CDCemergency: #DYK? @CDCgovâ€™s One-Stop S...  real   \n",
       "10699  2140  More than half of pregnant women recently admi...  real   \n",
       "\n",
       "       profanity_scores    length  num_of_upper_char  num_of_qmarks  \\\n",
       "0              0.009465  0.016761           0.006865       0.000000   \n",
       "1              0.031755  0.010817           0.011442       0.000000   \n",
       "2              0.061657  0.011011           0.018307       0.000000   \n",
       "3              0.034314  0.018125           0.036613       0.000000   \n",
       "4              0.014909  0.020756           0.029748       0.000000   \n",
       "...                 ...       ...                ...            ...   \n",
       "10695          0.008353  0.027480           0.027460       0.000000   \n",
       "10696          0.004930  0.024654           0.008009       0.000000   \n",
       "10697          0.025429  0.022803           0.034325       0.000000   \n",
       "10698          0.025241  0.012278           0.024027       0.029412   \n",
       "10699          0.032594  0.015786           0.016018       0.000000   \n",
       "\n",
       "       num_of_exclmmarks  \n",
       "0                    0.0  \n",
       "1                    0.0  \n",
       "2                    0.0  \n",
       "3                    0.0  \n",
       "4                    0.0  \n",
       "...                  ...  \n",
       "10695                0.0  \n",
       "10696                0.0  \n",
       "10697                0.0  \n",
       "10698                0.0  \n",
       "10699                0.0  \n",
       "\n",
       "[10700 rows x 8 columns]"
      ]
     },
     "execution_count": 17,
     "metadata": {},
     "output_type": "execute_result"
    }
   ],
   "source": [
    "df"
   ]
  },
  {
   "cell_type": "markdown",
   "id": "47afd96e",
   "metadata": {
    "papermill": {
     "duration": 0.755957,
     "end_time": "2022-03-20T07:21:59.150330",
     "exception": false,
     "start_time": "2022-03-20T07:21:58.394373",
     "status": "completed"
    },
    "tags": []
   },
   "source": [
    "# Data Preprocessing"
   ]
  },
  {
   "cell_type": "code",
   "execution_count": 18,
   "id": "e44f5c45",
   "metadata": {
    "execution": {
     "iopub.execute_input": "2022-03-20T07:22:00.031216Z",
     "iopub.status.busy": "2022-03-20T07:22:00.030610Z",
     "iopub.status.idle": "2022-03-20T07:22:00.163738Z",
     "shell.execute_reply": "2022-03-20T07:22:00.163266Z",
     "shell.execute_reply.started": "2022-03-19T16:58:27.787298Z"
    },
    "papermill": {
     "duration": 0.576773,
     "end_time": "2022-03-20T07:22:00.163861",
     "exception": false,
     "start_time": "2022-03-20T07:21:59.587088",
     "status": "completed"
    },
    "tags": []
   },
   "outputs": [
    {
     "name": "stdout",
     "output_type": "stream",
     "text": [
      "[nltk_data] Downloading package stopwords to /usr/share/nltk_data...\n",
      "[nltk_data]   Package stopwords is already up-to-date!\n"
     ]
    }
   ],
   "source": [
    "#Data Cleaning\n",
    "ps = PorterStemmer()\n",
    "nltk.download(\"stopwords\")\n",
    "en_stopwords = set(stopwords.words('english'))"
   ]
  },
  {
   "cell_type": "code",
   "execution_count": 19,
   "id": "c24843ce",
   "metadata": {
    "execution": {
     "iopub.execute_input": "2022-03-20T07:22:01.082440Z",
     "iopub.status.busy": "2022-03-20T07:22:01.080756Z",
     "iopub.status.idle": "2022-03-20T07:22:01.083004Z",
     "shell.execute_reply": "2022-03-20T07:22:01.083453Z",
     "shell.execute_reply.started": "2022-03-19T16:58:27.934304Z"
    },
    "papermill": {
     "duration": 0.460048,
     "end_time": "2022-03-20T07:22:01.083598",
     "exception": false,
     "start_time": "2022-03-20T07:22:00.623550",
     "status": "completed"
    },
    "tags": []
   },
   "outputs": [],
   "source": [
    "def cleaner(text):\n",
    "    try:\n",
    "        url_re = re.compile(r'(http|ftp|https)://([\\w+?\\.\\w+])+([a-zA-Z0-9\\~\\!\\@\\#\\$\\%\\^\\&\\*\\(\\)_\\-\\=\\+\\\\\\/\\?\\.\\:\\;\\'\\,]*)?')\n",
    "        cleaned = url_re.sub(\"\",text)\n",
    "        #print(cleaned)\n",
    "        \n",
    "        hashtag_re = re.compile(r'(#\\w+)')\n",
    "        cleaned = hashtag_re.sub(\"\",cleaned)\n",
    "        #print(cleaned)\n",
    "        \n",
    "        screen_name_re = re.compile(r'(@\\w+)')\n",
    "        cleaned = screen_name_re.sub(\"\", cleaned)\n",
    "        #print(cleaned)\n",
    "        \n",
    "        emoji_re = re.compile(\"[\"\n",
    "                u\"\\U0001F600-\\U0001F64F\"  # emoticons\n",
    "                u\"\\U0001F300-\\U0001F5FF\"  # symbols & pictographs\n",
    "                u\"\\U0001F680-\\U0001F6FF\"  # transport & map symbols\n",
    "                u\"\\U0001F1E0-\\U0001F1FF\"  # flags (iOS)\n",
    "                u\"\\U0001F1F2-\\U0001F1F4\"  # Macau flag\n",
    "                u\"\\U0001F1E6-\\U0001F1FF\"  # flags\n",
    "                u\"\\U0001F600-\\U0001F64F\"\n",
    "                u\"\\U00002702-\\U000027B0\"\n",
    "                u\"\\U000024C2-\\U0001F251\"\n",
    "                u\"\\U0001f926-\\U0001f937\"\n",
    "                u\"\\U0001F1F2\"\n",
    "                u\"\\U0001F1F4\"\n",
    "                u\"\\U0001F620\"\n",
    "                u\"\\u200d\"\n",
    "                u\"\\u2640-\\u2642\"\n",
    "                \"]+\", flags=re.UNICODE)\n",
    "        cleaned = emoji_re.sub(\"\",cleaned)\n",
    "        #print(cleaned)\n",
    "        \n",
    "        cleaned = cleaned.replace(\".\",\" \").replace(\"//\",\" \")\n",
    "        cleaned = re.sub(r'[^a-zA-Z]', \" \", cleaned) #Replacing all non-alphabets with \" \"\n",
    "        cleaned = re.sub(r'\\w+\\d+', \" \", cleaned) #Removes alphanumeric words\n",
    "        #print(\"Before Stemming: \",cleaned)\n",
    "        cleaned = ps.stem(cleaned)\n",
    "        #print(\"After Stemming: \",cleaned)\n",
    "        cleaned = \" \".join([word for word in cleaned.split() if len(word)>2]) #Removing words with len<2\n",
    "        cleaned = ' '.join([word for word in cleaned.split() if word not in en_stopwords])\n",
    "        #print(cleaned)\n",
    "        cleaned = cleaned.strip() #Removing whitespaces\n",
    "        cleaned = cleaned.lower() #Converting to lower case\n",
    "        #print(\"After Stemming Split: \",cleaned)\n",
    "    except:\n",
    "        cleaned = \"\"\n",
    "    return cleaned"
   ]
  },
  {
   "cell_type": "code",
   "execution_count": 20,
   "id": "7990f3a9",
   "metadata": {
    "execution": {
     "iopub.execute_input": "2022-03-20T07:22:02.036212Z",
     "iopub.status.busy": "2022-03-20T07:22:02.035135Z",
     "iopub.status.idle": "2022-03-20T07:22:03.321381Z",
     "shell.execute_reply": "2022-03-20T07:22:03.320886Z",
     "shell.execute_reply.started": "2022-03-19T16:58:27.948297Z"
    },
    "papermill": {
     "duration": 1.805505,
     "end_time": "2022-03-20T07:22:03.321537",
     "exception": false,
     "start_time": "2022-03-20T07:22:01.516032",
     "status": "completed"
    },
    "tags": []
   },
   "outputs": [
    {
     "data": {
      "text/html": [
       "<div>\n",
       "<style scoped>\n",
       "    .dataframe tbody tr th:only-of-type {\n",
       "        vertical-align: middle;\n",
       "    }\n",
       "\n",
       "    .dataframe tbody tr th {\n",
       "        vertical-align: top;\n",
       "    }\n",
       "\n",
       "    .dataframe thead th {\n",
       "        text-align: right;\n",
       "    }\n",
       "</style>\n",
       "<table border=\"1\" class=\"dataframe\">\n",
       "  <thead>\n",
       "    <tr style=\"text-align: right;\">\n",
       "      <th></th>\n",
       "      <th>id</th>\n",
       "      <th>tweet</th>\n",
       "      <th>label</th>\n",
       "      <th>profanity_scores</th>\n",
       "      <th>length</th>\n",
       "      <th>num_of_upper_char</th>\n",
       "      <th>num_of_qmarks</th>\n",
       "      <th>num_of_exclmmarks</th>\n",
       "    </tr>\n",
       "  </thead>\n",
       "  <tbody>\n",
       "    <tr>\n",
       "      <th>0</th>\n",
       "      <td>1</td>\n",
       "      <td>cdc currently reports deaths general discrepan...</td>\n",
       "      <td>real</td>\n",
       "      <td>0.009465</td>\n",
       "      <td>0.016761</td>\n",
       "      <td>0.006865</td>\n",
       "      <td>0.0</td>\n",
       "      <td>0.0</td>\n",
       "    </tr>\n",
       "    <tr>\n",
       "      <th>1</th>\n",
       "      <td>2</td>\n",
       "      <td>states reported deaths small rise last tuesday...</td>\n",
       "      <td>real</td>\n",
       "      <td>0.031755</td>\n",
       "      <td>0.010817</td>\n",
       "      <td>0.011442</td>\n",
       "      <td>0.0</td>\n",
       "      <td>0.0</td>\n",
       "    </tr>\n",
       "    <tr>\n",
       "      <th>2</th>\n",
       "      <td>3</td>\n",
       "      <td>politically correct woman almost uses pandemic...</td>\n",
       "      <td>fake</td>\n",
       "      <td>0.061657</td>\n",
       "      <td>0.011011</td>\n",
       "      <td>0.018307</td>\n",
       "      <td>0.0</td>\n",
       "      <td>0.0</td>\n",
       "    </tr>\n",
       "    <tr>\n",
       "      <th>3</th>\n",
       "      <td>4</td>\n",
       "      <td>testing laboratories india august tests done</td>\n",
       "      <td>real</td>\n",
       "      <td>0.034314</td>\n",
       "      <td>0.018125</td>\n",
       "      <td>0.036613</td>\n",
       "      <td>0.0</td>\n",
       "      <td>0.0</td>\n",
       "    </tr>\n",
       "    <tr>\n",
       "      <th>4</th>\n",
       "      <td>5</td>\n",
       "      <td>populous states generate large case counts loo...</td>\n",
       "      <td>real</td>\n",
       "      <td>0.014909</td>\n",
       "      <td>0.020756</td>\n",
       "      <td>0.029748</td>\n",
       "      <td>0.0</td>\n",
       "      <td>0.0</td>\n",
       "    </tr>\n",
       "  </tbody>\n",
       "</table>\n",
       "</div>"
      ],
      "text/plain": [
       "   id                                              tweet label  \\\n",
       "0   1  cdc currently reports deaths general discrepan...  real   \n",
       "1   2  states reported deaths small rise last tuesday...  real   \n",
       "2   3  politically correct woman almost uses pandemic...  fake   \n",
       "3   4       testing laboratories india august tests done  real   \n",
       "4   5  populous states generate large case counts loo...  real   \n",
       "\n",
       "   profanity_scores    length  num_of_upper_char  num_of_qmarks  \\\n",
       "0          0.009465  0.016761           0.006865            0.0   \n",
       "1          0.031755  0.010817           0.011442            0.0   \n",
       "2          0.061657  0.011011           0.018307            0.0   \n",
       "3          0.034314  0.018125           0.036613            0.0   \n",
       "4          0.014909  0.020756           0.029748            0.0   \n",
       "\n",
       "   num_of_exclmmarks  \n",
       "0                0.0  \n",
       "1                0.0  \n",
       "2                0.0  \n",
       "3                0.0  \n",
       "4                0.0  "
      ]
     },
     "execution_count": 20,
     "metadata": {},
     "output_type": "execute_result"
    }
   ],
   "source": [
    "df['tweet'] = df['tweet'].apply(lambda text: cleaner(text))\n",
    "df.head()"
   ]
  },
  {
   "cell_type": "markdown",
   "id": "4ea2532b",
   "metadata": {
    "papermill": {
     "duration": 0.43578,
     "end_time": "2022-03-20T07:22:04.200883",
     "exception": false,
     "start_time": "2022-03-20T07:22:03.765103",
     "status": "completed"
    },
    "tags": []
   },
   "source": [
    "# Generating Word Clouds"
   ]
  },
  {
   "cell_type": "code",
   "execution_count": 21,
   "id": "36850295",
   "metadata": {
    "execution": {
     "iopub.execute_input": "2022-03-20T07:22:05.080225Z",
     "iopub.status.busy": "2022-03-20T07:22:05.079359Z",
     "iopub.status.idle": "2022-03-20T07:22:05.080790Z",
     "shell.execute_reply": "2022-03-20T07:22:05.081199Z",
     "shell.execute_reply.started": "2022-03-19T16:58:29.091983Z"
    },
    "papermill": {
     "duration": 0.449469,
     "end_time": "2022-03-20T07:22:05.081338",
     "exception": false,
     "start_time": "2022-03-20T07:22:04.631869",
     "status": "completed"
    },
    "tags": []
   },
   "outputs": [],
   "source": [
    "#Function to get word frequencies in the data\n",
    "def get_word_freqs(df, col):\n",
    "    text = ' '.join(df[col])\n",
    "    text = text.split()\n",
    "    freq = pd.Series(text).value_counts()\n",
    "    return freq"
   ]
  },
  {
   "cell_type": "code",
   "execution_count": 22,
   "id": "afd7767a",
   "metadata": {
    "execution": {
     "iopub.execute_input": "2022-03-20T07:22:05.955587Z",
     "iopub.status.busy": "2022-03-20T07:22:05.954730Z",
     "iopub.status.idle": "2022-03-20T07:22:06.716422Z",
     "shell.execute_reply": "2022-03-20T07:22:06.716840Z",
     "shell.execute_reply.started": "2022-03-19T16:58:29.100343Z"
    },
    "papermill": {
     "duration": 1.205822,
     "end_time": "2022-03-20T07:22:06.716988",
     "exception": false,
     "start_time": "2022-03-20T07:22:05.511166",
     "status": "completed"
    },
    "tags": []
   },
   "outputs": [
    {
     "data": {
      "image/png": "[encoded data removed]",
      "text/plain": [
       "<Figure size 576x432 with 1 Axes>"
      ]
     },
     "metadata": {},
     "output_type": "display_data"
    }
   ],
   "source": [
    "freq_words_fake = get_word_freqs(df[df['label']=='fake'],'tweet')\n",
    "freq_words_fake = \" \".join(freq_words_fake.index)\n",
    "word_cloud=WordCloud(max_font_size=60,background_color='white').generate(freq_words_fake)\n",
    "plt.figure(figsize=(8,6))\n",
    "plt.imshow(word_cloud)\n",
    "plt.axis('off')\n",
    "plt.show()"
   ]
  },
  {
   "cell_type": "code",
   "execution_count": 23,
   "id": "9bc3dcec",
   "metadata": {
    "execution": {
     "iopub.execute_input": "2022-03-20T07:22:07.612614Z",
     "iopub.status.busy": "2022-03-20T07:22:07.611797Z",
     "iopub.status.idle": "2022-03-20T07:22:08.278147Z",
     "shell.execute_reply": "2022-03-20T07:22:08.278609Z",
     "shell.execute_reply.started": "2022-03-19T16:58:29.860573Z"
    },
    "papermill": {
     "duration": 1.116375,
     "end_time": "2022-03-20T07:22:08.278763",
     "exception": false,
     "start_time": "2022-03-20T07:22:07.162388",
     "status": "completed"
    },
    "tags": []
   },
   "outputs": [
    {
     "data": {
      "image/png": "[encoded data removed]",
      "text/plain": [
       "<Figure size 576x432 with 1 Axes>"
      ]
     },
     "metadata": {},
     "output_type": "display_data"
    }
   ],
   "source": [
    "freq_words_real = get_word_freqs(df[df['label']=='real'],'tweet')\n",
    "freq_words_real = \" \".join(freq_words_real.index)\n",
    "word_cloud=WordCloud(max_font_size=60,background_color='white').generate(freq_words_real)\n",
    "plt.figure(figsize=(8,6))\n",
    "plt.imshow(word_cloud)\n",
    "plt.axis('off')\n",
    "plt.show()"
   ]
  },
  {
   "cell_type": "code",
   "execution_count": 24,
   "id": "f8ca0fd2",
   "metadata": {
    "execution": {
     "iopub.execute_input": "2022-03-20T07:22:09.199906Z",
     "iopub.status.busy": "2022-03-20T07:22:09.199249Z",
     "iopub.status.idle": "2022-03-20T07:22:09.202034Z",
     "shell.execute_reply": "2022-03-20T07:22:09.202475Z",
     "shell.execute_reply.started": "2022-03-19T16:58:30.606834Z"
    },
    "papermill": {
     "duration": 0.471075,
     "end_time": "2022-03-20T07:22:09.202655",
     "exception": false,
     "start_time": "2022-03-20T07:22:08.731580",
     "status": "completed"
    },
    "tags": []
   },
   "outputs": [
    {
     "data": {
      "text/plain": [
       "(5600, 8)"
      ]
     },
     "execution_count": 24,
     "metadata": {},
     "output_type": "execute_result"
    }
   ],
   "source": [
    "#splitting the labels\n",
    "df_real = df[df['label']=='real']\n",
    "df_real.shape"
   ]
  },
  {
   "cell_type": "code",
   "execution_count": 25,
   "id": "c0ced728",
   "metadata": {
    "execution": {
     "iopub.execute_input": "2022-03-20T07:22:10.109552Z",
     "iopub.status.busy": "2022-03-20T07:22:10.108718Z",
     "iopub.status.idle": "2022-03-20T07:22:10.114032Z",
     "shell.execute_reply": "2022-03-20T07:22:10.114464Z",
     "shell.execute_reply.started": "2022-03-19T16:58:30.620347Z"
    },
    "papermill": {
     "duration": 0.451741,
     "end_time": "2022-03-20T07:22:10.114623",
     "exception": false,
     "start_time": "2022-03-20T07:22:09.662882",
     "status": "completed"
    },
    "tags": []
   },
   "outputs": [
    {
     "data": {
      "text/plain": [
       "(5100, 8)"
      ]
     },
     "execution_count": 25,
     "metadata": {},
     "output_type": "execute_result"
    }
   ],
   "source": [
    "df_fake = df[df['label']=='fake']\n",
    "df_fake.shape"
   ]
  },
  {
   "cell_type": "markdown",
   "id": "6169323e",
   "metadata": {
    "papermill": {
     "duration": 0.440483,
     "end_time": "2022-03-20T07:22:10.993936",
     "exception": false,
     "start_time": "2022-03-20T07:22:10.553453",
     "status": "completed"
    },
    "tags": []
   },
   "source": [
    "# Downsampling Data"
   ]
  },
  {
   "cell_type": "code",
   "execution_count": 26,
   "id": "dd144aff",
   "metadata": {
    "execution": {
     "iopub.execute_input": "2022-03-20T07:22:11.891304Z",
     "iopub.status.busy": "2022-03-20T07:22:11.889501Z",
     "iopub.status.idle": "2022-03-20T07:22:11.893551Z",
     "shell.execute_reply": "2022-03-20T07:22:11.894635Z",
     "shell.execute_reply.started": "2022-03-19T16:58:30.632945Z"
    },
    "papermill": {
     "duration": 0.457797,
     "end_time": "2022-03-20T07:22:11.894795",
     "exception": false,
     "start_time": "2022-03-20T07:22:11.436998",
     "status": "completed"
    },
    "tags": []
   },
   "outputs": [
    {
     "data": {
      "text/plain": [
       "(5100, 8)"
      ]
     },
     "execution_count": 26,
     "metadata": {},
     "output_type": "execute_result"
    }
   ],
   "source": [
    "#unbalanced data so we downsample it\n",
    "df_real_downsampled = df_real.sample(df_fake.shape[0])\n",
    "df_real_downsampled.shape"
   ]
  },
  {
   "cell_type": "code",
   "execution_count": 27,
   "id": "3f428f19",
   "metadata": {
    "execution": {
     "iopub.execute_input": "2022-03-20T07:22:12.788898Z",
     "iopub.status.busy": "2022-03-20T07:22:12.788156Z",
     "iopub.status.idle": "2022-03-20T07:22:12.795957Z",
     "shell.execute_reply": "2022-03-20T07:22:12.795545Z",
     "shell.execute_reply.started": "2022-03-19T16:58:30.643844Z"
    },
    "papermill": {
     "duration": 0.455288,
     "end_time": "2022-03-20T07:22:12.796090",
     "exception": false,
     "start_time": "2022-03-20T07:22:12.340802",
     "status": "completed"
    },
    "tags": []
   },
   "outputs": [
    {
     "data": {
      "text/plain": [
       "fake    5100\n",
       "real    5100\n",
       "Name: label, dtype: int64"
      ]
     },
     "execution_count": 27,
     "metadata": {},
     "output_type": "execute_result"
    }
   ],
   "source": [
    "df_balanced = pd.concat([df_fake, df_real_downsampled])\n",
    "df_balanced['label'].value_counts()"
   ]
  },
  {
   "cell_type": "code",
   "execution_count": 28,
   "id": "35cd0c23",
   "metadata": {
    "execution": {
     "iopub.execute_input": "2022-03-20T07:22:13.961336Z",
     "iopub.status.busy": "2022-03-20T07:22:13.960460Z",
     "iopub.status.idle": "2022-03-20T07:22:13.978632Z",
     "shell.execute_reply": "2022-03-20T07:22:13.978061Z",
     "shell.execute_reply.started": "2022-03-19T16:58:30.657841Z"
    },
    "papermill": {
     "duration": 0.471626,
     "end_time": "2022-03-20T07:22:13.978759",
     "exception": false,
     "start_time": "2022-03-20T07:22:13.507133",
     "status": "completed"
    },
    "tags": []
   },
   "outputs": [
    {
     "data": {
      "text/html": [
       "<div>\n",
       "<style scoped>\n",
       "    .dataframe tbody tr th:only-of-type {\n",
       "        vertical-align: middle;\n",
       "    }\n",
       "\n",
       "    .dataframe tbody tr th {\n",
       "        vertical-align: top;\n",
       "    }\n",
       "\n",
       "    .dataframe thead th {\n",
       "        text-align: right;\n",
       "    }\n",
       "</style>\n",
       "<table border=\"1\" class=\"dataframe\">\n",
       "  <thead>\n",
       "    <tr style=\"text-align: right;\">\n",
       "      <th></th>\n",
       "      <th>id</th>\n",
       "      <th>tweet</th>\n",
       "      <th>label</th>\n",
       "      <th>profanity_scores</th>\n",
       "      <th>length</th>\n",
       "      <th>num_of_upper_char</th>\n",
       "      <th>num_of_qmarks</th>\n",
       "      <th>num_of_exclmmarks</th>\n",
       "      <th>fake</th>\n",
       "    </tr>\n",
       "  </thead>\n",
       "  <tbody>\n",
       "    <tr>\n",
       "      <th>5045</th>\n",
       "      <td>5046</td>\n",
       "      <td>air india chicago delhi flight passengers charged</td>\n",
       "      <td>fake</td>\n",
       "      <td>0.017808</td>\n",
       "      <td>0.005554</td>\n",
       "      <td>0.005721</td>\n",
       "      <td>0.0</td>\n",
       "      <td>0.0</td>\n",
       "      <td>1</td>\n",
       "    </tr>\n",
       "    <tr>\n",
       "      <th>6563</th>\n",
       "      <td>144</td>\n",
       "      <td>people treated rajasthan first indian state ge...</td>\n",
       "      <td>fake</td>\n",
       "      <td>0.031393</td>\n",
       "      <td>0.018710</td>\n",
       "      <td>0.009153</td>\n",
       "      <td>0.0</td>\n",
       "      <td>0.0</td>\n",
       "      <td>1</td>\n",
       "    </tr>\n",
       "    <tr>\n",
       "      <th>2928</th>\n",
       "      <td>2929</td>\n",
       "      <td>india records positive cases total confirmed c...</td>\n",
       "      <td>fake</td>\n",
       "      <td>0.007410</td>\n",
       "      <td>0.026603</td>\n",
       "      <td>0.019451</td>\n",
       "      <td>0.0</td>\n",
       "      <td>0.0</td>\n",
       "      <td>1</td>\n",
       "    </tr>\n",
       "    <tr>\n",
       "      <th>1111</th>\n",
       "      <td>1112</td>\n",
       "      <td>one wrinkle data one way think know missing lo...</td>\n",
       "      <td>real</td>\n",
       "      <td>0.034626</td>\n",
       "      <td>0.017930</td>\n",
       "      <td>0.003432</td>\n",
       "      <td>0.0</td>\n",
       "      <td>0.0</td>\n",
       "      <td>0</td>\n",
       "    </tr>\n",
       "    <tr>\n",
       "      <th>7181</th>\n",
       "      <td>762</td>\n",
       "      <td>covid means vaccination identification certifi...</td>\n",
       "      <td>fake</td>\n",
       "      <td>0.034014</td>\n",
       "      <td>0.020854</td>\n",
       "      <td>0.026316</td>\n",
       "      <td>0.0</td>\n",
       "      <td>0.0</td>\n",
       "      <td>1</td>\n",
       "    </tr>\n",
       "  </tbody>\n",
       "</table>\n",
       "</div>"
      ],
      "text/plain": [
       "        id                                              tweet label  \\\n",
       "5045  5046  air india chicago delhi flight passengers charged  fake   \n",
       "6563   144  people treated rajasthan first indian state ge...  fake   \n",
       "2928  2929  india records positive cases total confirmed c...  fake   \n",
       "1111  1112  one wrinkle data one way think know missing lo...  real   \n",
       "7181   762  covid means vaccination identification certifi...  fake   \n",
       "\n",
       "      profanity_scores    length  num_of_upper_char  num_of_qmarks  \\\n",
       "5045          0.017808  0.005554           0.005721            0.0   \n",
       "6563          0.031393  0.018710           0.009153            0.0   \n",
       "2928          0.007410  0.026603           0.019451            0.0   \n",
       "1111          0.034626  0.017930           0.003432            0.0   \n",
       "7181          0.034014  0.020854           0.026316            0.0   \n",
       "\n",
       "      num_of_exclmmarks  fake  \n",
       "5045                0.0     1  \n",
       "6563                0.0     1  \n",
       "2928                0.0     1  \n",
       "1111                0.0     0  \n",
       "7181                0.0     1  "
      ]
     },
     "execution_count": 28,
     "metadata": {},
     "output_type": "execute_result"
    }
   ],
   "source": [
    "df_balanced['fake'] = df_balanced['label'].apply(lambda x: 1 if x == 'fake' else 0)\n",
    "df_balanced.sample(5)"
   ]
  },
  {
   "cell_type": "code",
   "execution_count": 29,
   "id": "bf8c433c",
   "metadata": {
    "execution": {
     "iopub.execute_input": "2022-03-20T07:22:14.889189Z",
     "iopub.status.busy": "2022-03-20T07:22:14.888245Z",
     "iopub.status.idle": "2022-03-20T07:22:14.899259Z",
     "shell.execute_reply": "2022-03-20T07:22:14.898822Z",
     "shell.execute_reply.started": "2022-03-19T16:58:30.688254Z"
    },
    "papermill": {
     "duration": 0.474624,
     "end_time": "2022-03-20T07:22:14.899380",
     "exception": false,
     "start_time": "2022-03-20T07:22:14.424756",
     "status": "completed"
    },
    "tags": []
   },
   "outputs": [
    {
     "data": {
      "text/html": [
       "<div>\n",
       "<style scoped>\n",
       "    .dataframe tbody tr th:only-of-type {\n",
       "        vertical-align: middle;\n",
       "    }\n",
       "\n",
       "    .dataframe tbody tr th {\n",
       "        vertical-align: top;\n",
       "    }\n",
       "\n",
       "    .dataframe thead th {\n",
       "        text-align: right;\n",
       "    }\n",
       "</style>\n",
       "<table border=\"1\" class=\"dataframe\">\n",
       "  <thead>\n",
       "    <tr style=\"text-align: right;\">\n",
       "      <th></th>\n",
       "      <th>profanity_scores</th>\n",
       "      <th>length</th>\n",
       "      <th>num_of_upper_char</th>\n",
       "      <th>num_of_qmarks</th>\n",
       "      <th>num_of_exclmmarks</th>\n",
       "    </tr>\n",
       "  </thead>\n",
       "  <tbody>\n",
       "    <tr>\n",
       "      <th>2</th>\n",
       "      <td>0.061657</td>\n",
       "      <td>0.011011</td>\n",
       "      <td>0.018307</td>\n",
       "      <td>0.000000</td>\n",
       "      <td>0.0</td>\n",
       "    </tr>\n",
       "    <tr>\n",
       "      <th>7</th>\n",
       "      <td>0.008688</td>\n",
       "      <td>0.006334</td>\n",
       "      <td>0.016018</td>\n",
       "      <td>0.000000</td>\n",
       "      <td>0.0</td>\n",
       "    </tr>\n",
       "    <tr>\n",
       "      <th>8</th>\n",
       "      <td>0.037274</td>\n",
       "      <td>0.007991</td>\n",
       "      <td>0.002288</td>\n",
       "      <td>0.147059</td>\n",
       "      <td>0.0</td>\n",
       "    </tr>\n",
       "    <tr>\n",
       "      <th>9</th>\n",
       "      <td>0.019782</td>\n",
       "      <td>0.014812</td>\n",
       "      <td>0.013730</td>\n",
       "      <td>0.000000</td>\n",
       "      <td>0.0</td>\n",
       "    </tr>\n",
       "    <tr>\n",
       "      <th>11</th>\n",
       "      <td>0.027528</td>\n",
       "      <td>0.019489</td>\n",
       "      <td>0.017162</td>\n",
       "      <td>0.000000</td>\n",
       "      <td>0.0</td>\n",
       "    </tr>\n",
       "    <tr>\n",
       "      <th>...</th>\n",
       "      <td>...</td>\n",
       "      <td>...</td>\n",
       "      <td>...</td>\n",
       "      <td>...</td>\n",
       "      <td>...</td>\n",
       "    </tr>\n",
       "    <tr>\n",
       "      <th>6</th>\n",
       "      <td>0.010152</td>\n",
       "      <td>0.022023</td>\n",
       "      <td>0.022883</td>\n",
       "      <td>0.000000</td>\n",
       "      <td>0.0</td>\n",
       "    </tr>\n",
       "    <tr>\n",
       "      <th>629</th>\n",
       "      <td>0.019397</td>\n",
       "      <td>0.027090</td>\n",
       "      <td>0.048055</td>\n",
       "      <td>0.000000</td>\n",
       "      <td>0.0</td>\n",
       "    </tr>\n",
       "    <tr>\n",
       "      <th>9491</th>\n",
       "      <td>0.017366</td>\n",
       "      <td>0.019489</td>\n",
       "      <td>0.009153</td>\n",
       "      <td>0.029412</td>\n",
       "      <td>0.0</td>\n",
       "    </tr>\n",
       "    <tr>\n",
       "      <th>4603</th>\n",
       "      <td>0.049863</td>\n",
       "      <td>0.020464</td>\n",
       "      <td>0.012586</td>\n",
       "      <td>0.000000</td>\n",
       "      <td>0.0</td>\n",
       "    </tr>\n",
       "    <tr>\n",
       "      <th>8543</th>\n",
       "      <td>0.009140</td>\n",
       "      <td>0.012863</td>\n",
       "      <td>0.014874</td>\n",
       "      <td>0.000000</td>\n",
       "      <td>0.0</td>\n",
       "    </tr>\n",
       "  </tbody>\n",
       "</table>\n",
       "<p>10200 rows × 5 columns</p>\n",
       "</div>"
      ],
      "text/plain": [
       "      profanity_scores    length  num_of_upper_char  num_of_qmarks  \\\n",
       "2             0.061657  0.011011           0.018307       0.000000   \n",
       "7             0.008688  0.006334           0.016018       0.000000   \n",
       "8             0.037274  0.007991           0.002288       0.147059   \n",
       "9             0.019782  0.014812           0.013730       0.000000   \n",
       "11            0.027528  0.019489           0.017162       0.000000   \n",
       "...                ...       ...                ...            ...   \n",
       "6             0.010152  0.022023           0.022883       0.000000   \n",
       "629           0.019397  0.027090           0.048055       0.000000   \n",
       "9491          0.017366  0.019489           0.009153       0.029412   \n",
       "4603          0.049863  0.020464           0.012586       0.000000   \n",
       "8543          0.009140  0.012863           0.014874       0.000000   \n",
       "\n",
       "      num_of_exclmmarks  \n",
       "2                   0.0  \n",
       "7                   0.0  \n",
       "8                   0.0  \n",
       "9                   0.0  \n",
       "11                  0.0  \n",
       "...                 ...  \n",
       "6                   0.0  \n",
       "629                 0.0  \n",
       "9491                0.0  \n",
       "4603                0.0  \n",
       "8543                0.0  \n",
       "\n",
       "[10200 rows x 5 columns]"
      ]
     },
     "execution_count": 29,
     "metadata": {},
     "output_type": "execute_result"
    }
   ],
   "source": [
    "df_features = df_balanced[[\"profanity_scores\", \"length\",\"num_of_upper_char\", \"num_of_qmarks\", \"num_of_exclmmarks\"]]\n",
    "df_features"
   ]
  },
  {
   "cell_type": "markdown",
   "id": "a0e1ea94",
   "metadata": {
    "papermill": {
     "duration": 0.466941,
     "end_time": "2022-03-20T07:22:15.813719",
     "exception": false,
     "start_time": "2022-03-20T07:22:15.346778",
     "status": "completed"
    },
    "tags": []
   },
   "source": [
    "# Model Construction"
   ]
  },
  {
   "cell_type": "code",
   "execution_count": 30,
   "id": "dc6b64de",
   "metadata": {
    "execution": {
     "iopub.execute_input": "2022-03-20T07:22:16.702419Z",
     "iopub.status.busy": "2022-03-20T07:22:16.701560Z",
     "iopub.status.idle": "2022-03-20T07:22:38.962826Z",
     "shell.execute_reply": "2022-03-20T07:22:38.963633Z",
     "shell.execute_reply.started": "2022-03-19T16:58:30.709532Z"
    },
    "papermill": {
     "duration": 22.709416,
     "end_time": "2022-03-20T07:22:38.963806",
     "exception": false,
     "start_time": "2022-03-20T07:22:16.254390",
     "status": "completed"
    },
    "tags": []
   },
   "outputs": [
    {
     "name": "stderr",
     "output_type": "stream",
     "text": [
      "2022-03-20 07:22:17.254117: I tensorflow/compiler/jit/xla_cpu_device.cc:41] Not creating XLA devices, tf_xla_enable_xla_devices not set\n",
      "2022-03-20 07:22:17.254466: I tensorflow/stream_executor/cuda/cuda_gpu_executor.cc:941] successful NUMA node read from SysFS had negative value (-1), but there must be at least one NUMA node, so returning NUMA node zero\n",
      "2022-03-20 07:22:17.255133: I tensorflow/core/common_runtime/gpu/gpu_device.cc:1720] Found device 0 with properties: \n",
      "pciBusID: 0000:00:04.0 name: Tesla P100-PCIE-16GB computeCapability: 6.0\n",
      "coreClock: 1.3285GHz coreCount: 56 deviceMemorySize: 15.90GiB deviceMemoryBandwidth: 681.88GiB/s\n",
      "2022-03-20 07:22:17.255219: I tensorflow/stream_executor/platform/default/dso_loader.cc:49] Successfully opened dynamic library libcudart.so.11.0\n",
      "2022-03-20 07:22:17.255274: I tensorflow/stream_executor/platform/default/dso_loader.cc:49] Successfully opened dynamic library libcublas.so.11\n",
      "2022-03-20 07:22:17.255295: I tensorflow/stream_executor/platform/default/dso_loader.cc:49] Successfully opened dynamic library libcublasLt.so.11\n",
      "2022-03-20 07:22:17.255316: I tensorflow/stream_executor/platform/default/dso_loader.cc:49] Successfully opened dynamic library libcufft.so.10\n",
      "2022-03-20 07:22:17.255334: I tensorflow/stream_executor/platform/default/dso_loader.cc:49] Successfully opened dynamic library libcurand.so.10\n",
      "2022-03-20 07:22:17.255353: I tensorflow/stream_executor/platform/default/dso_loader.cc:49] Successfully opened dynamic library libcusolver.so.10\n",
      "2022-03-20 07:22:17.255372: I tensorflow/stream_executor/platform/default/dso_loader.cc:49] Successfully opened dynamic library libcusparse.so.11\n",
      "2022-03-20 07:22:17.255391: I tensorflow/stream_executor/platform/default/dso_loader.cc:49] Successfully opened dynamic library libcudnn.so.8\n",
      "2022-03-20 07:22:17.255516: I tensorflow/stream_executor/cuda/cuda_gpu_executor.cc:941] successful NUMA node read from SysFS had negative value (-1), but there must be at least one NUMA node, so returning NUMA node zero\n",
      "2022-03-20 07:22:17.256177: I tensorflow/stream_executor/cuda/cuda_gpu_executor.cc:941] successful NUMA node read from SysFS had negative value (-1), but there must be at least one NUMA node, so returning NUMA node zero\n",
      "2022-03-20 07:22:17.256714: I tensorflow/core/common_runtime/gpu/gpu_device.cc:1862] Adding visible gpu devices: 0\n",
      "2022-03-20 07:22:17.256936: I tensorflow/compiler/jit/xla_gpu_device.cc:99] Not creating XLA devices, tf_xla_enable_xla_devices not set\n",
      "2022-03-20 07:22:17.257097: I tensorflow/stream_executor/cuda/cuda_gpu_executor.cc:941] successful NUMA node read from SysFS had negative value (-1), but there must be at least one NUMA node, so returning NUMA node zero\n",
      "2022-03-20 07:22:17.257654: I tensorflow/core/common_runtime/gpu/gpu_device.cc:1720] Found device 0 with properties: \n",
      "pciBusID: 0000:00:04.0 name: Tesla P100-PCIE-16GB computeCapability: 6.0\n",
      "coreClock: 1.3285GHz coreCount: 56 deviceMemorySize: 15.90GiB deviceMemoryBandwidth: 681.88GiB/s\n",
      "2022-03-20 07:22:17.257696: I tensorflow/stream_executor/platform/default/dso_loader.cc:49] Successfully opened dynamic library libcudart.so.11.0\n",
      "2022-03-20 07:22:17.257727: I tensorflow/stream_executor/platform/default/dso_loader.cc:49] Successfully opened dynamic library libcublas.so.11\n",
      "2022-03-20 07:22:17.257746: I tensorflow/stream_executor/platform/default/dso_loader.cc:49] Successfully opened dynamic library libcublasLt.so.11\n",
      "2022-03-20 07:22:17.257764: I tensorflow/stream_executor/platform/default/dso_loader.cc:49] Successfully opened dynamic library libcufft.so.10\n",
      "2022-03-20 07:22:17.257781: I tensorflow/stream_executor/platform/default/dso_loader.cc:49] Successfully opened dynamic library libcurand.so.10\n",
      "2022-03-20 07:22:17.257799: I tensorflow/stream_executor/platform/default/dso_loader.cc:49] Successfully opened dynamic library libcusolver.so.10\n",
      "2022-03-20 07:22:17.257816: I tensorflow/stream_executor/platform/default/dso_loader.cc:49] Successfully opened dynamic library libcusparse.so.11\n",
      "2022-03-20 07:22:17.257834: I tensorflow/stream_executor/platform/default/dso_loader.cc:49] Successfully opened dynamic library libcudnn.so.8\n",
      "2022-03-20 07:22:17.257910: I tensorflow/stream_executor/cuda/cuda_gpu_executor.cc:941] successful NUMA node read from SysFS had negative value (-1), but there must be at least one NUMA node, so returning NUMA node zero\n",
      "2022-03-20 07:22:17.258528: I tensorflow/stream_executor/cuda/cuda_gpu_executor.cc:941] successful NUMA node read from SysFS had negative value (-1), but there must be at least one NUMA node, so returning NUMA node zero\n",
      "2022-03-20 07:22:17.259059: I tensorflow/core/common_runtime/gpu/gpu_device.cc:1862] Adding visible gpu devices: 0\n",
      "2022-03-20 07:22:17.259117: I tensorflow/core/common_runtime/gpu/gpu_device.cc:1261] Device interconnect StreamExecutor with strength 1 edge matrix:\n",
      "2022-03-20 07:22:17.259127: I tensorflow/core/common_runtime/gpu/gpu_device.cc:1267]      0 \n",
      "2022-03-20 07:22:17.259134: I tensorflow/core/common_runtime/gpu/gpu_device.cc:1280] 0:   N \n",
      "2022-03-20 07:22:17.259290: I tensorflow/stream_executor/cuda/cuda_gpu_executor.cc:941] successful NUMA node read from SysFS had negative value (-1), but there must be at least one NUMA node, so returning NUMA node zero\n",
      "2022-03-20 07:22:17.259926: I tensorflow/stream_executor/cuda/cuda_gpu_executor.cc:941] successful NUMA node read from SysFS had negative value (-1), but there must be at least one NUMA node, so returning NUMA node zero\n",
      "2022-03-20 07:22:17.260479: I tensorflow/core/common_runtime/gpu/gpu_device.cc:1406] Created TensorFlow device (/job:localhost/replica:0/task:0/device:GPU:0 with 14957 MB memory) -> physical GPU (device: 0, name: Tesla P100-PCIE-16GB, pci bus id: 0000:00:04.0, compute capability: 6.0)\n",
      "2022-03-20 07:22:19.322854: I tensorflow/compiler/mlir/mlir_graph_optimization_pass.cc:116] None of the MLIR optimization passes are enabled (registered 2)\n",
      "2022-03-20 07:22:19.323776: I tensorflow/core/platform/profile_utils/cpu_utils.cc:112] CPU Frequency: 2000175000 Hz\n"
     ]
    }
   ],
   "source": [
    "bert_preprocess = hub.KerasLayer(\"https://tfhub.dev/tensorflow/bert_en_uncased_preprocess/3\")\n",
    "bert_encoder = hub.KerasLayer(\"https://tfhub.dev/tensorflow/bert_en_uncased_L-12_H-768_A-12/4\")"
   ]
  },
  {
   "cell_type": "code",
   "execution_count": 31,
   "id": "51efa37d",
   "metadata": {
    "execution": {
     "iopub.execute_input": "2022-03-20T07:22:39.851795Z",
     "iopub.status.busy": "2022-03-20T07:22:39.850893Z",
     "iopub.status.idle": "2022-03-20T07:22:39.852711Z",
     "shell.execute_reply": "2022-03-20T07:22:39.853141Z",
     "shell.execute_reply.started": "2022-03-19T16:58:50.193096Z"
    },
    "papermill": {
     "duration": 0.44697,
     "end_time": "2022-03-20T07:22:39.853284",
     "exception": false,
     "start_time": "2022-03-20T07:22:39.406314",
     "status": "completed"
    },
    "tags": []
   },
   "outputs": [],
   "source": [
    "def get_sentence_embeding(sentences):\n",
    "    preprocessed_text = bert_preprocess(sentences)\n",
    "    return bert_encoder(preprocessed_text)['pooled_output']"
   ]
  },
  {
   "cell_type": "code",
   "execution_count": 32,
   "id": "16061b84",
   "metadata": {
    "execution": {
     "iopub.execute_input": "2022-03-20T07:22:40.754128Z",
     "iopub.status.busy": "2022-03-20T07:22:40.747776Z",
     "iopub.status.idle": "2022-03-20T07:22:41.753695Z",
     "shell.execute_reply": "2022-03-20T07:22:41.753223Z",
     "shell.execute_reply.started": "2022-03-19T16:58:50.200468Z"
    },
    "papermill": {
     "duration": 1.460016,
     "end_time": "2022-03-20T07:22:41.753825",
     "exception": false,
     "start_time": "2022-03-20T07:22:40.293809",
     "status": "completed"
    },
    "tags": []
   },
   "outputs": [],
   "source": [
    "#Bert Layers\n",
    "text_input = tf.keras.layers.Input(shape=(), dtype=tf.string, name='text')\n",
    "feature_input = tf.keras.layers.Input((5,))\n",
    "preprocessed_text = bert_preprocess(text_input)\n",
    "outputs = bert_encoder(preprocessed_text)\n",
    "concat= tf.keras.layers.Concatenate()([outputs['pooled_output'], feature_input])\n",
    "\n",
    "#Neural Network Layers\n",
    "dropout = tf.keras.layers.Dropout(0.1, name='dropout')(concat)\n",
    "fc1 = tf.keras.layers.Dense(512, activation='relu', name='fullyConnected1')(outputs['pooled_output'])\n",
    "dropout = tf.keras.layers.Dropout(0.1, name='dropout')(fc1)\n",
    "fc2 = tf.keras.layers.Dense(256, activation='relu', name='fullyConnected2')(dropout)\n",
    "dense = tf.keras.layers.Dense(1, activation='sigmoid', name='output')(fc2)\n",
    "\n",
    "# # fc1 = tf.keras.layers.Dense(512, activation='relu', name='fullyConnected1')(concat)\n",
    "# # dropout = tf.keras.layers.Dropout(0.1, name='dropout')(fc1)\n",
    "# # fc2 = tf.keras.layers.Dense(256, activation='relu', name='fullyConnected2')(dropout)\n",
    "# # dense = tf.keras.layers.Dense(1, activation='sigmoid', name='output')(fc2)\n",
    "\n",
    "#Final Model\n",
    "model = tf.keras.Model(inputs=[text_input, feature_input], outputs=[dense])"
   ]
  },
  {
   "cell_type": "code",
   "execution_count": 33,
   "id": "aa2bc0e1",
   "metadata": {
    "execution": {
     "iopub.execute_input": "2022-03-20T07:22:42.657445Z",
     "iopub.status.busy": "2022-03-20T07:22:42.656568Z",
     "iopub.status.idle": "2022-03-20T07:22:42.687122Z",
     "shell.execute_reply": "2022-03-20T07:22:42.686677Z",
     "shell.execute_reply.started": "2022-03-19T16:58:52.203921Z"
    },
    "papermill": {
     "duration": 0.487861,
     "end_time": "2022-03-20T07:22:42.687243",
     "exception": false,
     "start_time": "2022-03-20T07:22:42.199382",
     "status": "completed"
    },
    "tags": []
   },
   "outputs": [
    {
     "name": "stdout",
     "output_type": "stream",
     "text": [
      "Model: \"model\"\n",
      "__________________________________________________________________________________________________\n",
      "Layer (type)                    Output Shape         Param #     Connected to                     \n",
      "==================================================================================================\n",
      "text (InputLayer)               [(None,)]            0                                            \n",
      "__________________________________________________________________________________________________\n",
      "keras_layer (KerasLayer)        {'input_word_ids': ( 0           text[0][0]                       \n",
      "__________________________________________________________________________________________________\n",
      "keras_layer_1 (KerasLayer)      {'sequence_output':  109482241   keras_layer[0][0]                \n",
      "                                                                 keras_layer[0][1]                \n",
      "                                                                 keras_layer[0][2]                \n",
      "__________________________________________________________________________________________________\n",
      "fullyConnected1 (Dense)         (None, 512)          393728      keras_layer_1[0][13]             \n",
      "__________________________________________________________________________________________________\n",
      "dropout (Dropout)               (None, 512)          0           fullyConnected1[0][0]            \n",
      "__________________________________________________________________________________________________\n",
      "fullyConnected2 (Dense)         (None, 256)          131328      dropout[0][0]                    \n",
      "__________________________________________________________________________________________________\n",
      "input_1 (InputLayer)            [(None, 5)]          0                                            \n",
      "__________________________________________________________________________________________________\n",
      "output (Dense)                  (None, 1)            257         fullyConnected2[0][0]            \n",
      "==================================================================================================\n",
      "Total params: 110,007,554\n",
      "Trainable params: 525,313\n",
      "Non-trainable params: 109,482,241\n",
      "__________________________________________________________________________________________________\n"
     ]
    }
   ],
   "source": [
    "METRICS = [\n",
    "    tf.keras.metrics.BinaryAccuracy(name='accuracy'),\n",
    "    tf.keras.metrics.Precision(name='precision'),\n",
    "    tf.keras.metrics.Recall(name='recall')\n",
    "]\n",
    "model.compile(optimizer='adam',\n",
    "             loss='binary_crossentropy',\n",
    "             metrics=METRICS)\n",
    "model.summary()"
   ]
  },
  {
   "cell_type": "code",
   "execution_count": 34,
   "id": "932a1be0",
   "metadata": {
    "execution": {
     "iopub.execute_input": "2022-03-20T07:22:43.636752Z",
     "iopub.status.busy": "2022-03-20T07:22:43.636140Z",
     "iopub.status.idle": "2022-03-20T07:22:43.637640Z",
     "shell.execute_reply": "2022-03-20T07:22:43.637216Z",
     "shell.execute_reply.started": "2022-03-19T16:58:52.253581Z"
    },
    "papermill": {
     "duration": 0.45546,
     "end_time": "2022-03-20T07:22:43.637751",
     "exception": false,
     "start_time": "2022-03-20T07:22:43.182291",
     "status": "completed"
    },
    "tags": []
   },
   "outputs": [],
   "source": [
    "# #Bert Layers\n",
    "# text_input = tf.keras.layers.Input(shape=(), dtype=tf.string, name='text')\n",
    "# preprocessed_text = bert_preprocess(text_input)\n",
    "# outputs = bert_encoder(preprocessed_text)\n",
    "\n",
    "# #Neural Network Layers\n",
    "# fc1 = tf.keras.layers.Dense(512, activation='relu', name='fullyConnected1')(outputs['pooled_output'])\n",
    "# dropout = tf.keras.layers.Dropout(0.1, name='dropout')(fc1)\n",
    "# fc2 = tf.keras.layers.Dense(256, activation='relu', name='fullyConnected2')(dropout)\n",
    "# dense = tf.keras.layers.Dense(1, activation='sigmoid', name='output')(fc2)\n",
    "\n",
    "# #Final Model\n",
    "# model2 = tf.keras.Model(inputs=[text_input], outputs=[dense])"
   ]
  },
  {
   "cell_type": "code",
   "execution_count": 35,
   "id": "b462bd6c",
   "metadata": {
    "execution": {
     "iopub.execute_input": "2022-03-20T07:22:44.541094Z",
     "iopub.status.busy": "2022-03-20T07:22:44.540146Z",
     "iopub.status.idle": "2022-03-20T07:22:44.542133Z",
     "shell.execute_reply": "2022-03-20T07:22:44.542569Z",
     "shell.execute_reply.started": "2022-03-19T16:58:52.25953Z"
    },
    "papermill": {
     "duration": 0.465523,
     "end_time": "2022-03-20T07:22:44.542714",
     "exception": false,
     "start_time": "2022-03-20T07:22:44.077191",
     "status": "completed"
    },
    "tags": []
   },
   "outputs": [],
   "source": [
    "# #Bert Layers\n",
    "# text_input = tf.keras.layers.Input(shape=(), dtype=tf.string, name='text')\n",
    "# preprocessed_text = bert_preprocess(text_input)\n",
    "# outputs = bert_encoder(preprocessed_text)\n",
    "\n",
    "# #Neural Network Layers\n",
    "# fc1 = tf.keras.layers.Dense(512, activation='relu', name='fullyConnected1')(outputs['pooled_output'])\n",
    "# dropout = tf.keras.layers.Dropout(0.1, name='dropout')(fc1)\n",
    "# fc2 = tf.keras.layers.Dense(256, activation='relu', name='fullyConnected2')(dropout)\n",
    "# dense = tf.keras.layers.Dense(1, activation='sigmoid', name='output')(fc2)\n",
    "\n",
    "# #Final Model\n",
    "# model2 = tf.keras.Model(inputs=[text_input], outputs=[dense])"
   ]
  },
  {
   "cell_type": "code",
   "execution_count": 36,
   "id": "90712ab2",
   "metadata": {
    "execution": {
     "iopub.execute_input": "2022-03-20T07:22:45.481313Z",
     "iopub.status.busy": "2022-03-20T07:22:45.480447Z",
     "iopub.status.idle": "2022-03-20T07:22:45.482277Z",
     "shell.execute_reply": "2022-03-20T07:22:45.482766Z",
     "shell.execute_reply.started": "2022-03-19T16:58:52.269582Z"
    },
    "papermill": {
     "duration": 0.454289,
     "end_time": "2022-03-20T07:22:45.482902",
     "exception": false,
     "start_time": "2022-03-20T07:22:45.028613",
     "status": "completed"
    },
    "tags": []
   },
   "outputs": [],
   "source": [
    "X_train = df_balanced[['tweet']] \n",
    "y_train = df_balanced[['fake']]"
   ]
  },
  {
   "cell_type": "code",
   "execution_count": 37,
   "id": "eaf08909",
   "metadata": {
    "execution": {
     "iopub.execute_input": "2022-03-20T07:22:46.630436Z",
     "iopub.status.busy": "2022-03-20T07:22:46.629802Z",
     "iopub.status.idle": "2022-03-20T07:22:46.631366Z",
     "shell.execute_reply": "2022-03-20T07:22:46.630894Z",
     "shell.execute_reply.started": "2022-03-19T16:58:52.282618Z"
    },
    "papermill": {
     "duration": 0.688148,
     "end_time": "2022-03-20T07:22:46.631486",
     "exception": false,
     "start_time": "2022-03-20T07:22:45.943338",
     "status": "completed"
    },
    "tags": []
   },
   "outputs": [],
   "source": [
    "# df_val = pd.read_csv(\"../input/covid-misinfo/Constraint_English_Val.csv\")\n",
    "# df_val['tweet'] = df_val['tweet'].apply(lambda text: cleaner(text))\n",
    "# df_val['fake'] = df_val['label'].apply(lambda x: 1 if x == 'fake' else 0)\n",
    "# X_val = df_val[['tweet']] \n",
    "# y_val = df_val[['fake']]"
   ]
  },
  {
   "cell_type": "code",
   "execution_count": 38,
   "id": "d74641d1",
   "metadata": {
    "execution": {
     "iopub.execute_input": "2022-03-20T07:22:47.530613Z",
     "iopub.status.busy": "2022-03-20T07:22:47.529970Z",
     "iopub.status.idle": "2022-03-20T07:22:47.533670Z",
     "shell.execute_reply": "2022-03-20T07:22:47.533232Z",
     "shell.execute_reply.started": "2022-03-19T16:58:52.288989Z"
    },
    "papermill": {
     "duration": 0.456874,
     "end_time": "2022-03-20T07:22:47.533799",
     "exception": false,
     "start_time": "2022-03-20T07:22:47.076925",
     "status": "completed"
    },
    "tags": []
   },
   "outputs": [],
   "source": [
    "callbacks = [\n",
    "    tf.keras.callbacks.EarlyStopping(monitor='loss', patience=5, verbose=1, mode=\"min\"),\n",
    "    tf.keras.callbacks.ReduceLROnPlateau(monitor='loss',\n",
    "                              mode='min',\n",
    "                              verbose=1,\n",
    "                              patience=3,\n",
    "                              min_delta=0.0001,\n",
    "                              factor=0.2\n",
    "                             )\n",
    "]"
   ]
  },
  {
   "cell_type": "markdown",
   "id": "cf1f74a1",
   "metadata": {
    "papermill": {
     "duration": 0.443798,
     "end_time": "2022-03-20T07:22:48.415796",
     "exception": false,
     "start_time": "2022-03-20T07:22:47.971998",
     "status": "completed"
    },
    "tags": []
   },
   "source": [
    "# Training the Model"
   ]
  },
  {
   "cell_type": "code",
   "execution_count": 39,
   "id": "17947294",
   "metadata": {
    "execution": {
     "iopub.execute_input": "2022-03-20T07:22:49.340197Z",
     "iopub.status.busy": "2022-03-20T07:22:49.339299Z",
     "iopub.status.idle": "2022-03-20T07:22:49.345576Z",
     "shell.execute_reply": "2022-03-20T07:22:49.345964Z",
     "shell.execute_reply.started": "2022-03-19T16:58:52.298781Z"
    },
    "papermill": {
     "duration": 0.475856,
     "end_time": "2022-03-20T07:22:49.346133",
     "exception": false,
     "start_time": "2022-03-20T07:22:48.870277",
     "status": "completed"
    },
    "tags": []
   },
   "outputs": [
    {
     "data": {
      "text/html": [
       "<div>\n",
       "<style scoped>\n",
       "    .dataframe tbody tr th:only-of-type {\n",
       "        vertical-align: middle;\n",
       "    }\n",
       "\n",
       "    .dataframe tbody tr th {\n",
       "        vertical-align: top;\n",
       "    }\n",
       "\n",
       "    .dataframe thead th {\n",
       "        text-align: right;\n",
       "    }\n",
       "</style>\n",
       "<table border=\"1\" class=\"dataframe\">\n",
       "  <thead>\n",
       "    <tr style=\"text-align: right;\">\n",
       "      <th></th>\n",
       "      <th>tweet</th>\n",
       "    </tr>\n",
       "  </thead>\n",
       "  <tbody>\n",
       "    <tr>\n",
       "      <th>2</th>\n",
       "      <td>politically correct woman almost uses pandemic...</td>\n",
       "    </tr>\n",
       "    <tr>\n",
       "      <th>7</th>\n",
       "      <td>obama calls trump coronavirus response chaotic...</td>\n",
       "    </tr>\n",
       "    <tr>\n",
       "      <th>8</th>\n",
       "      <td>clearly obama administration leave kind game p...</td>\n",
       "    </tr>\n",
       "    <tr>\n",
       "      <th>9</th>\n",
       "      <td>retraction hydroxychloroquine chloroquine with...</td>\n",
       "    </tr>\n",
       "    <tr>\n",
       "      <th>11</th>\n",
       "      <td>nba poised restart month march reported utah j...</td>\n",
       "    </tr>\n",
       "    <tr>\n",
       "      <th>...</th>\n",
       "      <td>...</td>\n",
       "    </tr>\n",
       "    <tr>\n",
       "      <th>6</th>\n",
       "      <td>tested positive symptoms stay home away people...</td>\n",
       "    </tr>\n",
       "    <tr>\n",
       "      <th>629</th>\n",
       "      <td>consumer affairs agency japan warned people ea...</td>\n",
       "    </tr>\n",
       "    <tr>\n",
       "      <th>9491</th>\n",
       "      <td>common question coronavirus cases going testin...</td>\n",
       "    </tr>\n",
       "    <tr>\n",
       "      <th>4603</th>\n",
       "      <td>second case woman arrived new zealand august p...</td>\n",
       "    </tr>\n",
       "    <tr>\n",
       "      <th>8543</th>\n",
       "      <td>cases years age group deaths years age group</td>\n",
       "    </tr>\n",
       "  </tbody>\n",
       "</table>\n",
       "<p>10200 rows × 1 columns</p>\n",
       "</div>"
      ],
      "text/plain": [
       "                                                  tweet\n",
       "2     politically correct woman almost uses pandemic...\n",
       "7     obama calls trump coronavirus response chaotic...\n",
       "8     clearly obama administration leave kind game p...\n",
       "9     retraction hydroxychloroquine chloroquine with...\n",
       "11    nba poised restart month march reported utah j...\n",
       "...                                                 ...\n",
       "6     tested positive symptoms stay home away people...\n",
       "629   consumer affairs agency japan warned people ea...\n",
       "9491  common question coronavirus cases going testin...\n",
       "4603  second case woman arrived new zealand august p...\n",
       "8543       cases years age group deaths years age group\n",
       "\n",
       "[10200 rows x 1 columns]"
      ]
     },
     "execution_count": 39,
     "metadata": {},
     "output_type": "execute_result"
    }
   ],
   "source": [
    "X_train"
   ]
  },
  {
   "cell_type": "code",
   "execution_count": 40,
   "id": "d1d63862",
   "metadata": {
    "execution": {
     "iopub.execute_input": "2022-03-20T07:22:50.277719Z",
     "iopub.status.busy": "2022-03-20T07:22:50.276946Z",
     "iopub.status.idle": "2022-03-20T07:22:50.280039Z",
     "shell.execute_reply": "2022-03-20T07:22:50.280449Z",
     "shell.execute_reply.started": "2022-03-19T16:58:52.315494Z"
    },
    "papermill": {
     "duration": 0.486605,
     "end_time": "2022-03-20T07:22:50.280589",
     "exception": false,
     "start_time": "2022-03-20T07:22:49.793984",
     "status": "completed"
    },
    "tags": []
   },
   "outputs": [
    {
     "data": {
      "text/html": [
       "<div>\n",
       "<style scoped>\n",
       "    .dataframe tbody tr th:only-of-type {\n",
       "        vertical-align: middle;\n",
       "    }\n",
       "\n",
       "    .dataframe tbody tr th {\n",
       "        vertical-align: top;\n",
       "    }\n",
       "\n",
       "    .dataframe thead th {\n",
       "        text-align: right;\n",
       "    }\n",
       "</style>\n",
       "<table border=\"1\" class=\"dataframe\">\n",
       "  <thead>\n",
       "    <tr style=\"text-align: right;\">\n",
       "      <th></th>\n",
       "      <th>profanity_scores</th>\n",
       "      <th>length</th>\n",
       "      <th>num_of_upper_char</th>\n",
       "      <th>num_of_qmarks</th>\n",
       "      <th>num_of_exclmmarks</th>\n",
       "    </tr>\n",
       "  </thead>\n",
       "  <tbody>\n",
       "    <tr>\n",
       "      <th>2</th>\n",
       "      <td>0.061657</td>\n",
       "      <td>0.011011</td>\n",
       "      <td>0.018307</td>\n",
       "      <td>0.000000</td>\n",
       "      <td>0.0</td>\n",
       "    </tr>\n",
       "    <tr>\n",
       "      <th>7</th>\n",
       "      <td>0.008688</td>\n",
       "      <td>0.006334</td>\n",
       "      <td>0.016018</td>\n",
       "      <td>0.000000</td>\n",
       "      <td>0.0</td>\n",
       "    </tr>\n",
       "    <tr>\n",
       "      <th>8</th>\n",
       "      <td>0.037274</td>\n",
       "      <td>0.007991</td>\n",
       "      <td>0.002288</td>\n",
       "      <td>0.147059</td>\n",
       "      <td>0.0</td>\n",
       "    </tr>\n",
       "    <tr>\n",
       "      <th>9</th>\n",
       "      <td>0.019782</td>\n",
       "      <td>0.014812</td>\n",
       "      <td>0.013730</td>\n",
       "      <td>0.000000</td>\n",
       "      <td>0.0</td>\n",
       "    </tr>\n",
       "    <tr>\n",
       "      <th>11</th>\n",
       "      <td>0.027528</td>\n",
       "      <td>0.019489</td>\n",
       "      <td>0.017162</td>\n",
       "      <td>0.000000</td>\n",
       "      <td>0.0</td>\n",
       "    </tr>\n",
       "    <tr>\n",
       "      <th>...</th>\n",
       "      <td>...</td>\n",
       "      <td>...</td>\n",
       "      <td>...</td>\n",
       "      <td>...</td>\n",
       "      <td>...</td>\n",
       "    </tr>\n",
       "    <tr>\n",
       "      <th>6</th>\n",
       "      <td>0.010152</td>\n",
       "      <td>0.022023</td>\n",
       "      <td>0.022883</td>\n",
       "      <td>0.000000</td>\n",
       "      <td>0.0</td>\n",
       "    </tr>\n",
       "    <tr>\n",
       "      <th>629</th>\n",
       "      <td>0.019397</td>\n",
       "      <td>0.027090</td>\n",
       "      <td>0.048055</td>\n",
       "      <td>0.000000</td>\n",
       "      <td>0.0</td>\n",
       "    </tr>\n",
       "    <tr>\n",
       "      <th>9491</th>\n",
       "      <td>0.017366</td>\n",
       "      <td>0.019489</td>\n",
       "      <td>0.009153</td>\n",
       "      <td>0.029412</td>\n",
       "      <td>0.0</td>\n",
       "    </tr>\n",
       "    <tr>\n",
       "      <th>4603</th>\n",
       "      <td>0.049863</td>\n",
       "      <td>0.020464</td>\n",
       "      <td>0.012586</td>\n",
       "      <td>0.000000</td>\n",
       "      <td>0.0</td>\n",
       "    </tr>\n",
       "    <tr>\n",
       "      <th>8543</th>\n",
       "      <td>0.009140</td>\n",
       "      <td>0.012863</td>\n",
       "      <td>0.014874</td>\n",
       "      <td>0.000000</td>\n",
       "      <td>0.0</td>\n",
       "    </tr>\n",
       "  </tbody>\n",
       "</table>\n",
       "<p>10200 rows × 5 columns</p>\n",
       "</div>"
      ],
      "text/plain": [
       "      profanity_scores    length  num_of_upper_char  num_of_qmarks  \\\n",
       "2             0.061657  0.011011           0.018307       0.000000   \n",
       "7             0.008688  0.006334           0.016018       0.000000   \n",
       "8             0.037274  0.007991           0.002288       0.147059   \n",
       "9             0.019782  0.014812           0.013730       0.000000   \n",
       "11            0.027528  0.019489           0.017162       0.000000   \n",
       "...                ...       ...                ...            ...   \n",
       "6             0.010152  0.022023           0.022883       0.000000   \n",
       "629           0.019397  0.027090           0.048055       0.000000   \n",
       "9491          0.017366  0.019489           0.009153       0.029412   \n",
       "4603          0.049863  0.020464           0.012586       0.000000   \n",
       "8543          0.009140  0.012863           0.014874       0.000000   \n",
       "\n",
       "      num_of_exclmmarks  \n",
       "2                   0.0  \n",
       "7                   0.0  \n",
       "8                   0.0  \n",
       "9                   0.0  \n",
       "11                  0.0  \n",
       "...                 ...  \n",
       "6                   0.0  \n",
       "629                 0.0  \n",
       "9491                0.0  \n",
       "4603                0.0  \n",
       "8543                0.0  \n",
       "\n",
       "[10200 rows x 5 columns]"
      ]
     },
     "execution_count": 40,
     "metadata": {},
     "output_type": "execute_result"
    }
   ],
   "source": [
    "df_features"
   ]
  },
  {
   "cell_type": "code",
   "execution_count": 41,
   "id": "4379d865",
   "metadata": {
    "execution": {
     "iopub.execute_input": "2022-03-20T07:22:51.209783Z",
     "iopub.status.busy": "2022-03-20T07:22:51.208125Z",
     "iopub.status.idle": "2022-03-20T07:22:51.212401Z",
     "shell.execute_reply": "2022-03-20T07:22:51.211923Z",
     "shell.execute_reply.started": "2022-03-19T16:58:52.338901Z"
    },
    "papermill": {
     "duration": 0.472127,
     "end_time": "2022-03-20T07:22:51.212544",
     "exception": false,
     "start_time": "2022-03-20T07:22:50.740417",
     "status": "completed"
    },
    "tags": []
   },
   "outputs": [],
   "source": [
    "#tf.config.run_functions_eagerly(True)"
   ]
  },
  {
   "cell_type": "code",
   "execution_count": 42,
   "id": "735b9f74",
   "metadata": {
    "execution": {
     "iopub.execute_input": "2022-03-20T07:22:52.121890Z",
     "iopub.status.busy": "2022-03-20T07:22:52.121057Z",
     "iopub.status.idle": "2022-03-20T08:08:50.166765Z",
     "shell.execute_reply": "2022-03-20T08:08:50.166267Z"
    },
    "papermill": {
     "duration": 2758.503512,
     "end_time": "2022-03-20T08:08:50.166913",
     "exception": false,
     "start_time": "2022-03-20T07:22:51.663401",
     "status": "completed"
    },
    "tags": []
   },
   "outputs": [
    {
     "name": "stdout",
     "output_type": "stream",
     "text": [
      "Epoch 1/40\n"
     ]
    },
    {
     "name": "stderr",
     "output_type": "stream",
     "text": [
      "2022-03-20 07:22:59.870590: I tensorflow/stream_executor/platform/default/dso_loader.cc:49] Successfully opened dynamic library libcublas.so.11\n",
      "2022-03-20 07:23:00.604048: I tensorflow/stream_executor/platform/default/dso_loader.cc:49] Successfully opened dynamic library libcublasLt.so.11\n"
     ]
    },
    {
     "name": "stdout",
     "output_type": "stream",
     "text": [
      "319/319 [==============================] - 76s 212ms/step - loss: 0.5698 - accuracy: 0.7039 - precision: 0.7006 - recall: 0.6820\n",
      "Epoch 2/40\n",
      "319/319 [==============================] - 68s 212ms/step - loss: 0.3757 - accuracy: 0.8364 - precision: 0.8347 - recall: 0.8423\n",
      "Epoch 3/40\n",
      "319/319 [==============================] - 68s 212ms/step - loss: 0.3551 - accuracy: 0.8478 - precision: 0.8442 - recall: 0.8478\n",
      "Epoch 4/40\n",
      "319/319 [==============================] - 67s 211ms/step - loss: 0.3578 - accuracy: 0.8461 - precision: 0.8438 - recall: 0.8421\n",
      "Epoch 5/40\n",
      "319/319 [==============================] - 68s 214ms/step - loss: 0.3310 - accuracy: 0.8544 - precision: 0.8524 - recall: 0.8629\n",
      "Epoch 6/40\n",
      "319/319 [==============================] - 68s 212ms/step - loss: 0.3196 - accuracy: 0.8616 - precision: 0.8554 - recall: 0.8723\n",
      "Epoch 7/40\n",
      "319/319 [==============================] - 68s 212ms/step - loss: 0.3340 - accuracy: 0.8556 - precision: 0.8496 - recall: 0.8600\n",
      "Epoch 8/40\n",
      "319/319 [==============================] - 68s 213ms/step - loss: 0.3260 - accuracy: 0.8602 - precision: 0.8513 - recall: 0.8721\n",
      "Epoch 9/40\n",
      "319/319 [==============================] - 68s 212ms/step - loss: 0.3238 - accuracy: 0.8595 - precision: 0.8536 - recall: 0.8651\n",
      "Epoch 10/40\n",
      "319/319 [==============================] - 68s 213ms/step - loss: 0.3300 - accuracy: 0.8593 - precision: 0.8529 - recall: 0.8696\n",
      "Epoch 11/40\n",
      "319/319 [==============================] - 69s 216ms/step - loss: 0.3051 - accuracy: 0.8753 - precision: 0.8673 - recall: 0.8871\n",
      "Epoch 12/40\n",
      "319/319 [==============================] - 68s 214ms/step - loss: 0.3273 - accuracy: 0.8590 - precision: 0.8532 - recall: 0.8629\n",
      "Epoch 13/40\n",
      "319/319 [==============================] - 68s 213ms/step - loss: 0.3002 - accuracy: 0.8710 - precision: 0.8651 - recall: 0.8801\n",
      "Epoch 14/40\n",
      "319/319 [==============================] - 68s 213ms/step - loss: 0.3058 - accuracy: 0.8750 - precision: 0.8742 - recall: 0.8789\n",
      "Epoch 15/40\n",
      "319/319 [==============================] - 68s 214ms/step - loss: 0.3135 - accuracy: 0.8670 - precision: 0.8628 - recall: 0.8754\n",
      "Epoch 16/40\n",
      "319/319 [==============================] - 68s 214ms/step - loss: 0.3096 - accuracy: 0.8691 - precision: 0.8636 - recall: 0.8786\n",
      "\n",
      "Epoch 00016: ReduceLROnPlateau reducing learning rate to 0.00020000000949949026.\n",
      "Epoch 17/40\n",
      "319/319 [==============================] - 69s 216ms/step - loss: 0.2866 - accuracy: 0.8816 - precision: 0.8711 - recall: 0.8983\n",
      "Epoch 18/40\n",
      "319/319 [==============================] - 69s 217ms/step - loss: 0.2822 - accuracy: 0.8820 - precision: 0.8736 - recall: 0.8916\n",
      "Epoch 19/40\n",
      "319/319 [==============================] - 68s 214ms/step - loss: 0.2806 - accuracy: 0.8873 - precision: 0.8816 - recall: 0.8947\n",
      "Epoch 20/40\n",
      "319/319 [==============================] - 68s 214ms/step - loss: 0.2731 - accuracy: 0.8890 - precision: 0.8818 - recall: 0.8979\n",
      "Epoch 21/40\n",
      "319/319 [==============================] - 69s 215ms/step - loss: 0.2621 - accuracy: 0.8935 - precision: 0.8863 - recall: 0.9038\n",
      "Epoch 22/40\n",
      "319/319 [==============================] - 69s 216ms/step - loss: 0.2694 - accuracy: 0.8903 - precision: 0.8860 - recall: 0.8954\n",
      "Epoch 23/40\n",
      "319/319 [==============================] - 69s 215ms/step - loss: 0.2741 - accuracy: 0.8878 - precision: 0.8820 - recall: 0.8973\n",
      "Epoch 24/40\n",
      "319/319 [==============================] - 69s 217ms/step - loss: 0.2787 - accuracy: 0.8889 - precision: 0.8831 - recall: 0.8959\n",
      "Epoch 25/40\n",
      "319/319 [==============================] - 69s 217ms/step - loss: 0.2724 - accuracy: 0.8826 - precision: 0.8737 - recall: 0.8981\n",
      "Epoch 26/40\n",
      "319/319 [==============================] - 69s 217ms/step - loss: 0.2790 - accuracy: 0.8836 - precision: 0.8736 - recall: 0.8984\n",
      "Epoch 27/40\n",
      "319/319 [==============================] - 69s 217ms/step - loss: 0.2709 - accuracy: 0.8866 - precision: 0.8854 - recall: 0.8935\n",
      "Epoch 28/40\n",
      "319/319 [==============================] - 69s 217ms/step - loss: 0.2669 - accuracy: 0.8925 - precision: 0.8899 - recall: 0.8992\n",
      "Epoch 29/40\n",
      "319/319 [==============================] - 70s 218ms/step - loss: 0.2752 - accuracy: 0.8833 - precision: 0.8717 - recall: 0.8948\n",
      "Epoch 30/40\n",
      "319/319 [==============================] - 70s 218ms/step - loss: 0.2629 - accuracy: 0.8938 - precision: 0.8847 - recall: 0.9002\n",
      "Epoch 31/40\n",
      "319/319 [==============================] - 70s 218ms/step - loss: 0.2691 - accuracy: 0.8906 - precision: 0.8833 - recall: 0.9026\n",
      "Epoch 32/40\n",
      "319/319 [==============================] - 69s 217ms/step - loss: 0.2658 - accuracy: 0.8897 - precision: 0.8795 - recall: 0.8977\n",
      "Epoch 33/40\n",
      "319/319 [==============================] - 69s 218ms/step - loss: 0.2541 - accuracy: 0.8945 - precision: 0.8931 - recall: 0.8944\n",
      "Epoch 34/40\n",
      "319/319 [==============================] - 69s 217ms/step - loss: 0.2710 - accuracy: 0.8859 - precision: 0.8797 - recall: 0.8954\n",
      "Epoch 35/40\n",
      "319/319 [==============================] - 70s 220ms/step - loss: 0.2670 - accuracy: 0.8914 - precision: 0.8843 - recall: 0.9010\n",
      "Epoch 36/40\n",
      "319/319 [==============================] - 70s 218ms/step - loss: 0.2723 - accuracy: 0.8873 - precision: 0.8811 - recall: 0.8952\n",
      "Epoch 37/40\n",
      "319/319 [==============================] - 70s 220ms/step - loss: 0.2619 - accuracy: 0.8875 - precision: 0.8795 - recall: 0.8995\n",
      "Epoch 38/40\n",
      "319/319 [==============================] - 70s 219ms/step - loss: 0.2586 - accuracy: 0.8903 - precision: 0.8795 - recall: 0.9043\n",
      "Epoch 39/40\n",
      "319/319 [==============================] - 70s 220ms/step - loss: 0.2550 - accuracy: 0.8980 - precision: 0.8902 - recall: 0.9076\n",
      "Epoch 40/40\n",
      "319/319 [==============================] - 69s 216ms/step - loss: 0.2570 - accuracy: 0.8933 - precision: 0.8893 - recall: 0.9040\n"
     ]
    }
   ],
   "source": [
    "h1 = model.fit(x=[X_train, df_features], y=y_train, epochs= 40, callbacks = callbacks, verbose=1)"
   ]
  },
  {
   "cell_type": "code",
   "execution_count": 43,
   "id": "71471522",
   "metadata": {
    "execution": {
     "iopub.execute_input": "2022-03-20T08:08:57.753087Z",
     "iopub.status.busy": "2022-03-20T08:08:57.752460Z",
     "iopub.status.idle": "2022-03-20T08:08:57.755061Z",
     "shell.execute_reply": "2022-03-20T08:08:57.755478Z"
    },
    "papermill": {
     "duration": 3.833222,
     "end_time": "2022-03-20T08:08:57.755608",
     "exception": false,
     "start_time": "2022-03-20T08:08:53.922386",
     "status": "completed"
    },
    "tags": []
   },
   "outputs": [
    {
     "data": {
      "text/plain": [
       "dict_keys(['loss', 'accuracy', 'precision', 'recall', 'lr'])"
      ]
     },
     "execution_count": 43,
     "metadata": {},
     "output_type": "execute_result"
    }
   ],
   "source": [
    "h1.history.keys()"
   ]
  },
  {
   "cell_type": "code",
   "execution_count": 44,
   "id": "a5c65f23",
   "metadata": {
    "execution": {
     "iopub.execute_input": "2022-03-20T08:09:06.304954Z",
     "iopub.status.busy": "2022-03-20T08:09:06.303962Z",
     "iopub.status.idle": "2022-03-20T08:09:06.306057Z",
     "shell.execute_reply": "2022-03-20T08:09:06.306548Z"
    },
    "papermill": {
     "duration": 4.459188,
     "end_time": "2022-03-20T08:09:06.306712",
     "exception": false,
     "start_time": "2022-03-20T08:09:01.847524",
     "status": "completed"
    },
    "tags": []
   },
   "outputs": [],
   "source": [
    "def plot_metrics(h):\n",
    "    #Plotting metrics\n",
    "    plt.figure(figsize=(12,5))\n",
    "    plt.subplot(1,2,1)\n",
    "    plt.plot(h.history['loss']);\n",
    "    plt.title(\"Loss vs Epochs\");\n",
    "    plt.ylabel(\"Loss\");\n",
    "    plt.xlabel(\"Epochs\");\n",
    "    plt.legend(['train']);\n",
    "\n",
    "    # summarize history for accuracy\n",
    "    plt.subplot(1,2,2)\n",
    "    plt.plot(h.history['accuracy'])\n",
    "    plt.title('Accuracy vs Epochs')\n",
    "    plt.ylabel('Accuracy')\n",
    "    plt.xlabel('Epochs')\n",
    "    plt.legend(['train'], loc='upper left')\n",
    "    plt.show()"
   ]
  },
  {
   "cell_type": "code",
   "execution_count": 45,
   "id": "52ffb54b",
   "metadata": {
    "execution": {
     "iopub.execute_input": "2022-03-20T08:09:14.147650Z",
     "iopub.status.busy": "2022-03-20T08:09:14.146832Z",
     "iopub.status.idle": "2022-03-20T08:09:14.538257Z",
     "shell.execute_reply": "2022-03-20T08:09:14.538664Z"
    },
    "papermill": {
     "duration": 4.186262,
     "end_time": "2022-03-20T08:09:14.538812",
     "exception": false,
     "start_time": "2022-03-20T08:09:10.352550",
     "status": "completed"
    },
    "tags": []
   },
   "outputs": [
    {
     "data": {
      "image/png": "[encoded data removed]",
      "text/plain": [
       "<Figure size 864x360 with 2 Axes>"
      ]
     },
     "metadata": {},
     "output_type": "display_data"
    }
   ],
   "source": [
    "plot_metrics(h1)"
   ]
  },
  {
   "cell_type": "code",
   "execution_count": 46,
   "id": "e27d600b",
   "metadata": {
    "execution": {
     "iopub.execute_input": "2022-03-20T08:09:22.545289Z",
     "iopub.status.busy": "2022-03-20T08:09:22.544420Z",
     "iopub.status.idle": "2022-03-20T08:09:23.551132Z",
     "shell.execute_reply": "2022-03-20T08:09:23.550657Z"
    },
    "papermill": {
     "duration": 5.142621,
     "end_time": "2022-03-20T08:09:23.551265",
     "exception": false,
     "start_time": "2022-03-20T08:09:18.408644",
     "status": "completed"
    },
    "tags": []
   },
   "outputs": [],
   "source": [
    "model.save('Final_BERT_TextFt_10K.h5')"
   ]
  },
  {
   "cell_type": "markdown",
   "id": "682c325a",
   "metadata": {
    "papermill": {
     "duration": 4.352067,
     "end_time": "2022-03-20T08:09:31.737582",
     "exception": false,
     "start_time": "2022-03-20T08:09:27.385515",
     "status": "completed"
    },
    "tags": []
   },
   "source": [
    "# Model Evaluation on Test Data"
   ]
  },
  {
   "cell_type": "code",
   "execution_count": 47,
   "id": "4c6adb56",
   "metadata": {
    "execution": {
     "iopub.execute_input": "2022-03-20T08:09:40.146115Z",
     "iopub.status.busy": "2022-03-20T08:09:40.144351Z",
     "iopub.status.idle": "2022-03-20T08:09:40.146780Z",
     "shell.execute_reply": "2022-03-20T08:09:40.147246Z"
    },
    "papermill": {
     "duration": 4.521986,
     "end_time": "2022-03-20T08:09:40.147396",
     "exception": false,
     "start_time": "2022-03-20T08:09:35.625410",
     "status": "completed"
    },
    "tags": []
   },
   "outputs": [],
   "source": [
    "# #Preprocessing\n",
    "# df_test = pd.read_csv(\"../input/covid-misinfo/Constraint_English_Test.csv\")\n",
    "# df_test['tweet'] = df_test['tweet'].apply(lambda text: cleaner(text))\n",
    "# df_test['fake'] = df_test['label'].apply(lambda x: 1 if x == 'fake' else 0)\n",
    "# X_test = df_test[['tweet']] \n",
    "# y_test = df_test[['fake']]\n",
    "\n",
    "# X_test.shape"
   ]
  },
  {
   "cell_type": "code",
   "execution_count": 48,
   "id": "adece06e",
   "metadata": {
    "execution": {
     "iopub.execute_input": "2022-03-20T08:09:48.129150Z",
     "iopub.status.busy": "2022-03-20T08:09:48.127949Z",
     "iopub.status.idle": "2022-03-20T08:09:48.130671Z",
     "shell.execute_reply": "2022-03-20T08:09:48.130235Z"
    },
    "papermill": {
     "duration": 3.912213,
     "end_time": "2022-03-20T08:09:48.130784",
     "exception": false,
     "start_time": "2022-03-20T08:09:44.218571",
     "status": "completed"
    },
    "tags": []
   },
   "outputs": [],
   "source": [
    "# #Feature Extraction\n",
    "# df_test['profanity_scores'] = get_prafanity_scores(df_test['tweet'])\n",
    "# df_test[['length','num_of_upper_char','num_of_qmarks','num_of_exclmmarks']] = df_test['tweet'].apply(lambda x: get_text_ft(x)).to_list()\n",
    "\n",
    "# #Normalizing\n",
    "# df_test['length'] = MinMaxScaler().fit_transform(np.array(df_test['length']).reshape(-1,1))\n",
    "# df_test['num_of_upper_char'] = MinMaxScaler().fit_transform(np.array(df_test['num_of_upper_char']).reshape(-1,1))\n",
    "# df_test['num_of_qmarks'] = MinMaxScaler().fit_transform(np.array(df_test['num_of_qmarks']).reshape(-1,1))\n",
    "# df_test['num_of_exclmmarks'] = MinMaxScaler().fit_transform(np.array(df_test['num_of_exclmmarks']).reshape(-1,1))\n",
    "\n",
    "# df_test_features = df_test[[\"profanity_scores\", \"length\",\"num_of_upper_char\", \"num_of_qmarks\", \"num_of_exclmmarks\"]]"
   ]
  },
  {
   "cell_type": "code",
   "execution_count": 49,
   "id": "baeb8a60",
   "metadata": {
    "execution": {
     "iopub.execute_input": "2022-03-20T08:09:56.037467Z",
     "iopub.status.busy": "2022-03-20T08:09:56.036659Z",
     "iopub.status.idle": "2022-03-20T08:09:56.038717Z",
     "shell.execute_reply": "2022-03-20T08:09:56.039091Z"
    },
    "papermill": {
     "duration": 4.103801,
     "end_time": "2022-03-20T08:09:56.039236",
     "exception": false,
     "start_time": "2022-03-20T08:09:51.935435",
     "status": "completed"
    },
    "tags": []
   },
   "outputs": [],
   "source": [
    "# test_loss, test_accuracy, test_precision, test_recall = model.evaluate(x=[X_test,df_test_features], y=y_test)\n",
    "\n",
    "# print(\"Test Loss: \", test_loss)\n",
    "# print(\"Test Precision: \", test_precision)\n",
    "# print(\"Test Recall: \", test_recall)\n",
    "# print(\"Test Accuracy: \", test_accuracy)"
   ]
  },
  {
   "cell_type": "code",
   "execution_count": 50,
   "id": "44a33154",
   "metadata": {
    "execution": {
     "iopub.execute_input": "2022-03-20T08:10:03.787115Z",
     "iopub.status.busy": "2022-03-20T08:10:03.786259Z",
     "iopub.status.idle": "2022-03-20T08:10:03.788299Z",
     "shell.execute_reply": "2022-03-20T08:10:03.788667Z"
    },
    "papermill": {
     "duration": 3.881941,
     "end_time": "2022-03-20T08:10:03.788802",
     "exception": false,
     "start_time": "2022-03-20T08:09:59.906861",
     "status": "completed"
    },
    "tags": []
   },
   "outputs": [],
   "source": [
    "# y_pred = model.predict([X_test,df_test_features])\n",
    "# y_pred = y_pred.flatten()\n",
    "# y_pred = np.where(y_pred>0.5, 1, 0)"
   ]
  },
  {
   "cell_type": "code",
   "execution_count": 51,
   "id": "13a0e604",
   "metadata": {
    "execution": {
     "iopub.execute_input": "2022-03-20T08:10:12.267007Z",
     "iopub.status.busy": "2022-03-20T08:10:12.266087Z",
     "iopub.status.idle": "2022-03-20T08:10:12.268284Z",
     "shell.execute_reply": "2022-03-20T08:10:12.268653Z"
    },
    "papermill": {
     "duration": 4.340543,
     "end_time": "2022-03-20T08:10:12.268794",
     "exception": false,
     "start_time": "2022-03-20T08:10:07.928251",
     "status": "completed"
    },
    "tags": []
   },
   "outputs": [],
   "source": [
    "# cm = confusion_matrix(y_test, y_pred)\n",
    "# disp = ConfusionMatrixDisplay(confusion_matrix=cm)\n",
    "# disp.plot()\n",
    "# plt.show()"
   ]
  }
 ],
 "metadata": {
  "kernelspec": {
   "display_name": "Python 3",
   "language": "python",
   "name": "python3"
  },
  "language_info": {
   "codemirror_mode": {
    "name": "ipython",
    "version": 3
   },
   "file_extension": ".py",
   "mimetype": "text/x-python",
   "name": "python",
   "nbconvert_exporter": "python",
   "pygments_lexer": "ipython3",
   "version": "3.7.12"
  },
  "papermill": {
   "default_parameters": {},
   "duration": 3139.409617,
   "end_time": "2022-03-20T08:10:19.880424",
   "environment_variables": {},
   "exception": null,
   "input_path": "__notebook__.ipynb",
   "output_path": "__notebook__.ipynb",
   "parameters": {},
   "start_time": "2022-03-20T07:18:00.470807",
   "version": "2.3.3"
  }
 },
 "nbformat": 4,
 "nbformat_minor": 5
}
