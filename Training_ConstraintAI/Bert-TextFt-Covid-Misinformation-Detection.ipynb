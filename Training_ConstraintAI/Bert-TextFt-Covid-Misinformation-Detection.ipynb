{
 "cells": [
  {
   "cell_type": "markdown",
   "id": "f2a8543d",
   "metadata": {
    "papermill": {
     "duration": 0.081963,
     "end_time": "2022-01-16T19:23:00.784270",
     "exception": false,
     "start_time": "2022-01-16T19:23:00.702307",
     "status": "completed"
    },
    "tags": []
   },
   "source": [
    "# Installing Packages and Dependencies"
   ]
  },
  {
   "cell_type": "code",
   "execution_count": 1,
   "id": "8b658926",
   "metadata": {
    "execution": {
     "iopub.execute_input": "2022-01-16T19:23:00.928892Z",
     "iopub.status.busy": "2022-01-16T19:23:00.927957Z",
     "iopub.status.idle": "2022-01-16T19:26:10.738963Z",
     "shell.execute_reply": "2022-01-16T19:26:10.739383Z",
     "shell.execute_reply.started": "2022-01-01T18:34:35.120792Z"
    },
    "papermill": {
     "duration": 189.889439,
     "end_time": "2022-01-16T19:26:10.739723",
     "exception": false,
     "start_time": "2022-01-16T19:23:00.850284",
     "status": "completed"
    },
    "tags": []
   },
   "outputs": [
    {
     "name": "stdout",
     "output_type": "stream",
     "text": [
      "Collecting tensorflow-text==2.4.2\r\n",
      "  Downloading tensorflow_text-2.4.2-cp37-cp37m-manylinux1_x86_64.whl (3.4 MB)\r\n",
      "     |████████████████████████████████| 3.4 MB 2.1 MB/s            \r\n",
      "\u001b[?25hRequirement already satisfied: tensorflow-hub>=0.8.0 in /opt/conda/lib/python3.7/site-packages (from tensorflow-text==2.4.2) (0.12.0)\r\n",
      "Collecting tensorflow<2.5,>=2.4.0\r\n",
      "  Downloading tensorflow-2.4.4-cp37-cp37m-manylinux2010_x86_64.whl (394.5 MB)\r\n",
      "     |████████████████████████████████| 394.5 MB 36 kB/s              \r\n",
      "\u001b[?25hCollecting gast==0.3.3\r\n",
      "  Downloading gast-0.3.3-py2.py3-none-any.whl (9.7 kB)\r\n",
      "Requirement already satisfied: astunparse~=1.6.3 in /opt/conda/lib/python3.7/site-packages (from tensorflow<2.5,>=2.4.0->tensorflow-text==2.4.2) (1.6.3)\r\n",
      "Requirement already satisfied: termcolor~=1.1.0 in /opt/conda/lib/python3.7/site-packages (from tensorflow<2.5,>=2.4.0->tensorflow-text==2.4.2) (1.1.0)\r\n",
      "Collecting wrapt~=1.12.1\r\n",
      "  Downloading wrapt-1.12.1.tar.gz (27 kB)\r\n",
      "  Preparing metadata (setup.py) ... \u001b[?25l-\b \bdone\r\n",
      "\u001b[?25hCollecting tensorflow-estimator<2.5.0,>=2.4.0\r\n",
      "  Downloading tensorflow_estimator-2.4.0-py2.py3-none-any.whl (462 kB)\r\n",
      "     |████████████████████████████████| 462 kB 44.2 MB/s            \r\n",
      "\u001b[?25hRequirement already satisfied: tensorboard~=2.4 in /opt/conda/lib/python3.7/site-packages (from tensorflow<2.5,>=2.4.0->tensorflow-text==2.4.2) (2.6.0)\r\n",
      "Requirement already satisfied: absl-py~=0.10 in /opt/conda/lib/python3.7/site-packages (from tensorflow<2.5,>=2.4.0->tensorflow-text==2.4.2) (0.15.0)\r\n",
      "Requirement already satisfied: flatbuffers~=1.12.0 in /opt/conda/lib/python3.7/site-packages (from tensorflow<2.5,>=2.4.0->tensorflow-text==2.4.2) (1.12)\r\n",
      "Requirement already satisfied: keras-preprocessing~=1.1.2 in /opt/conda/lib/python3.7/site-packages (from tensorflow<2.5,>=2.4.0->tensorflow-text==2.4.2) (1.1.2)\r\n",
      "Collecting six~=1.15.0\r\n",
      "  Downloading six-1.15.0-py2.py3-none-any.whl (10 kB)\r\n",
      "Collecting h5py~=2.10.0\r\n",
      "  Downloading h5py-2.10.0-cp37-cp37m-manylinux1_x86_64.whl (2.9 MB)\r\n",
      "     |████████████████████████████████| 2.9 MB 34.9 MB/s            \r\n",
      "\u001b[?25hRequirement already satisfied: opt-einsum~=3.3.0 in /opt/conda/lib/python3.7/site-packages (from tensorflow<2.5,>=2.4.0->tensorflow-text==2.4.2) (3.3.0)\r\n",
      "Collecting typing-extensions~=3.7.4\r\n",
      "  Downloading typing_extensions-3.7.4.3-py3-none-any.whl (22 kB)\r\n",
      "Collecting grpcio~=1.32.0\r\n",
      "  Downloading grpcio-1.32.0-cp37-cp37m-manylinux2014_x86_64.whl (3.8 MB)\r\n",
      "     |████████████████████████████████| 3.8 MB 49.3 MB/s            \r\n",
      "\u001b[?25hRequirement already satisfied: numpy~=1.19.2 in /opt/conda/lib/python3.7/site-packages (from tensorflow<2.5,>=2.4.0->tensorflow-text==2.4.2) (1.19.5)\r\n",
      "Requirement already satisfied: protobuf>=3.9.2 in /opt/conda/lib/python3.7/site-packages (from tensorflow<2.5,>=2.4.0->tensorflow-text==2.4.2) (3.19.1)\r\n",
      "Requirement already satisfied: wheel~=0.35 in /opt/conda/lib/python3.7/site-packages (from tensorflow<2.5,>=2.4.0->tensorflow-text==2.4.2) (0.37.0)\r\n",
      "Requirement already satisfied: google-pasta~=0.2 in /opt/conda/lib/python3.7/site-packages (from tensorflow<2.5,>=2.4.0->tensorflow-text==2.4.2) (0.2.0)\r\n",
      "Requirement already satisfied: tensorboard-data-server<0.7.0,>=0.6.0 in /opt/conda/lib/python3.7/site-packages (from tensorboard~=2.4->tensorflow<2.5,>=2.4.0->tensorflow-text==2.4.2) (0.6.1)\r\n",
      "Requirement already satisfied: werkzeug>=0.11.15 in /opt/conda/lib/python3.7/site-packages (from tensorboard~=2.4->tensorflow<2.5,>=2.4.0->tensorflow-text==2.4.2) (2.0.2)\r\n",
      "Requirement already satisfied: tensorboard-plugin-wit>=1.6.0 in /opt/conda/lib/python3.7/site-packages (from tensorboard~=2.4->tensorflow<2.5,>=2.4.0->tensorflow-text==2.4.2) (1.8.0)\r\n",
      "Requirement already satisfied: google-auth<2,>=1.6.3 in /opt/conda/lib/python3.7/site-packages (from tensorboard~=2.4->tensorflow<2.5,>=2.4.0->tensorflow-text==2.4.2) (1.35.0)\r\n",
      "Requirement already satisfied: google-auth-oauthlib<0.5,>=0.4.1 in /opt/conda/lib/python3.7/site-packages (from tensorboard~=2.4->tensorflow<2.5,>=2.4.0->tensorflow-text==2.4.2) (0.4.6)\r\n",
      "Requirement already satisfied: markdown>=2.6.8 in /opt/conda/lib/python3.7/site-packages (from tensorboard~=2.4->tensorflow<2.5,>=2.4.0->tensorflow-text==2.4.2) (3.3.6)\r\n",
      "Requirement already satisfied: requests<3,>=2.21.0 in /opt/conda/lib/python3.7/site-packages (from tensorboard~=2.4->tensorflow<2.5,>=2.4.0->tensorflow-text==2.4.2) (2.25.1)\r\n",
      "Requirement already satisfied: setuptools>=41.0.0 in /opt/conda/lib/python3.7/site-packages (from tensorboard~=2.4->tensorflow<2.5,>=2.4.0->tensorflow-text==2.4.2) (59.1.1)\r\n",
      "Requirement already satisfied: rsa<5,>=3.1.4 in /opt/conda/lib/python3.7/site-packages (from google-auth<2,>=1.6.3->tensorboard~=2.4->tensorflow<2.5,>=2.4.0->tensorflow-text==2.4.2) (4.7.2)\r\n",
      "Requirement already satisfied: pyasn1-modules>=0.2.1 in /opt/conda/lib/python3.7/site-packages (from google-auth<2,>=1.6.3->tensorboard~=2.4->tensorflow<2.5,>=2.4.0->tensorflow-text==2.4.2) (0.2.7)\r\n",
      "Requirement already satisfied: cachetools<5.0,>=2.0.0 in /opt/conda/lib/python3.7/site-packages (from google-auth<2,>=1.6.3->tensorboard~=2.4->tensorflow<2.5,>=2.4.0->tensorflow-text==2.4.2) (4.2.4)\r\n",
      "Requirement already satisfied: requests-oauthlib>=0.7.0 in /opt/conda/lib/python3.7/site-packages (from google-auth-oauthlib<0.5,>=0.4.1->tensorboard~=2.4->tensorflow<2.5,>=2.4.0->tensorflow-text==2.4.2) (1.3.0)\r\n",
      "Requirement already satisfied: importlib-metadata>=4.4 in /opt/conda/lib/python3.7/site-packages (from markdown>=2.6.8->tensorboard~=2.4->tensorflow<2.5,>=2.4.0->tensorflow-text==2.4.2) (4.8.2)\r\n",
      "Requirement already satisfied: urllib3<1.27,>=1.21.1 in /opt/conda/lib/python3.7/site-packages (from requests<3,>=2.21.0->tensorboard~=2.4->tensorflow<2.5,>=2.4.0->tensorflow-text==2.4.2) (1.26.7)\r\n",
      "Requirement already satisfied: chardet<5,>=3.0.2 in /opt/conda/lib/python3.7/site-packages (from requests<3,>=2.21.0->tensorboard~=2.4->tensorflow<2.5,>=2.4.0->tensorflow-text==2.4.2) (4.0.0)\r\n",
      "Requirement already satisfied: certifi>=2017.4.17 in /opt/conda/lib/python3.7/site-packages (from requests<3,>=2.21.0->tensorboard~=2.4->tensorflow<2.5,>=2.4.0->tensorflow-text==2.4.2) (2021.10.8)\r\n",
      "Requirement already satisfied: idna<3,>=2.5 in /opt/conda/lib/python3.7/site-packages (from requests<3,>=2.21.0->tensorboard~=2.4->tensorflow<2.5,>=2.4.0->tensorflow-text==2.4.2) (2.10)\r\n",
      "Requirement already satisfied: zipp>=0.5 in /opt/conda/lib/python3.7/site-packages (from importlib-metadata>=4.4->markdown>=2.6.8->tensorboard~=2.4->tensorflow<2.5,>=2.4.0->tensorflow-text==2.4.2) (3.6.0)\r\n",
      "Requirement already satisfied: pyasn1<0.5.0,>=0.4.6 in /opt/conda/lib/python3.7/site-packages (from pyasn1-modules>=0.2.1->google-auth<2,>=1.6.3->tensorboard~=2.4->tensorflow<2.5,>=2.4.0->tensorflow-text==2.4.2) (0.4.8)\r\n",
      "Requirement already satisfied: oauthlib>=3.0.0 in /opt/conda/lib/python3.7/site-packages (from requests-oauthlib>=0.7.0->google-auth-oauthlib<0.5,>=0.4.1->tensorboard~=2.4->tensorflow<2.5,>=2.4.0->tensorflow-text==2.4.2) (3.1.1)\r\n",
      "Building wheels for collected packages: wrapt\r\n",
      "  Building wheel for wrapt (setup.py) ... \u001b[?25l-\b \b\\\b \b|\b \bdone\r\n",
      "\u001b[?25h  Created wheel for wrapt: filename=wrapt-1.12.1-cp37-cp37m-linux_x86_64.whl size=77048 sha256=993cf71a83d0d0078290d8b59a54a3397dc235db0ffbd61abf5c9ec47d53fc7d\r\n",
      "  Stored in directory: /root/.cache/pip/wheels/62/76/4c/aa25851149f3f6d9785f6c869387ad82b3fd37582fa8147ac6\r\n",
      "Successfully built wrapt\r\n",
      "Installing collected packages: typing-extensions, six, grpcio, wrapt, tensorflow-estimator, h5py, gast, tensorflow, tensorflow-text\r\n",
      "  Attempting uninstall: typing-extensions\r\n",
      "    Found existing installation: typing-extensions 3.10.0.2\r\n",
      "    Uninstalling typing-extensions-3.10.0.2:\r\n",
      "      Successfully uninstalled typing-extensions-3.10.0.2\r\n",
      "  Attempting uninstall: six\r\n",
      "    Found existing installation: six 1.16.0\r\n",
      "    Uninstalling six-1.16.0:\r\n",
      "      Successfully uninstalled six-1.16.0\r\n",
      "  Attempting uninstall: grpcio\r\n",
      "    Found existing installation: grpcio 1.42.0\r\n",
      "    Uninstalling grpcio-1.42.0:\r\n",
      "      Successfully uninstalled grpcio-1.42.0\r\n",
      "  Attempting uninstall: wrapt\r\n",
      "    Found existing installation: wrapt 1.13.3\r\n",
      "    Uninstalling wrapt-1.13.3:\r\n",
      "      Successfully uninstalled wrapt-1.13.3\r\n",
      "  Attempting uninstall: tensorflow-estimator\r\n",
      "    Found existing installation: tensorflow-estimator 2.6.0\r\n",
      "    Uninstalling tensorflow-estimator-2.6.0:\r\n",
      "      Successfully uninstalled tensorflow-estimator-2.6.0\r\n",
      "  Attempting uninstall: h5py\r\n",
      "    Found existing installation: h5py 3.1.0\r\n",
      "    Uninstalling h5py-3.1.0:\r\n",
      "      Successfully uninstalled h5py-3.1.0\r\n",
      "  Attempting uninstall: gast\r\n",
      "    Found existing installation: gast 0.4.0\r\n",
      "    Uninstalling gast-0.4.0:\r\n",
      "      Successfully uninstalled gast-0.4.0\r\n",
      "  Attempting uninstall: tensorflow\r\n",
      "    Found existing installation: tensorflow 2.6.2\r\n",
      "    Uninstalling tensorflow-2.6.2:\r\n",
      "      Successfully uninstalled tensorflow-2.6.2\r\n",
      "\u001b[31mERROR: pip's dependency resolver does not currently take into account all the packages that are installed. This behaviour is the source of the following dependency conflicts.\r\n",
      "tensorflow-io 0.21.0 requires tensorflow-io-gcs-filesystem==0.21.0, which is not installed.\r\n",
      "explainable-ai-sdk 1.3.2 requires xai-image-widget, which is not installed.\r\n",
      "dask-cudf 21.10.1 requires cupy-cuda114, which is not installed.\r\n",
      "cudf 21.10.1 requires cupy-cuda110, which is not installed.\r\n",
      "beatrix-jupyterlab 3.1.4 requires google-cloud-bigquery-storage, which is not installed.\r\n",
      "tfx-bsl 1.4.0 requires absl-py<0.13,>=0.9, but you have absl-py 0.15.0 which is incompatible.\r\n",
      "tfx-bsl 1.4.0 requires pyarrow<6,>=1, but you have pyarrow 6.0.0 which is incompatible.\r\n",
      "tfx-bsl 1.4.0 requires tensorflow!=2.0.*,!=2.1.*,!=2.2.*,!=2.3.*,!=2.4.*,!=2.5.*,<3,>=1.15.2, but you have tensorflow 2.4.4 which is incompatible.\r\n",
      "tensorflow-transform 1.4.0 requires absl-py<0.13,>=0.9, but you have absl-py 0.15.0 which is incompatible.\r\n",
      "tensorflow-transform 1.4.0 requires pyarrow<6,>=1, but you have pyarrow 6.0.0 which is incompatible.\r\n",
      "tensorflow-transform 1.4.0 requires tensorflow!=2.0.*,!=2.1.*,!=2.2.*,!=2.3.*,!=2.4.*,!=2.5.*,<2.7,>=1.15.2, but you have tensorflow 2.4.4 which is incompatible.\r\n",
      "tensorflow-serving-api 2.6.1 requires tensorflow<3,>=2.6.1, but you have tensorflow 2.4.4 which is incompatible.\r\n",
      "tensorflow-io 0.21.0 requires tensorflow<2.7.0,>=2.6.0, but you have tensorflow 2.4.4 which is incompatible.\r\n",
      "optax 0.1.0 requires typing-extensions~=3.10.0, but you have typing-extensions 3.7.4.3 which is incompatible.\r\n",
      "grpcio-status 1.42.0 requires grpcio>=1.42.0, but you have grpcio 1.32.0 which is incompatible.\r\n",
      "gcsfs 2021.11.0 requires fsspec==2021.11.0, but you have fsspec 2021.11.1 which is incompatible.\r\n",
      "flake8 4.0.1 requires importlib-metadata<4.3; python_version < \"3.8\", but you have importlib-metadata 4.8.2 which is incompatible.\r\n",
      "dask-cudf 21.10.1 requires dask==2021.09.1, but you have dask 2021.11.2 which is incompatible.\r\n",
      "dask-cudf 21.10.1 requires distributed==2021.09.1, but you have distributed 2021.11.2 which is incompatible.\r\n",
      "bokeh 2.4.2 requires typing-extensions>=3.10.0, but you have typing-extensions 3.7.4.3 which is incompatible.\r\n",
      "black 21.10b0 requires typing-extensions>=3.10.0.0, but you have typing-extensions 3.7.4.3 which is incompatible.\r\n",
      "apache-beam 2.34.0 requires dill<0.3.2,>=0.3.1.1, but you have dill 0.3.4 which is incompatible.\r\n",
      "apache-beam 2.34.0 requires httplib2<0.20.0,>=0.8, but you have httplib2 0.20.2 which is incompatible.\r\n",
      "apache-beam 2.34.0 requires pyarrow<6.0.0,>=0.15.1, but you have pyarrow 6.0.0 which is incompatible.\r\n",
      "aiobotocore 2.0.1 requires botocore<1.22.9,>=1.22.8, but you have botocore 1.23.15 which is incompatible.\u001b[0m\r\n",
      "Successfully installed gast-0.3.3 grpcio-1.32.0 h5py-2.10.0 six-1.15.0 tensorflow-2.4.4 tensorflow-estimator-2.4.0 tensorflow-text-2.4.2 typing-extensions-3.7.4.3 wrapt-1.12.1\r\n",
      "\u001b[33mWARNING: Running pip as the 'root' user can result in broken permissions and conflicting behaviour with the system package manager. It is recommended to use a virtual environment instead: https://pip.pypa.io/warnings/venv\u001b[0m\r\n",
      "Collecting tf-models-official==2.4\r\n",
      "  Downloading tf_models_official-2.4.0-py2.py3-none-any.whl (1.1 MB)\r\n",
      "     |████████████████████████████████| 1.1 MB 1.3 MB/s            \r\n",
      "\u001b[?25hCollecting gin-config\r\n",
      "  Downloading gin_config-0.5.0-py3-none-any.whl (61 kB)\r\n",
      "     |████████████████████████████████| 61 kB 5.5 MB/s             \r\n",
      "\u001b[?25hCollecting py-cpuinfo>=3.3.0\r\n",
      "  Downloading py-cpuinfo-8.0.0.tar.gz (99 kB)\r\n",
      "     |████████████████████████████████| 99 kB 4.9 MB/s             \r\n",
      "\u001b[?25h  Preparing metadata (setup.py) ... \u001b[?25l-\b \bdone\r\n",
      "\u001b[?25hRequirement already satisfied: Pillow in /opt/conda/lib/python3.7/site-packages (from tf-models-official==2.4) (8.2.0)\r\n",
      "Collecting tensorflow-model-optimization>=0.4.1\r\n",
      "  Downloading tensorflow_model_optimization-0.7.0-py2.py3-none-any.whl (213 kB)\r\n",
      "     |████████████████████████████████| 213 kB 46.2 MB/s            \r\n",
      "\u001b[?25hRequirement already satisfied: pyyaml>=5.1 in /opt/conda/lib/python3.7/site-packages (from tf-models-official==2.4) (6.0)\r\n",
      "Requirement already satisfied: google-cloud-bigquery>=0.31.0 in /opt/conda/lib/python3.7/site-packages (from tf-models-official==2.4) (2.2.0)\r\n",
      "Requirement already satisfied: Cython in /opt/conda/lib/python3.7/site-packages (from tf-models-official==2.4) (0.29.24)\r\n",
      "Collecting pycocotools\r\n",
      "  Downloading pycocotools-2.0.4.tar.gz (106 kB)\r\n",
      "     |████████████████████████████████| 106 kB 50.8 MB/s            \r\n",
      "\u001b[?25h  Installing build dependencies ... \u001b[?25l-\b \b\\\b \b|\b \b/\b \b-\b \b\\\b \b|\b \b/\b \bdone\r\n",
      "\u001b[?25h  Getting requirements to build wheel ... \u001b[?25l-\b \bdone\r\n",
      "\u001b[?25h  Preparing metadata (pyproject.toml) ... \u001b[?25l-\b \bdone\r\n",
      "\u001b[?25hRequirement already satisfied: google-api-python-client>=1.6.7 in /opt/conda/lib/python3.7/site-packages (from tf-models-official==2.4) (1.12.8)\r\n",
      "Requirement already satisfied: numpy>=1.15.4 in /opt/conda/lib/python3.7/site-packages (from tf-models-official==2.4) (1.19.5)\r\n",
      "Requirement already satisfied: matplotlib in /opt/conda/lib/python3.7/site-packages (from tf-models-official==2.4) (3.5.0)\r\n",
      "Requirement already satisfied: tensorflow-hub>=0.6.0 in /opt/conda/lib/python3.7/site-packages (from tf-models-official==2.4) (0.12.0)\r\n",
      "Requirement already satisfied: oauth2client in /opt/conda/lib/python3.7/site-packages (from tf-models-official==2.4) (4.1.3)\r\n",
      "Requirement already satisfied: dataclasses in /opt/conda/lib/python3.7/site-packages (from tf-models-official==2.4) (0.8)\r\n",
      "Requirement already satisfied: kaggle>=1.3.9 in /opt/conda/lib/python3.7/site-packages (from tf-models-official==2.4) (1.5.12)\r\n",
      "Requirement already satisfied: scipy>=0.19.1 in /opt/conda/lib/python3.7/site-packages (from tf-models-official==2.4) (1.7.2)\r\n",
      "Requirement already satisfied: sentencepiece in /opt/conda/lib/python3.7/site-packages (from tf-models-official==2.4) (0.1.96)\r\n",
      "Requirement already satisfied: tensorflow-datasets in /opt/conda/lib/python3.7/site-packages (from tf-models-official==2.4) (4.3.0)\r\n",
      "Requirement already satisfied: tensorflow-addons in /opt/conda/lib/python3.7/site-packages (from tf-models-official==2.4) (0.14.0)\r\n",
      "Requirement already satisfied: pandas>=0.22.0 in /opt/conda/lib/python3.7/site-packages (from tf-models-official==2.4) (1.3.4)\r\n",
      "Requirement already satisfied: opencv-python-headless in /opt/conda/lib/python3.7/site-packages (from tf-models-official==2.4) (4.5.4.60)\r\n",
      "Requirement already satisfied: psutil>=5.4.3 in /opt/conda/lib/python3.7/site-packages (from tf-models-official==2.4) (5.8.0)\r\n",
      "Requirement already satisfied: tensorflow>=2.4.0 in /opt/conda/lib/python3.7/site-packages (from tf-models-official==2.4) (2.4.4)\r\n",
      "Collecting tf-slim>=1.1.0\r\n",
      "  Downloading tf_slim-1.1.0-py2.py3-none-any.whl (352 kB)\r\n",
      "     |████████████████████████████████| 352 kB 56.8 MB/s            \r\n",
      "\u001b[?25hRequirement already satisfied: six in /opt/conda/lib/python3.7/site-packages (from tf-models-official==2.4) (1.15.0)\r\n",
      "Collecting seqeval\r\n",
      "  Downloading seqeval-1.2.2.tar.gz (43 kB)\r\n",
      "     |████████████████████████████████| 43 kB 1.7 MB/s             \r\n",
      "\u001b[?25h  Preparing metadata (setup.py) ... \u001b[?25l-\b \bdone\r\n",
      "\u001b[?25hRequirement already satisfied: uritemplate<4dev,>=3.0.0 in /opt/conda/lib/python3.7/site-packages (from google-api-python-client>=1.6.7->tf-models-official==2.4) (3.0.1)\r\n",
      "Requirement already satisfied: google-auth-httplib2>=0.0.3 in /opt/conda/lib/python3.7/site-packages (from google-api-python-client>=1.6.7->tf-models-official==2.4) (0.1.0)\r\n",
      "Requirement already satisfied: httplib2<1dev,>=0.15.0 in /opt/conda/lib/python3.7/site-packages (from google-api-python-client>=1.6.7->tf-models-official==2.4) (0.20.2)\r\n",
      "Requirement already satisfied: google-auth>=1.16.0 in /opt/conda/lib/python3.7/site-packages (from google-api-python-client>=1.6.7->tf-models-official==2.4) (1.35.0)\r\n",
      "Requirement already satisfied: google-api-core<2dev,>=1.21.0 in /opt/conda/lib/python3.7/site-packages (from google-api-python-client>=1.6.7->tf-models-official==2.4) (1.31.4)\r\n",
      "Requirement already satisfied: google-cloud-core<2.0dev,>=1.4.1 in /opt/conda/lib/python3.7/site-packages (from google-cloud-bigquery>=0.31.0->tf-models-official==2.4) (1.7.2)\r\n",
      "Requirement already satisfied: google-resumable-media<2.0dev,>=0.6.0 in /opt/conda/lib/python3.7/site-packages (from google-cloud-bigquery>=0.31.0->tf-models-official==2.4) (1.3.3)\r\n",
      "Requirement already satisfied: proto-plus>=1.10.0 in /opt/conda/lib/python3.7/site-packages (from google-cloud-bigquery>=0.31.0->tf-models-official==2.4) (1.19.8)\r\n",
      "Requirement already satisfied: protobuf>=3.12.0 in /opt/conda/lib/python3.7/site-packages (from google-cloud-bigquery>=0.31.0->tf-models-official==2.4) (3.19.1)\r\n",
      "Requirement already satisfied: python-dateutil in /opt/conda/lib/python3.7/site-packages (from kaggle>=1.3.9->tf-models-official==2.4) (2.8.0)\r\n",
      "Requirement already satisfied: urllib3 in /opt/conda/lib/python3.7/site-packages (from kaggle>=1.3.9->tf-models-official==2.4) (1.26.7)\r\n",
      "Requirement already satisfied: certifi in /opt/conda/lib/python3.7/site-packages (from kaggle>=1.3.9->tf-models-official==2.4) (2021.10.8)\r\n",
      "Requirement already satisfied: python-slugify in /opt/conda/lib/python3.7/site-packages (from kaggle>=1.3.9->tf-models-official==2.4) (5.0.2)\r\n",
      "Requirement already satisfied: tqdm in /opt/conda/lib/python3.7/site-packages (from kaggle>=1.3.9->tf-models-official==2.4) (4.62.3)\r\n",
      "Requirement already satisfied: requests in /opt/conda/lib/python3.7/site-packages (from kaggle>=1.3.9->tf-models-official==2.4) (2.25.1)\r\n",
      "Requirement already satisfied: pytz>=2017.3 in /opt/conda/lib/python3.7/site-packages (from pandas>=0.22.0->tf-models-official==2.4) (2021.3)\r\n",
      "Requirement already satisfied: keras-preprocessing~=1.1.2 in /opt/conda/lib/python3.7/site-packages (from tensorflow>=2.4.0->tf-models-official==2.4) (1.1.2)\r\n",
      "Requirement already satisfied: astunparse~=1.6.3 in /opt/conda/lib/python3.7/site-packages (from tensorflow>=2.4.0->tf-models-official==2.4) (1.6.3)\r\n",
      "Requirement already satisfied: opt-einsum~=3.3.0 in /opt/conda/lib/python3.7/site-packages (from tensorflow>=2.4.0->tf-models-official==2.4) (3.3.0)\r\n",
      "Requirement already satisfied: typing-extensions~=3.7.4 in /opt/conda/lib/python3.7/site-packages (from tensorflow>=2.4.0->tf-models-official==2.4) (3.7.4.3)\r\n",
      "Requirement already satisfied: gast==0.3.3 in /opt/conda/lib/python3.7/site-packages (from tensorflow>=2.4.0->tf-models-official==2.4) (0.3.3)\r\n",
      "Requirement already satisfied: h5py~=2.10.0 in /opt/conda/lib/python3.7/site-packages (from tensorflow>=2.4.0->tf-models-official==2.4) (2.10.0)\r\n",
      "Requirement already satisfied: wrapt~=1.12.1 in /opt/conda/lib/python3.7/site-packages (from tensorflow>=2.4.0->tf-models-official==2.4) (1.12.1)\r\n",
      "Requirement already satisfied: flatbuffers~=1.12.0 in /opt/conda/lib/python3.7/site-packages (from tensorflow>=2.4.0->tf-models-official==2.4) (1.12)\r\n",
      "Requirement already satisfied: google-pasta~=0.2 in /opt/conda/lib/python3.7/site-packages (from tensorflow>=2.4.0->tf-models-official==2.4) (0.2.0)\r\n",
      "Requirement already satisfied: wheel~=0.35 in /opt/conda/lib/python3.7/site-packages (from tensorflow>=2.4.0->tf-models-official==2.4) (0.37.0)\r\n",
      "Requirement already satisfied: tensorboard~=2.4 in /opt/conda/lib/python3.7/site-packages (from tensorflow>=2.4.0->tf-models-official==2.4) (2.6.0)\r\n",
      "Requirement already satisfied: tensorflow-estimator<2.5.0,>=2.4.0 in /opt/conda/lib/python3.7/site-packages (from tensorflow>=2.4.0->tf-models-official==2.4) (2.4.0)\r\n",
      "Requirement already satisfied: termcolor~=1.1.0 in /opt/conda/lib/python3.7/site-packages (from tensorflow>=2.4.0->tf-models-official==2.4) (1.1.0)\r\n",
      "Requirement already satisfied: grpcio~=1.32.0 in /opt/conda/lib/python3.7/site-packages (from tensorflow>=2.4.0->tf-models-official==2.4) (1.32.0)\r\n",
      "Requirement already satisfied: absl-py~=0.10 in /opt/conda/lib/python3.7/site-packages (from tensorflow>=2.4.0->tf-models-official==2.4) (0.15.0)\r\n",
      "Requirement already satisfied: dm-tree~=0.1.1 in /opt/conda/lib/python3.7/site-packages (from tensorflow-model-optimization>=0.4.1->tf-models-official==2.4) (0.1.6)\r\n",
      "Requirement already satisfied: cycler>=0.10 in /opt/conda/lib/python3.7/site-packages (from matplotlib->tf-models-official==2.4) (0.11.0)\r\n",
      "Requirement already satisfied: kiwisolver>=1.0.1 in /opt/conda/lib/python3.7/site-packages (from matplotlib->tf-models-official==2.4) (1.3.2)\r\n",
      "Requirement already satisfied: pyparsing>=2.2.1 in /opt/conda/lib/python3.7/site-packages (from matplotlib->tf-models-official==2.4) (3.0.6)\r\n",
      "Requirement already satisfied: packaging>=20.0 in /opt/conda/lib/python3.7/site-packages (from matplotlib->tf-models-official==2.4) (21.0)\r\n",
      "Requirement already satisfied: fonttools>=4.22.0 in /opt/conda/lib/python3.7/site-packages (from matplotlib->tf-models-official==2.4) (4.28.2)\r\n",
      "Requirement already satisfied: setuptools-scm>=4 in /opt/conda/lib/python3.7/site-packages (from matplotlib->tf-models-official==2.4) (6.3.2)\r\n",
      "Requirement already satisfied: pyasn1-modules>=0.0.5 in /opt/conda/lib/python3.7/site-packages (from oauth2client->tf-models-official==2.4) (0.2.7)\r\n",
      "Requirement already satisfied: pyasn1>=0.1.7 in /opt/conda/lib/python3.7/site-packages (from oauth2client->tf-models-official==2.4) (0.4.8)\r\n",
      "Requirement already satisfied: rsa>=3.1.4 in /opt/conda/lib/python3.7/site-packages (from oauth2client->tf-models-official==2.4) (4.7.2)\r\n",
      "Requirement already satisfied: scikit-learn>=0.21.3 in /opt/conda/lib/python3.7/site-packages (from seqeval->tf-models-official==2.4) (0.23.2)\r\n",
      "Requirement already satisfied: typeguard>=2.7 in /opt/conda/lib/python3.7/site-packages (from tensorflow-addons->tf-models-official==2.4) (2.13.2)\r\n",
      "Requirement already satisfied: tensorflow-metadata in /opt/conda/lib/python3.7/site-packages (from tensorflow-datasets->tf-models-official==2.4) (1.4.0)\r\n",
      "Requirement already satisfied: dill in /opt/conda/lib/python3.7/site-packages (from tensorflow-datasets->tf-models-official==2.4) (0.3.4)\r\n",
      "Requirement already satisfied: future in /opt/conda/lib/python3.7/site-packages (from tensorflow-datasets->tf-models-official==2.4) (0.18.2)\r\n",
      "Requirement already satisfied: importlib-resources in /opt/conda/lib/python3.7/site-packages (from tensorflow-datasets->tf-models-official==2.4) (5.4.0)\r\n",
      "Requirement already satisfied: promise in /opt/conda/lib/python3.7/site-packages (from tensorflow-datasets->tf-models-official==2.4) (2.3)\r\n",
      "Requirement already satisfied: attrs>=18.1.0 in /opt/conda/lib/python3.7/site-packages (from tensorflow-datasets->tf-models-official==2.4) (21.2.0)\r\n",
      "Requirement already satisfied: googleapis-common-protos<2.0dev,>=1.6.0 in /opt/conda/lib/python3.7/site-packages (from google-api-core<2dev,>=1.21.0->google-api-python-client>=1.6.7->tf-models-official==2.4) (1.53.0)\r\n",
      "Requirement already satisfied: setuptools>=40.3.0 in /opt/conda/lib/python3.7/site-packages (from google-api-core<2dev,>=1.21.0->google-api-python-client>=1.6.7->tf-models-official==2.4) (59.1.1)\r\n",
      "Requirement already satisfied: cachetools<5.0,>=2.0.0 in /opt/conda/lib/python3.7/site-packages (from google-auth>=1.16.0->google-api-python-client>=1.6.7->tf-models-official==2.4) (4.2.4)\r\n",
      "Requirement already satisfied: google-crc32c<2.0dev,>=1.0 in /opt/conda/lib/python3.7/site-packages (from google-resumable-media<2.0dev,>=0.6.0->google-cloud-bigquery>=0.31.0->tf-models-official==2.4) (1.1.2)\r\n",
      "Requirement already satisfied: idna<3,>=2.5 in /opt/conda/lib/python3.7/site-packages (from requests->kaggle>=1.3.9->tf-models-official==2.4) (2.10)\r\n",
      "Requirement already satisfied: chardet<5,>=3.0.2 in /opt/conda/lib/python3.7/site-packages (from requests->kaggle>=1.3.9->tf-models-official==2.4) (4.0.0)\r\n",
      "Requirement already satisfied: joblib>=0.11 in /opt/conda/lib/python3.7/site-packages (from scikit-learn>=0.21.3->seqeval->tf-models-official==2.4) (1.1.0)\r\n",
      "Requirement already satisfied: threadpoolctl>=2.0.0 in /opt/conda/lib/python3.7/site-packages (from scikit-learn>=0.21.3->seqeval->tf-models-official==2.4) (3.0.0)\r\n",
      "Requirement already satisfied: tomli>=1.0.0 in /opt/conda/lib/python3.7/site-packages (from setuptools-scm>=4->matplotlib->tf-models-official==2.4) (1.2.2)\r\n",
      "Requirement already satisfied: markdown>=2.6.8 in /opt/conda/lib/python3.7/site-packages (from tensorboard~=2.4->tensorflow>=2.4.0->tf-models-official==2.4) (3.3.6)\r\n",
      "Requirement already satisfied: google-auth-oauthlib<0.5,>=0.4.1 in /opt/conda/lib/python3.7/site-packages (from tensorboard~=2.4->tensorflow>=2.4.0->tf-models-official==2.4) (0.4.6)\r\n",
      "Requirement already satisfied: tensorboard-data-server<0.7.0,>=0.6.0 in /opt/conda/lib/python3.7/site-packages (from tensorboard~=2.4->tensorflow>=2.4.0->tf-models-official==2.4) (0.6.1)\r\n",
      "Requirement already satisfied: werkzeug>=0.11.15 in /opt/conda/lib/python3.7/site-packages (from tensorboard~=2.4->tensorflow>=2.4.0->tf-models-official==2.4) (2.0.2)\r\n",
      "Requirement already satisfied: tensorboard-plugin-wit>=1.6.0 in /opt/conda/lib/python3.7/site-packages (from tensorboard~=2.4->tensorflow>=2.4.0->tf-models-official==2.4) (1.8.0)\r\n",
      "Requirement already satisfied: zipp>=3.1.0 in /opt/conda/lib/python3.7/site-packages (from importlib-resources->tensorflow-datasets->tf-models-official==2.4) (3.6.0)\r\n",
      "Requirement already satisfied: text-unidecode>=1.3 in /opt/conda/lib/python3.7/site-packages (from python-slugify->kaggle>=1.3.9->tf-models-official==2.4) (1.3)\r\n",
      "Collecting absl-py~=0.10\r\n",
      "  Downloading absl_py-0.12.0-py3-none-any.whl (129 kB)\r\n",
      "     |████████████████████████████████| 129 kB 48.4 MB/s            \r\n",
      "\u001b[?25hRequirement already satisfied: requests-oauthlib>=0.7.0 in /opt/conda/lib/python3.7/site-packages (from google-auth-oauthlib<0.5,>=0.4.1->tensorboard~=2.4->tensorflow>=2.4.0->tf-models-official==2.4) (1.3.0)\r\n",
      "Requirement already satisfied: cffi>=1.0.0 in /opt/conda/lib/python3.7/site-packages (from google-crc32c<2.0dev,>=1.0->google-resumable-media<2.0dev,>=0.6.0->google-cloud-bigquery>=0.31.0->tf-models-official==2.4) (1.15.0)\r\n",
      "Requirement already satisfied: importlib-metadata>=4.4 in /opt/conda/lib/python3.7/site-packages (from markdown>=2.6.8->tensorboard~=2.4->tensorflow>=2.4.0->tf-models-official==2.4) (4.8.2)\r\n",
      "Requirement already satisfied: pycparser in /opt/conda/lib/python3.7/site-packages (from cffi>=1.0.0->google-crc32c<2.0dev,>=1.0->google-resumable-media<2.0dev,>=0.6.0->google-cloud-bigquery>=0.31.0->tf-models-official==2.4) (2.21)\r\n",
      "Requirement already satisfied: oauthlib>=3.0.0 in /opt/conda/lib/python3.7/site-packages (from requests-oauthlib>=0.7.0->google-auth-oauthlib<0.5,>=0.4.1->tensorboard~=2.4->tensorflow>=2.4.0->tf-models-official==2.4) (3.1.1)\r\n",
      "Building wheels for collected packages: py-cpuinfo, pycocotools, seqeval\r\n",
      "  Building wheel for py-cpuinfo (setup.py) ... \u001b[?25l-\b \b\\\b \bdone\r\n",
      "\u001b[?25h  Created wheel for py-cpuinfo: filename=py_cpuinfo-8.0.0-py3-none-any.whl size=22258 sha256=c512cb651b565c49bf8fa5b0a796d3d5344353433f9843d508020c4e42ed014f\r\n",
      "  Stored in directory: /root/.cache/pip/wheels/d2/f1/1f/041add21dc9c4220157f1bd2bd6afe1f1a49524c3396b94401\r\n",
      "  Building wheel for pycocotools (pyproject.toml) ... \u001b[?25l-\b \b\\\b \b|\b \b/\b \b-\b \bdone\r\n",
      "\u001b[?25h  Created wheel for pycocotools: filename=pycocotools-2.0.4-cp37-cp37m-linux_x86_64.whl size=370028 sha256=8d27ea093bbe73d17e8acae74d00e090a5defd31327d785453c26dd8bd5aafab\r\n",
      "  Stored in directory: /root/.cache/pip/wheels/a3/5f/fa/f011e578cc76e1fc5be8dce30b3eb9fd00f337e744b3bba59b\r\n",
      "  Building wheel for seqeval (setup.py) ... \u001b[?25l-\b \b\\\b \bdone\r\n",
      "\u001b[?25h  Created wheel for seqeval: filename=seqeval-1.2.2-py3-none-any.whl size=16181 sha256=5f80275be8e58afaf944731a39064c17e03ec5d5bcbeb7deebfe309971b22155\r\n",
      "  Stored in directory: /root/.cache/pip/wheels/05/96/ee/7cac4e74f3b19e3158dce26a20a1c86b3533c43ec72a549fd7\r\n",
      "Successfully built py-cpuinfo pycocotools seqeval\r\n",
      "Installing collected packages: absl-py, tf-slim, tensorflow-model-optimization, seqeval, pycocotools, py-cpuinfo, gin-config, tf-models-official\r\n",
      "  Attempting uninstall: absl-py\r\n",
      "    Found existing installation: absl-py 0.15.0\r\n",
      "    Uninstalling absl-py-0.15.0:\r\n",
      "      Successfully uninstalled absl-py-0.15.0\r\n",
      "\u001b[31mERROR: pip's dependency resolver does not currently take into account all the packages that are installed. This behaviour is the source of the following dependency conflicts.\r\n",
      "tensorflow-io 0.21.0 requires tensorflow-io-gcs-filesystem==0.21.0, which is not installed.\r\n",
      "explainable-ai-sdk 1.3.2 requires xai-image-widget, which is not installed.\r\n",
      "tfx-bsl 1.4.0 requires pyarrow<6,>=1, but you have pyarrow 6.0.0 which is incompatible.\r\n",
      "tfx-bsl 1.4.0 requires tensorflow!=2.0.*,!=2.1.*,!=2.2.*,!=2.3.*,!=2.4.*,!=2.5.*,<3,>=1.15.2, but you have tensorflow 2.4.4 which is incompatible.\r\n",
      "tensorflow-transform 1.4.0 requires pyarrow<6,>=1, but you have pyarrow 6.0.0 which is incompatible.\r\n",
      "tensorflow-transform 1.4.0 requires tensorflow!=2.0.*,!=2.1.*,!=2.2.*,!=2.3.*,!=2.4.*,!=2.5.*,<2.7,>=1.15.2, but you have tensorflow 2.4.4 which is incompatible.\r\n",
      "tensorflow-serving-api 2.6.1 requires tensorflow<3,>=2.6.1, but you have tensorflow 2.4.4 which is incompatible.\r\n",
      "tensorflow-io 0.21.0 requires tensorflow<2.7.0,>=2.6.0, but you have tensorflow 2.4.4 which is incompatible.\r\n",
      "ortools 9.1.9490 requires absl-py>=0.13, but you have absl-py 0.12.0 which is incompatible.\r\n",
      "optax 0.1.0 requires typing-extensions~=3.10.0, but you have typing-extensions 3.7.4.3 which is incompatible.\u001b[0m\r\n",
      "Successfully installed absl-py-0.12.0 gin-config-0.5.0 py-cpuinfo-8.0.0 pycocotools-2.0.4 seqeval-1.2.2 tensorflow-model-optimization-0.7.0 tf-models-official-2.4.0 tf-slim-1.1.0\r\n",
      "\u001b[33mWARNING: Running pip as the 'root' user can result in broken permissions and conflicting behaviour with the system package manager. It is recommended to use a virtual environment instead: https://pip.pypa.io/warnings/venv\u001b[0m\r\n",
      "Collecting tensorflow-gpu==2.4.2\r\n",
      "  Downloading tensorflow_gpu-2.4.2-cp37-cp37m-manylinux2010_x86_64.whl (394.5 MB)\r\n",
      "     |████████████████████████████████| 394.5 MB 27 kB/s              \r\n",
      "\u001b[?25hRequirement already satisfied: six~=1.15.0 in /opt/conda/lib/python3.7/site-packages (from tensorflow-gpu==2.4.2) (1.15.0)\r\n",
      "Requirement already satisfied: tensorboard~=2.4 in /opt/conda/lib/python3.7/site-packages (from tensorflow-gpu==2.4.2) (2.6.0)\r\n",
      "Requirement already satisfied: h5py~=2.10.0 in /opt/conda/lib/python3.7/site-packages (from tensorflow-gpu==2.4.2) (2.10.0)\r\n",
      "Requirement already satisfied: gast==0.3.3 in /opt/conda/lib/python3.7/site-packages (from tensorflow-gpu==2.4.2) (0.3.3)\r\n",
      "Requirement already satisfied: tensorflow-estimator<2.5.0,>=2.4.0 in /opt/conda/lib/python3.7/site-packages (from tensorflow-gpu==2.4.2) (2.4.0)\r\n",
      "Requirement already satisfied: grpcio~=1.32.0 in /opt/conda/lib/python3.7/site-packages (from tensorflow-gpu==2.4.2) (1.32.0)\r\n",
      "Requirement already satisfied: flatbuffers~=1.12.0 in /opt/conda/lib/python3.7/site-packages (from tensorflow-gpu==2.4.2) (1.12)\r\n",
      "Requirement already satisfied: absl-py~=0.10 in /opt/conda/lib/python3.7/site-packages (from tensorflow-gpu==2.4.2) (0.12.0)\r\n",
      "Requirement already satisfied: typing-extensions~=3.7.4 in /opt/conda/lib/python3.7/site-packages (from tensorflow-gpu==2.4.2) (3.7.4.3)\r\n",
      "Requirement already satisfied: numpy~=1.19.2 in /opt/conda/lib/python3.7/site-packages (from tensorflow-gpu==2.4.2) (1.19.5)\r\n",
      "Requirement already satisfied: astunparse~=1.6.3 in /opt/conda/lib/python3.7/site-packages (from tensorflow-gpu==2.4.2) (1.6.3)\r\n",
      "Requirement already satisfied: opt-einsum~=3.3.0 in /opt/conda/lib/python3.7/site-packages (from tensorflow-gpu==2.4.2) (3.3.0)\r\n",
      "Requirement already satisfied: termcolor~=1.1.0 in /opt/conda/lib/python3.7/site-packages (from tensorflow-gpu==2.4.2) (1.1.0)\r\n",
      "Requirement already satisfied: protobuf>=3.9.2 in /opt/conda/lib/python3.7/site-packages (from tensorflow-gpu==2.4.2) (3.19.1)\r\n",
      "Requirement already satisfied: google-pasta~=0.2 in /opt/conda/lib/python3.7/site-packages (from tensorflow-gpu==2.4.2) (0.2.0)\r\n",
      "Requirement already satisfied: wheel~=0.35 in /opt/conda/lib/python3.7/site-packages (from tensorflow-gpu==2.4.2) (0.37.0)\r\n",
      "Requirement already satisfied: keras-preprocessing~=1.1.2 in /opt/conda/lib/python3.7/site-packages (from tensorflow-gpu==2.4.2) (1.1.2)\r\n",
      "Requirement already satisfied: wrapt~=1.12.1 in /opt/conda/lib/python3.7/site-packages (from tensorflow-gpu==2.4.2) (1.12.1)\r\n",
      "Requirement already satisfied: google-auth<2,>=1.6.3 in /opt/conda/lib/python3.7/site-packages (from tensorboard~=2.4->tensorflow-gpu==2.4.2) (1.35.0)\r\n",
      "Requirement already satisfied: werkzeug>=0.11.15 in /opt/conda/lib/python3.7/site-packages (from tensorboard~=2.4->tensorflow-gpu==2.4.2) (2.0.2)\r\n",
      "Requirement already satisfied: requests<3,>=2.21.0 in /opt/conda/lib/python3.7/site-packages (from tensorboard~=2.4->tensorflow-gpu==2.4.2) (2.25.1)\r\n",
      "Requirement already satisfied: google-auth-oauthlib<0.5,>=0.4.1 in /opt/conda/lib/python3.7/site-packages (from tensorboard~=2.4->tensorflow-gpu==2.4.2) (0.4.6)\r\n",
      "Requirement already satisfied: tensorboard-plugin-wit>=1.6.0 in /opt/conda/lib/python3.7/site-packages (from tensorboard~=2.4->tensorflow-gpu==2.4.2) (1.8.0)\r\n",
      "Requirement already satisfied: setuptools>=41.0.0 in /opt/conda/lib/python3.7/site-packages (from tensorboard~=2.4->tensorflow-gpu==2.4.2) (59.1.1)\r\n",
      "Requirement already satisfied: tensorboard-data-server<0.7.0,>=0.6.0 in /opt/conda/lib/python3.7/site-packages (from tensorboard~=2.4->tensorflow-gpu==2.4.2) (0.6.1)\r\n",
      "Requirement already satisfied: markdown>=2.6.8 in /opt/conda/lib/python3.7/site-packages (from tensorboard~=2.4->tensorflow-gpu==2.4.2) (3.3.6)\r\n",
      "Requirement already satisfied: rsa<5,>=3.1.4 in /opt/conda/lib/python3.7/site-packages (from google-auth<2,>=1.6.3->tensorboard~=2.4->tensorflow-gpu==2.4.2) (4.7.2)\r\n",
      "Requirement already satisfied: pyasn1-modules>=0.2.1 in /opt/conda/lib/python3.7/site-packages (from google-auth<2,>=1.6.3->tensorboard~=2.4->tensorflow-gpu==2.4.2) (0.2.7)\r\n",
      "Requirement already satisfied: cachetools<5.0,>=2.0.0 in /opt/conda/lib/python3.7/site-packages (from google-auth<2,>=1.6.3->tensorboard~=2.4->tensorflow-gpu==2.4.2) (4.2.4)\r\n",
      "Requirement already satisfied: requests-oauthlib>=0.7.0 in /opt/conda/lib/python3.7/site-packages (from google-auth-oauthlib<0.5,>=0.4.1->tensorboard~=2.4->tensorflow-gpu==2.4.2) (1.3.0)\r\n",
      "Requirement already satisfied: importlib-metadata>=4.4 in /opt/conda/lib/python3.7/site-packages (from markdown>=2.6.8->tensorboard~=2.4->tensorflow-gpu==2.4.2) (4.8.2)\r\n",
      "Requirement already satisfied: chardet<5,>=3.0.2 in /opt/conda/lib/python3.7/site-packages (from requests<3,>=2.21.0->tensorboard~=2.4->tensorflow-gpu==2.4.2) (4.0.0)\r\n",
      "Requirement already satisfied: certifi>=2017.4.17 in /opt/conda/lib/python3.7/site-packages (from requests<3,>=2.21.0->tensorboard~=2.4->tensorflow-gpu==2.4.2) (2021.10.8)\r\n",
      "Requirement already satisfied: idna<3,>=2.5 in /opt/conda/lib/python3.7/site-packages (from requests<3,>=2.21.0->tensorboard~=2.4->tensorflow-gpu==2.4.2) (2.10)\r\n",
      "Requirement already satisfied: urllib3<1.27,>=1.21.1 in /opt/conda/lib/python3.7/site-packages (from requests<3,>=2.21.0->tensorboard~=2.4->tensorflow-gpu==2.4.2) (1.26.7)\r\n",
      "Requirement already satisfied: zipp>=0.5 in /opt/conda/lib/python3.7/site-packages (from importlib-metadata>=4.4->markdown>=2.6.8->tensorboard~=2.4->tensorflow-gpu==2.4.2) (3.6.0)\r\n",
      "Requirement already satisfied: pyasn1<0.5.0,>=0.4.6 in /opt/conda/lib/python3.7/site-packages (from pyasn1-modules>=0.2.1->google-auth<2,>=1.6.3->tensorboard~=2.4->tensorflow-gpu==2.4.2) (0.4.8)\r\n",
      "Requirement already satisfied: oauthlib>=3.0.0 in /opt/conda/lib/python3.7/site-packages (from requests-oauthlib>=0.7.0->google-auth-oauthlib<0.5,>=0.4.1->tensorboard~=2.4->tensorflow-gpu==2.4.2) (3.1.1)\r\n",
      "Installing collected packages: tensorflow-gpu\r\n",
      "Successfully installed tensorflow-gpu-2.4.2\r\n",
      "\u001b[33mWARNING: Running pip as the 'root' user can result in broken permissions and conflicting behaviour with the system package manager. It is recommended to use a virtual environment instead: https://pip.pypa.io/warnings/venv\u001b[0m\r\n",
      "Collecting delayed\r\n",
      "  Downloading delayed-0.11.0b1-py2.py3-none-any.whl (19 kB)\r\n",
      "Collecting hiredis\r\n",
      "  Downloading hiredis-2.0.0-cp37-cp37m-manylinux2010_x86_64.whl (85 kB)\r\n",
      "     |████████████████████████████████| 85 kB 1.5 MB/s            \r\n",
      "\u001b[?25hRequirement already satisfied: redis in /opt/conda/lib/python3.7/site-packages (from delayed) (4.0.2)\r\n",
      "Requirement already satisfied: deprecated in /opt/conda/lib/python3.7/site-packages (from redis->delayed) (1.2.13)\r\n",
      "Requirement already satisfied: wrapt<2,>=1.10 in /opt/conda/lib/python3.7/site-packages (from deprecated->redis->delayed) (1.12.1)\r\n",
      "Installing collected packages: hiredis, delayed\r\n",
      "Successfully installed delayed-0.11.0b1 hiredis-2.0.0\r\n",
      "\u001b[33mWARNING: Running pip as the 'root' user can result in broken permissions and conflicting behaviour with the system package manager. It is recommended to use a virtual environment instead: https://pip.pypa.io/warnings/venv\u001b[0m\r\n",
      "Collecting alt-profanity-check\r\n",
      "  Downloading alt-profanity-check-1.0.2.1.tar.gz (1.9 MB)\r\n",
      "     |████████████████████████████████| 1.9 MB 2.1 MB/s            \r\n",
      "\u001b[?25h  Preparing metadata (setup.py) ... \u001b[?25l-\b \bdone\r\n",
      "\u001b[?25hCollecting scikit-learn==1.0.2\r\n",
      "  Downloading scikit_learn-1.0.2-cp37-cp37m-manylinux_2_17_x86_64.manylinux2014_x86_64.whl (24.8 MB)\r\n",
      "     |████████████████████████████████| 24.8 MB 33.5 MB/s            \r\n",
      "\u001b[?25hRequirement already satisfied: joblib>=1.1.0 in /opt/conda/lib/python3.7/site-packages (from alt-profanity-check) (1.1.0)\r\n",
      "Requirement already satisfied: threadpoolctl>=2.0.0 in /opt/conda/lib/python3.7/site-packages (from scikit-learn==1.0.2->alt-profanity-check) (3.0.0)\r\n",
      "Requirement already satisfied: scipy>=1.1.0 in /opt/conda/lib/python3.7/site-packages (from scikit-learn==1.0.2->alt-profanity-check) (1.7.2)\r\n",
      "Requirement already satisfied: numpy>=1.14.6 in /opt/conda/lib/python3.7/site-packages (from scikit-learn==1.0.2->alt-profanity-check) (1.19.5)\r\n",
      "Building wheels for collected packages: alt-profanity-check\r\n",
      "  Building wheel for alt-profanity-check (setup.py) ... \u001b[?25l-\b \b\\\b \b|\b \bdone\r\n",
      "\u001b[?25h  Created wheel for alt-profanity-check: filename=alt_profanity_check-1.0.2.1-py3-none-any.whl size=1865308 sha256=a26d6a64f2ed7d22dd7c302e71106924aa876952899f88d11ba931c4d111aa13\r\n",
      "  Stored in directory: /root/.cache/pip/wheels/97/0b/42/bcc90fa73e8d6765fab1c9436ac4bc5a6978887c937978db00\r\n",
      "Successfully built alt-profanity-check\r\n",
      "Installing collected packages: scikit-learn, alt-profanity-check\r\n",
      "  Attempting uninstall: scikit-learn\r\n",
      "    Found existing installation: scikit-learn 0.23.2\r\n",
      "    Uninstalling scikit-learn-0.23.2:\r\n",
      "      Successfully uninstalled scikit-learn-0.23.2\r\n",
      "\u001b[31mERROR: pip's dependency resolver does not currently take into account all the packages that are installed. This behaviour is the source of the following dependency conflicts.\r\n",
      "pdpbox 0.2.1 requires matplotlib==3.1.1, but you have matplotlib 3.5.0 which is incompatible.\r\n",
      "hypertools 0.7.0 requires scikit-learn!=0.22,<0.24,>=0.19.1, but you have scikit-learn 1.0.2 which is incompatible.\u001b[0m\r\n",
      "Successfully installed alt-profanity-check-1.0.2.1 scikit-learn-1.0.2\r\n",
      "\u001b[33mWARNING: Running pip as the 'root' user can result in broken permissions and conflicting behaviour with the system package manager. It is recommended to use a virtual environment instead: https://pip.pypa.io/warnings/venv\u001b[0m\r\n"
     ]
    },
    {
     "name": "stderr",
     "output_type": "stream",
     "text": [
      "2022-01-16 19:26:05.971434: I tensorflow/stream_executor/platform/default/dso_loader.cc:49] Successfully opened dynamic library libcudart.so.11.0\n",
      "/opt/conda/lib/python3.7/site-packages/sklearn/base.py:338: UserWarning: Trying to unpickle estimator TfidfTransformer from version 1.0.1 when using version 1.0.2. This might lead to breaking code or invalid results. Use at your own risk. For more info please refer to:\n",
      "https://scikit-learn.org/stable/modules/model_persistence.html#security-maintainability-limitations\n",
      "  UserWarning,\n",
      "/opt/conda/lib/python3.7/site-packages/sklearn/base.py:338: UserWarning: Trying to unpickle estimator TfidfVectorizer from version 1.0.1 when using version 1.0.2. This might lead to breaking code or invalid results. Use at your own risk. For more info please refer to:\n",
      "https://scikit-learn.org/stable/modules/model_persistence.html#security-maintainability-limitations\n",
      "  UserWarning,\n",
      "/opt/conda/lib/python3.7/site-packages/sklearn/base.py:338: UserWarning: Trying to unpickle estimator LinearSVC from version 1.0.1 when using version 1.0.2. This might lead to breaking code or invalid results. Use at your own risk. For more info please refer to:\n",
      "https://scikit-learn.org/stable/modules/model_persistence.html#security-maintainability-limitations\n",
      "  UserWarning,\n",
      "/opt/conda/lib/python3.7/site-packages/sklearn/base.py:338: UserWarning: Trying to unpickle estimator _SigmoidCalibration from version 1.0.1 when using version 1.0.2. This might lead to breaking code or invalid results. Use at your own risk. For more info please refer to:\n",
      "https://scikit-learn.org/stable/modules/model_persistence.html#security-maintainability-limitations\n",
      "  UserWarning,\n",
      "/opt/conda/lib/python3.7/site-packages/sklearn/base.py:338: UserWarning: Trying to unpickle estimator CalibratedClassifierCV from version 1.0.1 when using version 1.0.2. This might lead to breaking code or invalid results. Use at your own risk. For more info please refer to:\n",
      "https://scikit-learn.org/stable/modules/model_persistence.html#security-maintainability-limitations\n",
      "  UserWarning,\n"
     ]
    }
   ],
   "source": [
    "!pip install tensorflow-text==2.4.2\n",
    "!pip install tf-models-official==2.4\n",
    "!pip install tensorflow-gpu==2.4.2\n",
    "!pip install delayed\n",
    "!pip install alt-profanity-check\n",
    "import numpy as np\n",
    "import pandas as pd\n",
    "import tensorflow as tf\n",
    "import tensorflow_hub as hub\n",
    "import tensorflow_text as text\n",
    "from sklearn.metrics import confusion_matrix, ConfusionMatrixDisplay\n",
    "from sklearn.metrics import classification_report\n",
    "import seaborn as sns\n",
    "import matplotlib.pyplot as plt\n",
    "from wordcloud import WordCloud\n",
    "import re\n",
    "import nltk\n",
    "from nltk.corpus import stopwords\n",
    "from nltk.stem.porter import PorterStemmer\n",
    "import joblib\n",
    "from profanity_check import predict, predict_prob\n",
    "from tqdm import tqdm\n",
    "from sklearn.preprocessing import MinMaxScaler"
   ]
  },
  {
   "cell_type": "code",
   "execution_count": 2,
   "id": "2b0d30e6",
   "metadata": {
    "execution": {
     "iopub.execute_input": "2022-01-16T19:26:11.479046Z",
     "iopub.status.busy": "2022-01-16T19:26:11.478232Z",
     "iopub.status.idle": "2022-01-16T19:26:11.481324Z",
     "shell.execute_reply": "2022-01-16T19:26:11.479633Z",
     "shell.execute_reply.started": "2022-01-01T18:37:25.588491Z"
    },
    "papermill": {
     "duration": 0.379533,
     "end_time": "2022-01-16T19:26:11.481491",
     "exception": false,
     "start_time": "2022-01-16T19:26:11.101958",
     "status": "completed"
    },
    "tags": []
   },
   "outputs": [
    {
     "name": "stdout",
     "output_type": "stream",
     "text": [
      "2.4.2\n"
     ]
    }
   ],
   "source": [
    "print(tf.__version__)"
   ]
  },
  {
   "cell_type": "code",
   "execution_count": 3,
   "id": "4bc6d84e",
   "metadata": {
    "execution": {
     "iopub.execute_input": "2022-01-16T19:26:12.223043Z",
     "iopub.status.busy": "2022-01-16T19:26:12.221778Z",
     "iopub.status.idle": "2022-01-16T19:26:12.972233Z",
     "shell.execute_reply": "2022-01-16T19:26:12.971650Z",
     "shell.execute_reply.started": "2022-01-01T18:37:25.599209Z"
    },
    "papermill": {
     "duration": 1.135173,
     "end_time": "2022-01-16T19:26:12.972409",
     "exception": false,
     "start_time": "2022-01-16T19:26:11.837236",
     "status": "completed"
    },
    "tags": []
   },
   "outputs": [
    {
     "name": "stdout",
     "output_type": "stream",
     "text": [
      "Sun Jan 16 19:26:12 2022       \r\n",
      "+-----------------------------------------------------------------------------+\r\n",
      "| NVIDIA-SMI 450.119.04   Driver Version: 450.119.04   CUDA Version: 11.0     |\r\n",
      "|-------------------------------+----------------------+----------------------+\r\n",
      "| GPU  Name        Persistence-M| Bus-Id        Disp.A | Volatile Uncorr. ECC |\r\n",
      "| Fan  Temp  Perf  Pwr:Usage/Cap|         Memory-Usage | GPU-Util  Compute M. |\r\n",
      "|                               |                      |               MIG M. |\r\n",
      "|===============================+======================+======================|\r\n",
      "|   0  Tesla P100-PCIE...  Off  | 00000000:00:04.0 Off |                    0 |\r\n",
      "| N/A   37C    P0    28W / 250W |      0MiB / 16280MiB |      0%      Default |\r\n",
      "|                               |                      |                  N/A |\r\n",
      "+-------------------------------+----------------------+----------------------+\r\n",
      "                                                                               \r\n",
      "+-----------------------------------------------------------------------------+\r\n",
      "| Processes:                                                                  |\r\n",
      "|  GPU   GI   CI        PID   Type   Process name                  GPU Memory |\r\n",
      "|        ID   ID                                                   Usage      |\r\n",
      "|=============================================================================|\r\n",
      "|  No running processes found                                                 |\r\n",
      "+-----------------------------------------------------------------------------+\r\n"
     ]
    }
   ],
   "source": [
    "!nvidia-smi "
   ]
  },
  {
   "cell_type": "code",
   "execution_count": 4,
   "id": "299b5b49",
   "metadata": {
    "execution": {
     "iopub.execute_input": "2022-01-16T19:26:13.698299Z",
     "iopub.status.busy": "2022-01-16T19:26:13.697659Z",
     "iopub.status.idle": "2022-01-16T19:26:14.555740Z",
     "shell.execute_reply": "2022-01-16T19:26:14.556193Z",
     "shell.execute_reply.started": "2022-01-01T18:37:26.357478Z"
    },
    "papermill": {
     "duration": 1.228354,
     "end_time": "2022-01-16T19:26:14.556340",
     "exception": false,
     "start_time": "2022-01-16T19:26:13.327986",
     "status": "completed"
    },
    "tags": []
   },
   "outputs": [
    {
     "name": "stderr",
     "output_type": "stream",
     "text": [
      "2022-01-16 19:26:13.694493: I tensorflow/core/platform/cpu_feature_guard.cc:142] This TensorFlow binary is optimized with oneAPI Deep Neural Network Library (oneDNN) to use the following CPU instructions in performance-critical operations:  AVX2 AVX512F FMA\n",
      "To enable them in other operations, rebuild TensorFlow with the appropriate compiler flags.\n"
     ]
    },
    {
     "data": {
      "text/plain": [
       "True"
      ]
     },
     "execution_count": 4,
     "metadata": {},
     "output_type": "execute_result"
    },
    {
     "name": "stderr",
     "output_type": "stream",
     "text": [
      "2022-01-16 19:26:13.695137: I tensorflow/compiler/jit/xla_gpu_device.cc:99] Not creating XLA devices, tf_xla_enable_xla_devices not set\n",
      "2022-01-16 19:26:13.697288: I tensorflow/stream_executor/platform/default/dso_loader.cc:49] Successfully opened dynamic library libcuda.so.1\n",
      "2022-01-16 19:26:13.740650: I tensorflow/stream_executor/cuda/cuda_gpu_executor.cc:941] successful NUMA node read from SysFS had negative value (-1), but there must be at least one NUMA node, so returning NUMA node zero\n",
      "2022-01-16 19:26:13.741276: I tensorflow/core/common_runtime/gpu/gpu_device.cc:1720] Found device 0 with properties: \n",
      "pciBusID: 0000:00:04.0 name: Tesla P100-PCIE-16GB computeCapability: 6.0\n",
      "coreClock: 1.3285GHz coreCount: 56 deviceMemorySize: 15.90GiB deviceMemoryBandwidth: 681.88GiB/s\n",
      "2022-01-16 19:26:13.741341: I tensorflow/stream_executor/platform/default/dso_loader.cc:49] Successfully opened dynamic library libcudart.so.11.0\n",
      "2022-01-16 19:26:13.779064: I tensorflow/stream_executor/platform/default/dso_loader.cc:49] Successfully opened dynamic library libcublas.so.11\n",
      "2022-01-16 19:26:13.779279: I tensorflow/stream_executor/platform/default/dso_loader.cc:49] Successfully opened dynamic library libcublasLt.so.11\n",
      "2022-01-16 19:26:13.795960: I tensorflow/stream_executor/platform/default/dso_loader.cc:49] Successfully opened dynamic library libcufft.so.10\n",
      "2022-01-16 19:26:13.805561: I tensorflow/stream_executor/platform/default/dso_loader.cc:49] Successfully opened dynamic library libcurand.so.10\n",
      "2022-01-16 19:26:13.832485: I tensorflow/stream_executor/platform/default/dso_loader.cc:49] Successfully opened dynamic library libcusolver.so.10\n",
      "2022-01-16 19:26:13.841214: I tensorflow/stream_executor/platform/default/dso_loader.cc:49] Successfully opened dynamic library libcusparse.so.11\n",
      "2022-01-16 19:26:13.843966: I tensorflow/stream_executor/platform/default/dso_loader.cc:49] Successfully opened dynamic library libcudnn.so.8\n",
      "2022-01-16 19:26:13.844212: I tensorflow/stream_executor/cuda/cuda_gpu_executor.cc:941] successful NUMA node read from SysFS had negative value (-1), but there must be at least one NUMA node, so returning NUMA node zero\n",
      "2022-01-16 19:26:13.845086: I tensorflow/stream_executor/cuda/cuda_gpu_executor.cc:941] successful NUMA node read from SysFS had negative value (-1), but there must be at least one NUMA node, so returning NUMA node zero\n",
      "2022-01-16 19:26:13.845800: I tensorflow/core/common_runtime/gpu/gpu_device.cc:1862] Adding visible gpu devices: 0\n",
      "2022-01-16 19:26:13.845874: I tensorflow/stream_executor/platform/default/dso_loader.cc:49] Successfully opened dynamic library libcudart.so.11.0\n",
      "2022-01-16 19:26:14.538604: I tensorflow/core/common_runtime/gpu/gpu_device.cc:1261] Device interconnect StreamExecutor with strength 1 edge matrix:\n",
      "2022-01-16 19:26:14.538650: I tensorflow/core/common_runtime/gpu/gpu_device.cc:1267]      0 \n",
      "2022-01-16 19:26:14.538660: I tensorflow/core/common_runtime/gpu/gpu_device.cc:1280] 0:   N \n",
      "2022-01-16 19:26:14.539068: I tensorflow/stream_executor/cuda/cuda_gpu_executor.cc:941] successful NUMA node read from SysFS had negative value (-1), but there must be at least one NUMA node, so returning NUMA node zero\n",
      "2022-01-16 19:26:14.539886: I tensorflow/stream_executor/cuda/cuda_gpu_executor.cc:941] successful NUMA node read from SysFS had negative value (-1), but there must be at least one NUMA node, so returning NUMA node zero\n",
      "2022-01-16 19:26:14.540554: I tensorflow/stream_executor/cuda/cuda_gpu_executor.cc:941] successful NUMA node read from SysFS had negative value (-1), but there must be at least one NUMA node, so returning NUMA node zero\n",
      "2022-01-16 19:26:14.541184: I tensorflow/core/common_runtime/gpu/gpu_device.cc:1406] Created TensorFlow device (/device:GPU:0 with 14957 MB memory) -> physical GPU (device: 0, name: Tesla P100-PCIE-16GB, pci bus id: 0000:00:04.0, compute capability: 6.0)\n"
     ]
    }
   ],
   "source": [
    "tf.test.is_gpu_available()"
   ]
  },
  {
   "cell_type": "markdown",
   "id": "596cba74",
   "metadata": {
    "papermill": {
     "duration": 0.361347,
     "end_time": "2022-01-16T19:26:15.276388",
     "exception": false,
     "start_time": "2022-01-16T19:26:14.915041",
     "status": "completed"
    },
    "tags": []
   },
   "source": [
    "# Reading Training Data"
   ]
  },
  {
   "cell_type": "code",
   "execution_count": 5,
   "id": "a9be98c5",
   "metadata": {
    "execution": {
     "iopub.execute_input": "2022-01-16T19:26:16.015097Z",
     "iopub.status.busy": "2022-01-16T19:26:16.014423Z",
     "iopub.status.idle": "2022-01-16T19:26:16.124181Z",
     "shell.execute_reply": "2022-01-16T19:26:16.123656Z",
     "shell.execute_reply.started": "2022-01-01T18:37:27.105436Z"
    },
    "papermill": {
     "duration": 0.492666,
     "end_time": "2022-01-16T19:26:16.124321",
     "exception": false,
     "start_time": "2022-01-16T19:26:15.631655",
     "status": "completed"
    },
    "tags": []
   },
   "outputs": [
    {
     "data": {
      "text/html": [
       "<div>\n",
       "<style scoped>\n",
       "    .dataframe tbody tr th:only-of-type {\n",
       "        vertical-align: middle;\n",
       "    }\n",
       "\n",
       "    .dataframe tbody tr th {\n",
       "        vertical-align: top;\n",
       "    }\n",
       "\n",
       "    .dataframe thead th {\n",
       "        text-align: right;\n",
       "    }\n",
       "</style>\n",
       "<table border=\"1\" class=\"dataframe\">\n",
       "  <thead>\n",
       "    <tr style=\"text-align: right;\">\n",
       "      <th></th>\n",
       "      <th>id</th>\n",
       "      <th>tweet</th>\n",
       "      <th>label</th>\n",
       "    </tr>\n",
       "  </thead>\n",
       "  <tbody>\n",
       "    <tr>\n",
       "      <th>0</th>\n",
       "      <td>1</td>\n",
       "      <td>The CDC currently reports 99031 deaths. In gen...</td>\n",
       "      <td>real</td>\n",
       "    </tr>\n",
       "    <tr>\n",
       "      <th>1</th>\n",
       "      <td>2</td>\n",
       "      <td>States reported 1121 deaths a small rise from ...</td>\n",
       "      <td>real</td>\n",
       "    </tr>\n",
       "    <tr>\n",
       "      <th>2</th>\n",
       "      <td>3</td>\n",
       "      <td>Politically Correct Woman (Almost) Uses Pandem...</td>\n",
       "      <td>fake</td>\n",
       "    </tr>\n",
       "    <tr>\n",
       "      <th>3</th>\n",
       "      <td>4</td>\n",
       "      <td>#IndiaFightsCorona: We have 1524 #COVID testin...</td>\n",
       "      <td>real</td>\n",
       "    </tr>\n",
       "    <tr>\n",
       "      <th>4</th>\n",
       "      <td>5</td>\n",
       "      <td>Populous states can generate large case counts...</td>\n",
       "      <td>real</td>\n",
       "    </tr>\n",
       "  </tbody>\n",
       "</table>\n",
       "</div>"
      ],
      "text/plain": [
       "   id                                              tweet label\n",
       "0   1  The CDC currently reports 99031 deaths. In gen...  real\n",
       "1   2  States reported 1121 deaths a small rise from ...  real\n",
       "2   3  Politically Correct Woman (Almost) Uses Pandem...  fake\n",
       "3   4  #IndiaFightsCorona: We have 1524 #COVID testin...  real\n",
       "4   5  Populous states can generate large case counts...  real"
      ]
     },
     "execution_count": 5,
     "metadata": {},
     "output_type": "execute_result"
    }
   ],
   "source": [
    "df_train = pd.read_csv(\"../input/covid-misinfo/Constraint_English_Train.csv\")\n",
    "df_val = pd.read_csv(\"../input/covid-misinfo/Constraint_English_Val.csv\")\n",
    "df = pd.concat([df_train, df_val], ignore_index=True)\n",
    "df.head()"
   ]
  },
  {
   "cell_type": "code",
   "execution_count": 6,
   "id": "90e60b70",
   "metadata": {
    "execution": {
     "iopub.execute_input": "2022-01-16T19:26:16.852231Z",
     "iopub.status.busy": "2022-01-16T19:26:16.850586Z",
     "iopub.status.idle": "2022-01-16T19:26:16.857800Z",
     "shell.execute_reply": "2022-01-16T19:26:16.858214Z",
     "shell.execute_reply.started": "2022-01-01T18:37:27.201869Z"
    },
    "papermill": {
     "duration": 0.375862,
     "end_time": "2022-01-16T19:26:16.858352",
     "exception": false,
     "start_time": "2022-01-16T19:26:16.482490",
     "status": "completed"
    },
    "tags": []
   },
   "outputs": [
    {
     "data": {
      "text/plain": [
       "(8560, 3)"
      ]
     },
     "execution_count": 6,
     "metadata": {},
     "output_type": "execute_result"
    }
   ],
   "source": [
    "df.shape"
   ]
  },
  {
   "cell_type": "markdown",
   "id": "f1dc7c4d",
   "metadata": {
    "papermill": {
     "duration": 0.357772,
     "end_time": "2022-01-16T19:26:17.570249",
     "exception": false,
     "start_time": "2022-01-16T19:26:17.212477",
     "status": "completed"
    },
    "tags": []
   },
   "source": [
    "# Training Data Insight"
   ]
  },
  {
   "cell_type": "code",
   "execution_count": 7,
   "id": "7a2e77a6",
   "metadata": {
    "execution": {
     "iopub.execute_input": "2022-01-16T19:26:18.316292Z",
     "iopub.status.busy": "2022-01-16T19:26:18.313933Z",
     "iopub.status.idle": "2022-01-16T19:26:18.364644Z",
     "shell.execute_reply": "2022-01-16T19:26:18.365130Z",
     "shell.execute_reply.started": "2022-01-01T18:37:27.210201Z"
    },
    "papermill": {
     "duration": 0.431691,
     "end_time": "2022-01-16T19:26:18.365286",
     "exception": false,
     "start_time": "2022-01-16T19:26:17.933595",
     "status": "completed"
    },
    "tags": []
   },
   "outputs": [
    {
     "data": {
      "text/html": [
       "<div>\n",
       "<style scoped>\n",
       "    .dataframe tbody tr th:only-of-type {\n",
       "        vertical-align: middle;\n",
       "    }\n",
       "\n",
       "    .dataframe tbody tr th {\n",
       "        vertical-align: top;\n",
       "    }\n",
       "\n",
       "    .dataframe thead tr th {\n",
       "        text-align: left;\n",
       "    }\n",
       "\n",
       "    .dataframe thead tr:last-of-type th {\n",
       "        text-align: right;\n",
       "    }\n",
       "</style>\n",
       "<table border=\"1\" class=\"dataframe\">\n",
       "  <thead>\n",
       "    <tr>\n",
       "      <th></th>\n",
       "      <th colspan=\"8\" halign=\"left\">id</th>\n",
       "    </tr>\n",
       "    <tr>\n",
       "      <th></th>\n",
       "      <th>count</th>\n",
       "      <th>mean</th>\n",
       "      <th>std</th>\n",
       "      <th>min</th>\n",
       "      <th>25%</th>\n",
       "      <th>50%</th>\n",
       "      <th>75%</th>\n",
       "      <th>max</th>\n",
       "    </tr>\n",
       "    <tr>\n",
       "      <th>label</th>\n",
       "      <th></th>\n",
       "      <th></th>\n",
       "      <th></th>\n",
       "      <th></th>\n",
       "      <th></th>\n",
       "      <th></th>\n",
       "      <th></th>\n",
       "      <th></th>\n",
       "    </tr>\n",
       "  </thead>\n",
       "  <tbody>\n",
       "    <tr>\n",
       "      <th>fake</th>\n",
       "      <td>4080.0</td>\n",
       "      <td>2703.599755</td>\n",
       "      <td>1872.863928</td>\n",
       "      <td>1.0</td>\n",
       "      <td>1095.75</td>\n",
       "      <td>2193.5</td>\n",
       "      <td>4284.25</td>\n",
       "      <td>6419.0</td>\n",
       "    </tr>\n",
       "    <tr>\n",
       "      <th>real</th>\n",
       "      <td>4480.0</td>\n",
       "      <td>2649.909152</td>\n",
       "      <td>1884.354217</td>\n",
       "      <td>1.0</td>\n",
       "      <td>1053.75</td>\n",
       "      <td>2119.5</td>\n",
       "      <td>4275.25</td>\n",
       "      <td>6420.0</td>\n",
       "    </tr>\n",
       "  </tbody>\n",
       "</table>\n",
       "</div>"
      ],
      "text/plain": [
       "           id                                                                 \n",
       "        count         mean          std  min      25%     50%      75%     max\n",
       "label                                                                         \n",
       "fake   4080.0  2703.599755  1872.863928  1.0  1095.75  2193.5  4284.25  6419.0\n",
       "real   4480.0  2649.909152  1884.354217  1.0  1053.75  2119.5  4275.25  6420.0"
      ]
     },
     "execution_count": 7,
     "metadata": {},
     "output_type": "execute_result"
    }
   ],
   "source": [
    "df.groupby('label').describe()"
   ]
  },
  {
   "cell_type": "code",
   "execution_count": 8,
   "id": "a60da81a",
   "metadata": {
    "execution": {
     "iopub.execute_input": "2022-01-16T19:26:19.425042Z",
     "iopub.status.busy": "2022-01-16T19:26:19.424069Z",
     "iopub.status.idle": "2022-01-16T19:26:19.654927Z",
     "shell.execute_reply": "2022-01-16T19:26:19.655385Z",
     "shell.execute_reply.started": "2022-01-01T18:37:27.263942Z"
    },
    "papermill": {
     "duration": 0.753894,
     "end_time": "2022-01-16T19:26:19.655590",
     "exception": false,
     "start_time": "2022-01-16T19:26:18.901696",
     "status": "completed"
    },
    "tags": []
   },
   "outputs": [
    {
     "name": "stderr",
     "output_type": "stream",
     "text": [
      "/opt/conda/lib/python3.7/site-packages/seaborn/_decorators.py:43: FutureWarning: Pass the following variable as a keyword arg: x. From version 0.12, the only valid positional argument will be `data`, and passing other arguments without an explicit keyword will result in an error or misinterpretation.\n",
      "  FutureWarning\n"
     ]
    },
    {
     "data": {
      "image/png": "[encoded data removed]",
      "text/plain": [
       "<Figure size 576x432 with 1 Axes>"
      ]
     },
     "metadata": {
      "needs_background": "light"
     },
     "output_type": "display_data"
    }
   ],
   "source": [
    "plt.figure(figsize=(8,6))\n",
    "sns.set_style(style='darkgrid')\n",
    "sns.countplot(df['label'])\n",
    "plt.title(\"Covid Fake and Real Tweets\")\n",
    "plt.show()"
   ]
  },
  {
   "cell_type": "code",
   "execution_count": 9,
   "id": "ce6c168e",
   "metadata": {
    "execution": {
     "iopub.execute_input": "2022-01-16T19:26:20.392145Z",
     "iopub.status.busy": "2022-01-16T19:26:20.391256Z",
     "iopub.status.idle": "2022-01-16T19:26:20.495305Z",
     "shell.execute_reply": "2022-01-16T19:26:20.495895Z",
     "shell.execute_reply.started": "2022-01-01T18:37:27.458061Z"
    },
    "papermill": {
     "duration": 0.478831,
     "end_time": "2022-01-16T19:26:20.496120",
     "exception": false,
     "start_time": "2022-01-16T19:26:20.017289",
     "status": "completed"
    },
    "tags": []
   },
   "outputs": [
    {
     "data": {
      "image/png": "[encoded data removed]",
      "text/plain": [
       "<Figure size 432x576 with 1 Axes>"
      ]
     },
     "metadata": {},
     "output_type": "display_data"
    }
   ],
   "source": [
    "plt.figure(figsize=(6,8))\n",
    "sns.set_style(\"darkgrid\")\n",
    "df[\"label\"].value_counts().plot.pie(autopct='%0.2f%%')\n",
    "plt.title(\"Percent contribution\")\n",
    "plt.show()"
   ]
  },
  {
   "cell_type": "markdown",
   "id": "c74dc24d",
   "metadata": {
    "papermill": {
     "duration": 0.387469,
     "end_time": "2022-01-16T19:26:21.241651",
     "exception": false,
     "start_time": "2022-01-16T19:26:20.854182",
     "status": "completed"
    },
    "tags": []
   },
   "source": [
    "# Feature Engineering"
   ]
  },
  {
   "cell_type": "code",
   "execution_count": 10,
   "id": "043e5f0d",
   "metadata": {
    "execution": {
     "iopub.execute_input": "2022-01-16T19:26:21.995723Z",
     "iopub.status.busy": "2022-01-16T19:26:21.994656Z",
     "iopub.status.idle": "2022-01-16T19:26:21.996699Z",
     "shell.execute_reply": "2022-01-16T19:26:21.997180Z",
     "shell.execute_reply.started": "2022-01-01T18:37:27.557069Z"
    },
    "papermill": {
     "duration": 0.378995,
     "end_time": "2022-01-16T19:26:21.997339",
     "exception": false,
     "start_time": "2022-01-16T19:26:21.618344",
     "status": "completed"
    },
    "tags": []
   },
   "outputs": [],
   "source": [
    "def get_profanity_scores(text):\n",
    "    embeds = []\n",
    "    \n",
    "    for line in tqdm(text):\n",
    "        \n",
    "        embeds.append(predict_prob([line])[0])\n",
    "    \n",
    "    assert len(text) == len(embeds)    \n",
    "    return embeds"
   ]
  },
  {
   "cell_type": "code",
   "execution_count": 11,
   "id": "5565a790",
   "metadata": {
    "execution": {
     "iopub.execute_input": "2022-01-16T19:26:22.721875Z",
     "iopub.status.busy": "2022-01-16T19:26:22.720920Z",
     "iopub.status.idle": "2022-01-16T19:26:22.722833Z",
     "shell.execute_reply": "2022-01-16T19:26:22.723224Z",
     "shell.execute_reply.started": "2022-01-01T18:37:43.585262Z"
    },
    "papermill": {
     "duration": 0.374381,
     "end_time": "2022-01-16T19:26:22.723406",
     "exception": false,
     "start_time": "2022-01-16T19:26:22.349025",
     "status": "completed"
    },
    "tags": []
   },
   "outputs": [],
   "source": [
    "#textural features\n",
    "def get_text_ft(text):\n",
    "    tweet_len =  len(text)\n",
    "    tweet_num_of_upper_char = sum([len([char for char in word if char.isupper()]) for word in text])\n",
    "    tweet_num_of_qmarks = sum([len([char for char in word if char == '?']) for word in text]) \n",
    "    tweet_num_of_exclmmarks = sum([len([char for char in word if char == '!']) for word in text])\n",
    "    return tweet_len, tweet_num_of_upper_char, tweet_num_of_qmarks, tweet_num_of_exclmmarks"
   ]
  },
  {
   "cell_type": "code",
   "execution_count": 12,
   "id": "3ff4e019",
   "metadata": {
    "execution": {
     "iopub.execute_input": "2022-01-16T19:26:23.451635Z",
     "iopub.status.busy": "2022-01-16T19:26:23.450795Z",
     "iopub.status.idle": "2022-01-16T19:26:43.603123Z",
     "shell.execute_reply": "2022-01-16T19:26:43.603654Z",
     "shell.execute_reply.started": "2022-01-01T18:37:43.594038Z"
    },
    "papermill": {
     "duration": 20.524647,
     "end_time": "2022-01-16T19:26:43.603847",
     "exception": false,
     "start_time": "2022-01-16T19:26:23.079200",
     "status": "completed"
    },
    "tags": []
   },
   "outputs": [
    {
     "name": "stderr",
     "output_type": "stream",
     "text": [
      "100%|██████████| 8560/8560 [00:18<00:00, 470.78it/s]\n"
     ]
    }
   ],
   "source": [
    "df['profanity_scores'] = get_profanity_scores(df['tweet'])\n",
    "df[['length','num_of_upper_char','num_of_qmarks','num_of_exclmmarks']] = df['tweet'].apply(lambda x: get_text_ft(x)).to_list()"
   ]
  },
  {
   "cell_type": "code",
   "execution_count": 13,
   "id": "a655f919",
   "metadata": {
    "execution": {
     "iopub.execute_input": "2022-01-16T19:26:44.435598Z",
     "iopub.status.busy": "2022-01-16T19:26:44.434538Z",
     "iopub.status.idle": "2022-01-16T19:26:44.449069Z",
     "shell.execute_reply": "2022-01-16T19:26:44.449650Z"
    },
    "papermill": {
     "duration": 0.432706,
     "end_time": "2022-01-16T19:26:44.449827",
     "exception": false,
     "start_time": "2022-01-16T19:26:44.017121",
     "status": "completed"
    },
    "tags": []
   },
   "outputs": [
    {
     "data": {
      "text/html": [
       "<div>\n",
       "<style scoped>\n",
       "    .dataframe tbody tr th:only-of-type {\n",
       "        vertical-align: middle;\n",
       "    }\n",
       "\n",
       "    .dataframe tbody tr th {\n",
       "        vertical-align: top;\n",
       "    }\n",
       "\n",
       "    .dataframe thead th {\n",
       "        text-align: right;\n",
       "    }\n",
       "</style>\n",
       "<table border=\"1\" class=\"dataframe\">\n",
       "  <thead>\n",
       "    <tr style=\"text-align: right;\">\n",
       "      <th></th>\n",
       "      <th>id</th>\n",
       "      <th>tweet</th>\n",
       "      <th>label</th>\n",
       "      <th>profanity_scores</th>\n",
       "      <th>length</th>\n",
       "      <th>num_of_upper_char</th>\n",
       "      <th>num_of_qmarks</th>\n",
       "      <th>num_of_exclmmarks</th>\n",
       "    </tr>\n",
       "  </thead>\n",
       "  <tbody>\n",
       "    <tr>\n",
       "      <th>0</th>\n",
       "      <td>1</td>\n",
       "      <td>The CDC currently reports 99031 deaths. In gen...</td>\n",
       "      <td>real</td>\n",
       "      <td>0.009465</td>\n",
       "      <td>190</td>\n",
       "      <td>6</td>\n",
       "      <td>0</td>\n",
       "      <td>0</td>\n",
       "    </tr>\n",
       "    <tr>\n",
       "      <th>1</th>\n",
       "      <td>2</td>\n",
       "      <td>States reported 1121 deaths a small rise from ...</td>\n",
       "      <td>real</td>\n",
       "      <td>0.031755</td>\n",
       "      <td>129</td>\n",
       "      <td>10</td>\n",
       "      <td>0</td>\n",
       "      <td>0</td>\n",
       "    </tr>\n",
       "    <tr>\n",
       "      <th>2</th>\n",
       "      <td>3</td>\n",
       "      <td>Politically Correct Woman (Almost) Uses Pandem...</td>\n",
       "      <td>fake</td>\n",
       "      <td>0.061657</td>\n",
       "      <td>131</td>\n",
       "      <td>16</td>\n",
       "      <td>0</td>\n",
       "      <td>0</td>\n",
       "    </tr>\n",
       "    <tr>\n",
       "      <th>3</th>\n",
       "      <td>4</td>\n",
       "      <td>#IndiaFightsCorona: We have 1524 #COVID testin...</td>\n",
       "      <td>real</td>\n",
       "      <td>0.034314</td>\n",
       "      <td>204</td>\n",
       "      <td>32</td>\n",
       "      <td>0</td>\n",
       "      <td>0</td>\n",
       "    </tr>\n",
       "    <tr>\n",
       "      <th>4</th>\n",
       "      <td>5</td>\n",
       "      <td>Populous states can generate large case counts...</td>\n",
       "      <td>real</td>\n",
       "      <td>0.014909</td>\n",
       "      <td>231</td>\n",
       "      <td>26</td>\n",
       "      <td>0</td>\n",
       "      <td>0</td>\n",
       "    </tr>\n",
       "    <tr>\n",
       "      <th>...</th>\n",
       "      <td>...</td>\n",
       "      <td>...</td>\n",
       "      <td>...</td>\n",
       "      <td>...</td>\n",
       "      <td>...</td>\n",
       "      <td>...</td>\n",
       "      <td>...</td>\n",
       "      <td>...</td>\n",
       "    </tr>\n",
       "    <tr>\n",
       "      <th>8555</th>\n",
       "      <td>2136</td>\n",
       "      <td>Donald Trump wrongly claimed that New Zealand ...</td>\n",
       "      <td>fake</td>\n",
       "      <td>0.011340</td>\n",
       "      <td>241</td>\n",
       "      <td>18</td>\n",
       "      <td>0</td>\n",
       "      <td>0</td>\n",
       "    </tr>\n",
       "    <tr>\n",
       "      <th>8556</th>\n",
       "      <td>2137</td>\n",
       "      <td>Current understanding is #COVID19 spreads most...</td>\n",
       "      <td>real</td>\n",
       "      <td>0.101561</td>\n",
       "      <td>230</td>\n",
       "      <td>17</td>\n",
       "      <td>0</td>\n",
       "      <td>0</td>\n",
       "    </tr>\n",
       "    <tr>\n",
       "      <th>8557</th>\n",
       "      <td>2138</td>\n",
       "      <td>Nothing screams “I am sat around doing fuck al...</td>\n",
       "      <td>fake</td>\n",
       "      <td>0.997964</td>\n",
       "      <td>184</td>\n",
       "      <td>6</td>\n",
       "      <td>0</td>\n",
       "      <td>0</td>\n",
       "    </tr>\n",
       "    <tr>\n",
       "      <th>8558</th>\n",
       "      <td>2139</td>\n",
       "      <td>Birx says COVID-19 outbreak not under control ...</td>\n",
       "      <td>fake</td>\n",
       "      <td>0.029324</td>\n",
       "      <td>102</td>\n",
       "      <td>9</td>\n",
       "      <td>0</td>\n",
       "      <td>0</td>\n",
       "    </tr>\n",
       "    <tr>\n",
       "      <th>8559</th>\n",
       "      <td>2140</td>\n",
       "      <td>Another 4422 new coronavirus cases have been c...</td>\n",
       "      <td>real</td>\n",
       "      <td>0.010656</td>\n",
       "      <td>276</td>\n",
       "      <td>14</td>\n",
       "      <td>0</td>\n",
       "      <td>0</td>\n",
       "    </tr>\n",
       "  </tbody>\n",
       "</table>\n",
       "<p>8560 rows × 8 columns</p>\n",
       "</div>"
      ],
      "text/plain": [
       "        id                                              tweet label  \\\n",
       "0        1  The CDC currently reports 99031 deaths. In gen...  real   \n",
       "1        2  States reported 1121 deaths a small rise from ...  real   \n",
       "2        3  Politically Correct Woman (Almost) Uses Pandem...  fake   \n",
       "3        4  #IndiaFightsCorona: We have 1524 #COVID testin...  real   \n",
       "4        5  Populous states can generate large case counts...  real   \n",
       "...    ...                                                ...   ...   \n",
       "8555  2136  Donald Trump wrongly claimed that New Zealand ...  fake   \n",
       "8556  2137  Current understanding is #COVID19 spreads most...  real   \n",
       "8557  2138  Nothing screams “I am sat around doing fuck al...  fake   \n",
       "8558  2139  Birx says COVID-19 outbreak not under control ...  fake   \n",
       "8559  2140  Another 4422 new coronavirus cases have been c...  real   \n",
       "\n",
       "      profanity_scores  length  num_of_upper_char  num_of_qmarks  \\\n",
       "0             0.009465     190                  6              0   \n",
       "1             0.031755     129                 10              0   \n",
       "2             0.061657     131                 16              0   \n",
       "3             0.034314     204                 32              0   \n",
       "4             0.014909     231                 26              0   \n",
       "...                ...     ...                ...            ...   \n",
       "8555          0.011340     241                 18              0   \n",
       "8556          0.101561     230                 17              0   \n",
       "8557          0.997964     184                  6              0   \n",
       "8558          0.029324     102                  9              0   \n",
       "8559          0.010656     276                 14              0   \n",
       "\n",
       "      num_of_exclmmarks  \n",
       "0                     0  \n",
       "1                     0  \n",
       "2                     0  \n",
       "3                     0  \n",
       "4                     0  \n",
       "...                 ...  \n",
       "8555                  0  \n",
       "8556                  0  \n",
       "8557                  0  \n",
       "8558                  0  \n",
       "8559                  0  \n",
       "\n",
       "[8560 rows x 8 columns]"
      ]
     },
     "execution_count": 13,
     "metadata": {},
     "output_type": "execute_result"
    }
   ],
   "source": [
    "df"
   ]
  },
  {
   "cell_type": "code",
   "execution_count": 14,
   "id": "330a58d6",
   "metadata": {
    "execution": {
     "iopub.execute_input": "2022-01-16T19:26:45.288878Z",
     "iopub.status.busy": "2022-01-16T19:26:45.287973Z",
     "iopub.status.idle": "2022-01-16T19:26:45.302006Z",
     "shell.execute_reply": "2022-01-16T19:26:45.302567Z"
    },
    "papermill": {
     "duration": 0.434942,
     "end_time": "2022-01-16T19:26:45.302746",
     "exception": false,
     "start_time": "2022-01-16T19:26:44.867804",
     "status": "completed"
    },
    "tags": []
   },
   "outputs": [
    {
     "data": {
      "text/html": [
       "<div>\n",
       "<style scoped>\n",
       "    .dataframe tbody tr th:only-of-type {\n",
       "        vertical-align: middle;\n",
       "    }\n",
       "\n",
       "    .dataframe tbody tr th {\n",
       "        vertical-align: top;\n",
       "    }\n",
       "\n",
       "    .dataframe thead th {\n",
       "        text-align: right;\n",
       "    }\n",
       "</style>\n",
       "<table border=\"1\" class=\"dataframe\">\n",
       "  <thead>\n",
       "    <tr style=\"text-align: right;\">\n",
       "      <th></th>\n",
       "      <th>id</th>\n",
       "      <th>tweet</th>\n",
       "      <th>label</th>\n",
       "      <th>profanity_scores</th>\n",
       "      <th>length</th>\n",
       "      <th>num_of_upper_char</th>\n",
       "      <th>num_of_qmarks</th>\n",
       "      <th>num_of_exclmmarks</th>\n",
       "    </tr>\n",
       "  </thead>\n",
       "  <tbody>\n",
       "    <tr>\n",
       "      <th>2160</th>\n",
       "      <td>2161</td>\n",
       "      <td>Local Man Sick To Fucking Death Hearing About ...</td>\n",
       "      <td>fake</td>\n",
       "      <td>0.999747</td>\n",
       "      <td>85</td>\n",
       "      <td>16</td>\n",
       "      <td>0</td>\n",
       "      <td>0</td>\n",
       "    </tr>\n",
       "    <tr>\n",
       "      <th>4895</th>\n",
       "      <td>4896</td>\n",
       "      <td>Stoner Strung Out To Fuck Thanks To Lockdown R...</td>\n",
       "      <td>fake</td>\n",
       "      <td>0.999376</td>\n",
       "      <td>81</td>\n",
       "      <td>11</td>\n",
       "      <td>0</td>\n",
       "      <td>0</td>\n",
       "    </tr>\n",
       "    <tr>\n",
       "      <th>8557</th>\n",
       "      <td>2138</td>\n",
       "      <td>Nothing screams “I am sat around doing fuck al...</td>\n",
       "      <td>fake</td>\n",
       "      <td>0.997964</td>\n",
       "      <td>184</td>\n",
       "      <td>6</td>\n",
       "      <td>0</td>\n",
       "      <td>0</td>\n",
       "    </tr>\n",
       "    <tr>\n",
       "      <th>4927</th>\n",
       "      <td>4928</td>\n",
       "      <td>Ellie Goulding says she’s amazed there were 20...</td>\n",
       "      <td>fake</td>\n",
       "      <td>0.993335</td>\n",
       "      <td>174</td>\n",
       "      <td>13</td>\n",
       "      <td>1</td>\n",
       "      <td>0</td>\n",
       "    </tr>\n",
       "    <tr>\n",
       "      <th>2677</th>\n",
       "      <td>2678</td>\n",
       "      <td>Coronavirus Cancels Billions of Man-Hours of P...</td>\n",
       "      <td>fake</td>\n",
       "      <td>0.967980</td>\n",
       "      <td>96</td>\n",
       "      <td>12</td>\n",
       "      <td>0</td>\n",
       "      <td>0</td>\n",
       "    </tr>\n",
       "  </tbody>\n",
       "</table>\n",
       "</div>"
      ],
      "text/plain": [
       "        id                                              tweet label  \\\n",
       "2160  2161  Local Man Sick To Fucking Death Hearing About ...  fake   \n",
       "4895  4896  Stoner Strung Out To Fuck Thanks To Lockdown R...  fake   \n",
       "8557  2138  Nothing screams “I am sat around doing fuck al...  fake   \n",
       "4927  4928  Ellie Goulding says she’s amazed there were 20...  fake   \n",
       "2677  2678  Coronavirus Cancels Billions of Man-Hours of P...  fake   \n",
       "\n",
       "      profanity_scores  length  num_of_upper_char  num_of_qmarks  \\\n",
       "2160          0.999747      85                 16              0   \n",
       "4895          0.999376      81                 11              0   \n",
       "8557          0.997964     184                  6              0   \n",
       "4927          0.993335     174                 13              1   \n",
       "2677          0.967980      96                 12              0   \n",
       "\n",
       "      num_of_exclmmarks  \n",
       "2160                  0  \n",
       "4895                  0  \n",
       "8557                  0  \n",
       "4927                  0  \n",
       "2677                  0  "
      ]
     },
     "execution_count": 14,
     "metadata": {},
     "output_type": "execute_result"
    }
   ],
   "source": [
    "df.nlargest(5, 'profanity_scores')"
   ]
  },
  {
   "cell_type": "code",
   "execution_count": 15,
   "id": "bc0421de",
   "metadata": {
    "execution": {
     "iopub.execute_input": "2022-01-16T19:26:46.153930Z",
     "iopub.status.busy": "2022-01-16T19:26:46.152757Z",
     "iopub.status.idle": "2022-01-16T19:26:46.165730Z",
     "shell.execute_reply": "2022-01-16T19:26:46.166338Z",
     "shell.execute_reply.started": "2022-01-01T18:37:45.383522Z"
    },
    "papermill": {
     "duration": 0.432761,
     "end_time": "2022-01-16T19:26:46.166560",
     "exception": false,
     "start_time": "2022-01-16T19:26:45.733799",
     "status": "completed"
    },
    "tags": []
   },
   "outputs": [
    {
     "data": {
      "text/html": [
       "<div>\n",
       "<style scoped>\n",
       "    .dataframe tbody tr th:only-of-type {\n",
       "        vertical-align: middle;\n",
       "    }\n",
       "\n",
       "    .dataframe tbody tr th {\n",
       "        vertical-align: top;\n",
       "    }\n",
       "\n",
       "    .dataframe thead th {\n",
       "        text-align: right;\n",
       "    }\n",
       "</style>\n",
       "<table border=\"1\" class=\"dataframe\">\n",
       "  <thead>\n",
       "    <tr style=\"text-align: right;\">\n",
       "      <th></th>\n",
       "      <th>id</th>\n",
       "      <th>tweet</th>\n",
       "      <th>label</th>\n",
       "      <th>profanity_scores</th>\n",
       "      <th>length</th>\n",
       "      <th>num_of_upper_char</th>\n",
       "      <th>num_of_qmarks</th>\n",
       "      <th>num_of_exclmmarks</th>\n",
       "    </tr>\n",
       "  </thead>\n",
       "  <tbody>\n",
       "    <tr>\n",
       "      <th>5464</th>\n",
       "      <td>5465</td>\n",
       "      <td>Says Sarah Huckabee Sanders tweeted, ???It???s...</td>\n",
       "      <td>fake</td>\n",
       "      <td>0.015965</td>\n",
       "      <td>338</td>\n",
       "      <td>28</td>\n",
       "      <td>34</td>\n",
       "      <td>0</td>\n",
       "    </tr>\n",
       "    <tr>\n",
       "      <th>3045</th>\n",
       "      <td>3046</td>\n",
       "      <td>???President Trump just announced that the ???...</td>\n",
       "      <td>fake</td>\n",
       "      <td>0.008184</td>\n",
       "      <td>219</td>\n",
       "      <td>13</td>\n",
       "      <td>17</td>\n",
       "      <td>1</td>\n",
       "    </tr>\n",
       "    <tr>\n",
       "      <th>3291</th>\n",
       "      <td>3292</td>\n",
       "      <td>Quotes Anthony Fauci as writing, ???I reject t...</td>\n",
       "      <td>fake</td>\n",
       "      <td>0.082221</td>\n",
       "      <td>165</td>\n",
       "      <td>5</td>\n",
       "      <td>17</td>\n",
       "      <td>0</td>\n",
       "    </tr>\n",
       "    <tr>\n",
       "      <th>4420</th>\n",
       "      <td>4421</td>\n",
       "      <td>Trey Gowdy said, ???I???m not saying COVID-19 ...</td>\n",
       "      <td>fake</td>\n",
       "      <td>0.109564</td>\n",
       "      <td>149</td>\n",
       "      <td>9</td>\n",
       "      <td>17</td>\n",
       "      <td>0</td>\n",
       "    </tr>\n",
       "    <tr>\n",
       "      <th>5902</th>\n",
       "      <td>5903</td>\n",
       "      <td>???The CDC has removed the ???Covid-19 Pandemi...</td>\n",
       "      <td>fake</td>\n",
       "      <td>0.010282</td>\n",
       "      <td>141</td>\n",
       "      <td>9</td>\n",
       "      <td>17</td>\n",
       "      <td>0</td>\n",
       "    </tr>\n",
       "  </tbody>\n",
       "</table>\n",
       "</div>"
      ],
      "text/plain": [
       "        id                                              tweet label  \\\n",
       "5464  5465  Says Sarah Huckabee Sanders tweeted, ???It???s...  fake   \n",
       "3045  3046  ???President Trump just announced that the ???...  fake   \n",
       "3291  3292  Quotes Anthony Fauci as writing, ???I reject t...  fake   \n",
       "4420  4421  Trey Gowdy said, ???I???m not saying COVID-19 ...  fake   \n",
       "5902  5903  ???The CDC has removed the ???Covid-19 Pandemi...  fake   \n",
       "\n",
       "      profanity_scores  length  num_of_upper_char  num_of_qmarks  \\\n",
       "5464          0.015965     338                 28             34   \n",
       "3045          0.008184     219                 13             17   \n",
       "3291          0.082221     165                  5             17   \n",
       "4420          0.109564     149                  9             17   \n",
       "5902          0.010282     141                  9             17   \n",
       "\n",
       "      num_of_exclmmarks  \n",
       "5464                  0  \n",
       "3045                  1  \n",
       "3291                  0  \n",
       "4420                  0  \n",
       "5902                  0  "
      ]
     },
     "execution_count": 15,
     "metadata": {},
     "output_type": "execute_result"
    }
   ],
   "source": [
    "df.nlargest(5, 'num_of_qmarks')"
   ]
  },
  {
   "cell_type": "markdown",
   "id": "86160903",
   "metadata": {
    "papermill": {
     "duration": 0.415049,
     "end_time": "2022-01-16T19:26:47.016731",
     "exception": false,
     "start_time": "2022-01-16T19:26:46.601682",
     "status": "completed"
    },
    "tags": []
   },
   "source": [
    "# Normalizing"
   ]
  },
  {
   "cell_type": "code",
   "execution_count": 16,
   "id": "52c2320b",
   "metadata": {
    "execution": {
     "iopub.execute_input": "2022-01-16T19:26:47.852652Z",
     "iopub.status.busy": "2022-01-16T19:26:47.851490Z",
     "iopub.status.idle": "2022-01-16T19:26:47.858031Z",
     "shell.execute_reply": "2022-01-16T19:26:47.858488Z",
     "shell.execute_reply.started": "2022-01-01T18:37:45.428329Z"
    },
    "papermill": {
     "duration": 0.431132,
     "end_time": "2022-01-16T19:26:47.858661",
     "exception": false,
     "start_time": "2022-01-16T19:26:47.427529",
     "status": "completed"
    },
    "tags": []
   },
   "outputs": [],
   "source": [
    "df['length'] = MinMaxScaler().fit_transform(np.array(df['length']).reshape(-1,1))\n",
    "df['num_of_upper_char'] = MinMaxScaler().fit_transform(np.array(df['num_of_upper_char']).reshape(-1,1))\n",
    "df['num_of_qmarks'] = MinMaxScaler().fit_transform(np.array(df['num_of_qmarks']).reshape(-1,1))\n",
    "df['num_of_exclmmarks'] = MinMaxScaler().fit_transform(np.array(df['num_of_exclmmarks']).reshape(-1,1))"
   ]
  },
  {
   "cell_type": "code",
   "execution_count": 17,
   "id": "98c27fa5",
   "metadata": {
    "execution": {
     "iopub.execute_input": "2022-01-16T19:26:48.738677Z",
     "iopub.status.busy": "2022-01-16T19:26:48.737671Z",
     "iopub.status.idle": "2022-01-16T19:26:48.756196Z",
     "shell.execute_reply": "2022-01-16T19:26:48.756799Z",
     "shell.execute_reply.started": "2022-01-01T18:37:45.44059Z"
    },
    "papermill": {
     "duration": 0.487105,
     "end_time": "2022-01-16T19:26:48.756978",
     "exception": false,
     "start_time": "2022-01-16T19:26:48.269873",
     "status": "completed"
    },
    "tags": []
   },
   "outputs": [
    {
     "data": {
      "text/html": [
       "<div>\n",
       "<style scoped>\n",
       "    .dataframe tbody tr th:only-of-type {\n",
       "        vertical-align: middle;\n",
       "    }\n",
       "\n",
       "    .dataframe tbody tr th {\n",
       "        vertical-align: top;\n",
       "    }\n",
       "\n",
       "    .dataframe thead th {\n",
       "        text-align: right;\n",
       "    }\n",
       "</style>\n",
       "<table border=\"1\" class=\"dataframe\">\n",
       "  <thead>\n",
       "    <tr style=\"text-align: right;\">\n",
       "      <th></th>\n",
       "      <th>id</th>\n",
       "      <th>tweet</th>\n",
       "      <th>label</th>\n",
       "      <th>profanity_scores</th>\n",
       "      <th>length</th>\n",
       "      <th>num_of_upper_char</th>\n",
       "      <th>num_of_qmarks</th>\n",
       "      <th>num_of_exclmmarks</th>\n",
       "    </tr>\n",
       "  </thead>\n",
       "  <tbody>\n",
       "    <tr>\n",
       "      <th>0</th>\n",
       "      <td>1</td>\n",
       "      <td>The CDC currently reports 99031 deaths. In gen...</td>\n",
       "      <td>real</td>\n",
       "      <td>0.009465</td>\n",
       "      <td>0.019483</td>\n",
       "      <td>0.013304</td>\n",
       "      <td>0.0</td>\n",
       "      <td>0.0</td>\n",
       "    </tr>\n",
       "    <tr>\n",
       "      <th>1</th>\n",
       "      <td>2</td>\n",
       "      <td>States reported 1121 deaths a small rise from ...</td>\n",
       "      <td>real</td>\n",
       "      <td>0.031755</td>\n",
       "      <td>0.012574</td>\n",
       "      <td>0.022173</td>\n",
       "      <td>0.0</td>\n",
       "      <td>0.0</td>\n",
       "    </tr>\n",
       "    <tr>\n",
       "      <th>2</th>\n",
       "      <td>3</td>\n",
       "      <td>Politically Correct Woman (Almost) Uses Pandem...</td>\n",
       "      <td>fake</td>\n",
       "      <td>0.061657</td>\n",
       "      <td>0.012800</td>\n",
       "      <td>0.035477</td>\n",
       "      <td>0.0</td>\n",
       "      <td>0.0</td>\n",
       "    </tr>\n",
       "    <tr>\n",
       "      <th>3</th>\n",
       "      <td>4</td>\n",
       "      <td>#IndiaFightsCorona: We have 1524 #COVID testin...</td>\n",
       "      <td>real</td>\n",
       "      <td>0.034314</td>\n",
       "      <td>0.021069</td>\n",
       "      <td>0.070953</td>\n",
       "      <td>0.0</td>\n",
       "      <td>0.0</td>\n",
       "    </tr>\n",
       "    <tr>\n",
       "      <th>4</th>\n",
       "      <td>5</td>\n",
       "      <td>Populous states can generate large case counts...</td>\n",
       "      <td>real</td>\n",
       "      <td>0.014909</td>\n",
       "      <td>0.024128</td>\n",
       "      <td>0.057650</td>\n",
       "      <td>0.0</td>\n",
       "      <td>0.0</td>\n",
       "    </tr>\n",
       "    <tr>\n",
       "      <th>...</th>\n",
       "      <td>...</td>\n",
       "      <td>...</td>\n",
       "      <td>...</td>\n",
       "      <td>...</td>\n",
       "      <td>...</td>\n",
       "      <td>...</td>\n",
       "      <td>...</td>\n",
       "      <td>...</td>\n",
       "    </tr>\n",
       "    <tr>\n",
       "      <th>8555</th>\n",
       "      <td>2136</td>\n",
       "      <td>Donald Trump wrongly claimed that New Zealand ...</td>\n",
       "      <td>fake</td>\n",
       "      <td>0.011340</td>\n",
       "      <td>0.025261</td>\n",
       "      <td>0.039911</td>\n",
       "      <td>0.0</td>\n",
       "      <td>0.0</td>\n",
       "    </tr>\n",
       "    <tr>\n",
       "      <th>8556</th>\n",
       "      <td>2137</td>\n",
       "      <td>Current understanding is #COVID19 spreads most...</td>\n",
       "      <td>real</td>\n",
       "      <td>0.101561</td>\n",
       "      <td>0.024014</td>\n",
       "      <td>0.037694</td>\n",
       "      <td>0.0</td>\n",
       "      <td>0.0</td>\n",
       "    </tr>\n",
       "    <tr>\n",
       "      <th>8557</th>\n",
       "      <td>2138</td>\n",
       "      <td>Nothing screams “I am sat around doing fuck al...</td>\n",
       "      <td>fake</td>\n",
       "      <td>0.997964</td>\n",
       "      <td>0.018804</td>\n",
       "      <td>0.013304</td>\n",
       "      <td>0.0</td>\n",
       "      <td>0.0</td>\n",
       "    </tr>\n",
       "    <tr>\n",
       "      <th>8558</th>\n",
       "      <td>2139</td>\n",
       "      <td>Birx says COVID-19 outbreak not under control ...</td>\n",
       "      <td>fake</td>\n",
       "      <td>0.029324</td>\n",
       "      <td>0.009515</td>\n",
       "      <td>0.019956</td>\n",
       "      <td>0.0</td>\n",
       "      <td>0.0</td>\n",
       "    </tr>\n",
       "    <tr>\n",
       "      <th>8559</th>\n",
       "      <td>2140</td>\n",
       "      <td>Another 4422 new coronavirus cases have been c...</td>\n",
       "      <td>real</td>\n",
       "      <td>0.010656</td>\n",
       "      <td>0.029225</td>\n",
       "      <td>0.031042</td>\n",
       "      <td>0.0</td>\n",
       "      <td>0.0</td>\n",
       "    </tr>\n",
       "  </tbody>\n",
       "</table>\n",
       "<p>8560 rows × 8 columns</p>\n",
       "</div>"
      ],
      "text/plain": [
       "        id                                              tweet label  \\\n",
       "0        1  The CDC currently reports 99031 deaths. In gen...  real   \n",
       "1        2  States reported 1121 deaths a small rise from ...  real   \n",
       "2        3  Politically Correct Woman (Almost) Uses Pandem...  fake   \n",
       "3        4  #IndiaFightsCorona: We have 1524 #COVID testin...  real   \n",
       "4        5  Populous states can generate large case counts...  real   \n",
       "...    ...                                                ...   ...   \n",
       "8555  2136  Donald Trump wrongly claimed that New Zealand ...  fake   \n",
       "8556  2137  Current understanding is #COVID19 spreads most...  real   \n",
       "8557  2138  Nothing screams “I am sat around doing fuck al...  fake   \n",
       "8558  2139  Birx says COVID-19 outbreak not under control ...  fake   \n",
       "8559  2140  Another 4422 new coronavirus cases have been c...  real   \n",
       "\n",
       "      profanity_scores    length  num_of_upper_char  num_of_qmarks  \\\n",
       "0             0.009465  0.019483           0.013304            0.0   \n",
       "1             0.031755  0.012574           0.022173            0.0   \n",
       "2             0.061657  0.012800           0.035477            0.0   \n",
       "3             0.034314  0.021069           0.070953            0.0   \n",
       "4             0.014909  0.024128           0.057650            0.0   \n",
       "...                ...       ...                ...            ...   \n",
       "8555          0.011340  0.025261           0.039911            0.0   \n",
       "8556          0.101561  0.024014           0.037694            0.0   \n",
       "8557          0.997964  0.018804           0.013304            0.0   \n",
       "8558          0.029324  0.009515           0.019956            0.0   \n",
       "8559          0.010656  0.029225           0.031042            0.0   \n",
       "\n",
       "      num_of_exclmmarks  \n",
       "0                   0.0  \n",
       "1                   0.0  \n",
       "2                   0.0  \n",
       "3                   0.0  \n",
       "4                   0.0  \n",
       "...                 ...  \n",
       "8555                0.0  \n",
       "8556                0.0  \n",
       "8557                0.0  \n",
       "8558                0.0  \n",
       "8559                0.0  \n",
       "\n",
       "[8560 rows x 8 columns]"
      ]
     },
     "execution_count": 17,
     "metadata": {},
     "output_type": "execute_result"
    }
   ],
   "source": [
    "df"
   ]
  },
  {
   "cell_type": "markdown",
   "id": "2bfeb153",
   "metadata": {
    "papermill": {
     "duration": 0.421655,
     "end_time": "2022-01-16T19:26:49.616829",
     "exception": false,
     "start_time": "2022-01-16T19:26:49.195174",
     "status": "completed"
    },
    "tags": []
   },
   "source": [
    "# Data Preprocessing"
   ]
  },
  {
   "cell_type": "code",
   "execution_count": 18,
   "id": "0346c485",
   "metadata": {
    "execution": {
     "iopub.execute_input": "2022-01-16T19:26:50.454657Z",
     "iopub.status.busy": "2022-01-16T19:26:50.453826Z",
     "iopub.status.idle": "2022-01-16T19:26:50.559881Z",
     "shell.execute_reply": "2022-01-16T19:26:50.560511Z",
     "shell.execute_reply.started": "2022-01-01T18:37:45.482054Z"
    },
    "papermill": {
     "duration": 0.530106,
     "end_time": "2022-01-16T19:26:50.560747",
     "exception": false,
     "start_time": "2022-01-16T19:26:50.030641",
     "status": "completed"
    },
    "tags": []
   },
   "outputs": [
    {
     "name": "stdout",
     "output_type": "stream",
     "text": [
      "[nltk_data] Downloading package stopwords to /usr/share/nltk_data...\n",
      "[nltk_data]   Package stopwords is already up-to-date!\n"
     ]
    }
   ],
   "source": [
    "#Data Cleaning\n",
    "ps = PorterStemmer()\n",
    "nltk.download(\"stopwords\")\n",
    "en_stopwords = set(stopwords.words('english'))"
   ]
  },
  {
   "cell_type": "code",
   "execution_count": 19,
   "id": "0c2b073c",
   "metadata": {
    "execution": {
     "iopub.execute_input": "2022-01-16T19:26:51.399910Z",
     "iopub.status.busy": "2022-01-16T19:26:51.399123Z",
     "iopub.status.idle": "2022-01-16T19:26:51.402944Z",
     "shell.execute_reply": "2022-01-16T19:26:51.402413Z",
     "shell.execute_reply.started": "2022-01-01T18:37:45.623416Z"
    },
    "papermill": {
     "duration": 0.426749,
     "end_time": "2022-01-16T19:26:51.403081",
     "exception": false,
     "start_time": "2022-01-16T19:26:50.976332",
     "status": "completed"
    },
    "tags": []
   },
   "outputs": [],
   "source": [
    "def cleaner(text):\n",
    "    try:\n",
    "        url_re = re.compile(r'(http|ftp|https)://([\\w+?\\.\\w+])+([a-zA-Z0-9\\~\\!\\@\\#\\$\\%\\^\\&\\*\\(\\)_\\-\\=\\+\\\\\\/\\?\\.\\:\\;\\'\\,]*)?')\n",
    "        cleaned = url_re.sub(\"\",text)\n",
    "        \n",
    "        hashtag_re = re.compile(r'(#\\w+)')\n",
    "        cleaned = hashtag_re.sub(\"\",cleaned)\n",
    "        \n",
    "        screen_name_re = re.compile(r'(@\\w+)')\n",
    "        cleaned = screen_name_re.sub(\"\", cleaned)\n",
    "        \n",
    "        emoji_re = re.compile(\"[\"\n",
    "                u\"\\U0001F600-\\U0001F64F\"  # emoticons\n",
    "                u\"\\U0001F300-\\U0001F5FF\"  # symbols & pictographs\n",
    "                u\"\\U0001F680-\\U0001F6FF\"  # transport & map symbols\n",
    "                u\"\\U0001F1E0-\\U0001F1FF\"  # flags (iOS)\n",
    "                u\"\\U0001F1F2-\\U0001F1F4\"  # Macau flag\n",
    "                u\"\\U0001F1E6-\\U0001F1FF\"  # flags\n",
    "                u\"\\U0001F600-\\U0001F64F\"\n",
    "                u\"\\U00002702-\\U000027B0\"\n",
    "                u\"\\U000024C2-\\U0001F251\"\n",
    "                u\"\\U0001f926-\\U0001f937\"\n",
    "                u\"\\U0001F1F2\"\n",
    "                u\"\\U0001F1F4\"\n",
    "                u\"\\U0001F620\"\n",
    "                u\"\\u200d\"\n",
    "                u\"\\u2640-\\u2642\"\n",
    "                \"]+\", flags=re.UNICODE)\n",
    "        cleaned = emoji_re.sub(\"\",cleaned)\n",
    "        \n",
    "        cleaned = cleaned.replace(\".\",\" \").replace(\"//\",\" \")\n",
    "        cleaned = re.sub(r'[^a-zA-Z]', \" \", cleaned) #Replacing all non-alphabets with \" \"\n",
    "        cleaned = re.sub(r'\\w+\\d+', \" \", cleaned) #Removes alphanumeric words\n",
    "\n",
    "        cleaned = ps.stem(cleaned)\n",
    "\n",
    "        cleaned = \" \".join([word for word in cleaned.split() if len(word)>2]) #Removing words with len<2\n",
    "        cleaned = ' '.join([word for word in cleaned.split() if word not in en_stopwords])\n",
    "\n",
    "        cleaned = cleaned.strip() #Removing whitespaces\n",
    "        cleaned = cleaned.lower() #Converting to lower case\n",
    "\n",
    "    except:\n",
    "        cleaned = \"\"\n",
    "    return cleaned"
   ]
  },
  {
   "cell_type": "code",
   "execution_count": 20,
   "id": "a5d2a157",
   "metadata": {
    "execution": {
     "iopub.execute_input": "2022-01-16T19:26:52.597735Z",
     "iopub.status.busy": "2022-01-16T19:26:52.579758Z",
     "iopub.status.idle": "2022-01-16T19:26:53.674746Z",
     "shell.execute_reply": "2022-01-16T19:26:53.674101Z"
    },
    "papermill": {
     "duration": 1.721332,
     "end_time": "2022-01-16T19:26:53.674901",
     "exception": false,
     "start_time": "2022-01-16T19:26:51.953569",
     "status": "completed"
    },
    "tags": []
   },
   "outputs": [
    {
     "data": {
      "text/html": [
       "<div>\n",
       "<style scoped>\n",
       "    .dataframe tbody tr th:only-of-type {\n",
       "        vertical-align: middle;\n",
       "    }\n",
       "\n",
       "    .dataframe tbody tr th {\n",
       "        vertical-align: top;\n",
       "    }\n",
       "\n",
       "    .dataframe thead th {\n",
       "        text-align: right;\n",
       "    }\n",
       "</style>\n",
       "<table border=\"1\" class=\"dataframe\">\n",
       "  <thead>\n",
       "    <tr style=\"text-align: right;\">\n",
       "      <th></th>\n",
       "      <th>id</th>\n",
       "      <th>tweet</th>\n",
       "      <th>label</th>\n",
       "      <th>profanity_scores</th>\n",
       "      <th>length</th>\n",
       "      <th>num_of_upper_char</th>\n",
       "      <th>num_of_qmarks</th>\n",
       "      <th>num_of_exclmmarks</th>\n",
       "    </tr>\n",
       "  </thead>\n",
       "  <tbody>\n",
       "    <tr>\n",
       "      <th>0</th>\n",
       "      <td>1</td>\n",
       "      <td>cdc currently reports deaths general discrepan...</td>\n",
       "      <td>real</td>\n",
       "      <td>0.009465</td>\n",
       "      <td>0.019483</td>\n",
       "      <td>0.013304</td>\n",
       "      <td>0.0</td>\n",
       "      <td>0.0</td>\n",
       "    </tr>\n",
       "    <tr>\n",
       "      <th>1</th>\n",
       "      <td>2</td>\n",
       "      <td>states reported deaths small rise last tuesday...</td>\n",
       "      <td>real</td>\n",
       "      <td>0.031755</td>\n",
       "      <td>0.012574</td>\n",
       "      <td>0.022173</td>\n",
       "      <td>0.0</td>\n",
       "      <td>0.0</td>\n",
       "    </tr>\n",
       "    <tr>\n",
       "      <th>2</th>\n",
       "      <td>3</td>\n",
       "      <td>politically correct woman almost uses pandemic...</td>\n",
       "      <td>fake</td>\n",
       "      <td>0.061657</td>\n",
       "      <td>0.012800</td>\n",
       "      <td>0.035477</td>\n",
       "      <td>0.0</td>\n",
       "      <td>0.0</td>\n",
       "    </tr>\n",
       "    <tr>\n",
       "      <th>3</th>\n",
       "      <td>4</td>\n",
       "      <td>testing laboratories india august tests done</td>\n",
       "      <td>real</td>\n",
       "      <td>0.034314</td>\n",
       "      <td>0.021069</td>\n",
       "      <td>0.070953</td>\n",
       "      <td>0.0</td>\n",
       "      <td>0.0</td>\n",
       "    </tr>\n",
       "    <tr>\n",
       "      <th>4</th>\n",
       "      <td>5</td>\n",
       "      <td>populous states generate large case counts loo...</td>\n",
       "      <td>real</td>\n",
       "      <td>0.014909</td>\n",
       "      <td>0.024128</td>\n",
       "      <td>0.057650</td>\n",
       "      <td>0.0</td>\n",
       "      <td>0.0</td>\n",
       "    </tr>\n",
       "  </tbody>\n",
       "</table>\n",
       "</div>"
      ],
      "text/plain": [
       "   id                                              tweet label  \\\n",
       "0   1  cdc currently reports deaths general discrepan...  real   \n",
       "1   2  states reported deaths small rise last tuesday...  real   \n",
       "2   3  politically correct woman almost uses pandemic...  fake   \n",
       "3   4       testing laboratories india august tests done  real   \n",
       "4   5  populous states generate large case counts loo...  real   \n",
       "\n",
       "   profanity_scores    length  num_of_upper_char  num_of_qmarks  \\\n",
       "0          0.009465  0.019483           0.013304            0.0   \n",
       "1          0.031755  0.012574           0.022173            0.0   \n",
       "2          0.061657  0.012800           0.035477            0.0   \n",
       "3          0.034314  0.021069           0.070953            0.0   \n",
       "4          0.014909  0.024128           0.057650            0.0   \n",
       "\n",
       "   num_of_exclmmarks  \n",
       "0                0.0  \n",
       "1                0.0  \n",
       "2                0.0  \n",
       "3                0.0  \n",
       "4                0.0  "
      ]
     },
     "execution_count": 20,
     "metadata": {},
     "output_type": "execute_result"
    }
   ],
   "source": [
    "df['tweet'] = df['tweet'].apply(lambda text: cleaner(text))\n",
    "df.head()"
   ]
  },
  {
   "cell_type": "markdown",
   "id": "a2148d65",
   "metadata": {
    "papermill": {
     "duration": 0.440997,
     "end_time": "2022-01-16T19:26:54.595301",
     "exception": false,
     "start_time": "2022-01-16T19:26:54.154304",
     "status": "completed"
    },
    "tags": []
   },
   "source": [
    "# Generating Word Clouds"
   ]
  },
  {
   "cell_type": "code",
   "execution_count": 21,
   "id": "4cf16c0f",
   "metadata": {
    "execution": {
     "iopub.execute_input": "2022-01-16T19:26:55.433607Z",
     "iopub.status.busy": "2022-01-16T19:26:55.432231Z",
     "iopub.status.idle": "2022-01-16T19:26:55.434391Z",
     "shell.execute_reply": "2022-01-16T19:26:55.434913Z",
     "shell.execute_reply.started": "2022-01-01T18:37:46.540791Z"
    },
    "papermill": {
     "duration": 0.423197,
     "end_time": "2022-01-16T19:26:55.435063",
     "exception": false,
     "start_time": "2022-01-16T19:26:55.011866",
     "status": "completed"
    },
    "tags": []
   },
   "outputs": [],
   "source": [
    "#Function to get word frequencies in the data\n",
    "def get_word_freqs(df, col):\n",
    "    text = ' '.join(df[col])\n",
    "    text = text.split()\n",
    "    freq = pd.Series(text).value_counts()\n",
    "    return freq"
   ]
  },
  {
   "cell_type": "code",
   "execution_count": 22,
   "id": "b888d8c9",
   "metadata": {
    "execution": {
     "iopub.execute_input": "2022-01-16T19:26:56.269817Z",
     "iopub.status.busy": "2022-01-16T19:26:56.268975Z",
     "iopub.status.idle": "2022-01-16T19:26:57.086901Z",
     "shell.execute_reply": "2022-01-16T19:26:57.086337Z",
     "shell.execute_reply.started": "2022-01-01T18:37:46.547812Z"
    },
    "papermill": {
     "duration": 1.24046,
     "end_time": "2022-01-16T19:26:57.087036",
     "exception": false,
     "start_time": "2022-01-16T19:26:55.846576",
     "status": "completed"
    },
    "tags": []
   },
   "outputs": [
    {
     "data": {
      "image/png": "[encoded data removed]",
      "text/plain": [
       "<Figure size 576x432 with 1 Axes>"
      ]
     },
     "metadata": {},
     "output_type": "display_data"
    }
   ],
   "source": [
    "freq_words_fake = get_word_freqs(df[df['label']=='fake'],'tweet')\n",
    "freq_words_fake = \" \".join(freq_words_fake.index)\n",
    "word_cloud=WordCloud(max_font_size=60,background_color='white').generate(freq_words_fake)\n",
    "plt.figure(figsize=(8,6))\n",
    "plt.imshow(word_cloud)\n",
    "plt.axis('off')\n",
    "plt.show()"
   ]
  },
  {
   "cell_type": "code",
   "execution_count": 23,
   "id": "48501c1d",
   "metadata": {
    "execution": {
     "iopub.execute_input": "2022-01-16T19:26:57.942460Z",
     "iopub.status.busy": "2022-01-16T19:26:57.941522Z",
     "iopub.status.idle": "2022-01-16T19:26:58.725172Z",
     "shell.execute_reply": "2022-01-16T19:26:58.724669Z",
     "shell.execute_reply.started": "2022-01-01T18:37:47.294749Z"
    },
    "papermill": {
     "duration": 1.21884,
     "end_time": "2022-01-16T19:26:58.725304",
     "exception": false,
     "start_time": "2022-01-16T19:26:57.506464",
     "status": "completed"
    },
    "tags": []
   },
   "outputs": [
    {
     "data": {
      "image/png": "[encoded data removed]",
      "text/plain": [
       "<Figure size 576x432 with 1 Axes>"
      ]
     },
     "metadata": {},
     "output_type": "display_data"
    }
   ],
   "source": [
    "freq_words_real = get_word_freqs(df[df['label']=='real'],'tweet')\n",
    "freq_words_real = \" \".join(freq_words_real.index)\n",
    "word_cloud=WordCloud(max_font_size=60,background_color='white').generate(freq_words_real)\n",
    "plt.figure(figsize=(8,6))\n",
    "plt.imshow(word_cloud)\n",
    "plt.axis('off')\n",
    "plt.show()"
   ]
  },
  {
   "cell_type": "code",
   "execution_count": 24,
   "id": "67dd322d",
   "metadata": {
    "execution": {
     "iopub.execute_input": "2022-01-16T19:26:59.591953Z",
     "iopub.status.busy": "2022-01-16T19:26:59.590354Z",
     "iopub.status.idle": "2022-01-16T19:26:59.594655Z",
     "shell.execute_reply": "2022-01-16T19:26:59.594115Z",
     "shell.execute_reply.started": "2022-01-01T18:37:48.204851Z"
    },
    "papermill": {
     "duration": 0.440231,
     "end_time": "2022-01-16T19:26:59.594789",
     "exception": false,
     "start_time": "2022-01-16T19:26:59.154558",
     "status": "completed"
    },
    "tags": []
   },
   "outputs": [
    {
     "data": {
      "text/plain": [
       "(4480, 8)"
      ]
     },
     "execution_count": 24,
     "metadata": {},
     "output_type": "execute_result"
    }
   ],
   "source": [
    "#splitting the labels\n",
    "df_real = df[df['label']=='real']\n",
    "df_real.shape"
   ]
  },
  {
   "cell_type": "code",
   "execution_count": 25,
   "id": "039a5b6a",
   "metadata": {
    "execution": {
     "iopub.execute_input": "2022-01-16T19:27:00.509005Z",
     "iopub.status.busy": "2022-01-16T19:27:00.507775Z",
     "iopub.status.idle": "2022-01-16T19:27:00.529567Z",
     "shell.execute_reply": "2022-01-16T19:27:00.528473Z",
     "shell.execute_reply.started": "2022-01-01T18:37:48.215557Z"
    },
    "papermill": {
     "duration": 0.489881,
     "end_time": "2022-01-16T19:27:00.529801",
     "exception": false,
     "start_time": "2022-01-16T19:27:00.039920",
     "status": "completed"
    },
    "tags": []
   },
   "outputs": [
    {
     "data": {
      "text/plain": [
       "(4080, 8)"
      ]
     },
     "execution_count": 25,
     "metadata": {},
     "output_type": "execute_result"
    }
   ],
   "source": [
    "df_fake = df[df['label']=='fake']\n",
    "df_fake.shape"
   ]
  },
  {
   "cell_type": "markdown",
   "id": "9ff53a10",
   "metadata": {
    "papermill": {
     "duration": 0.610869,
     "end_time": "2022-01-16T19:27:01.849767",
     "exception": false,
     "start_time": "2022-01-16T19:27:01.238898",
     "status": "completed"
    },
    "tags": []
   },
   "source": [
    "# Downsampling Data"
   ]
  },
  {
   "cell_type": "code",
   "execution_count": 26,
   "id": "63f3328b",
   "metadata": {
    "execution": {
     "iopub.execute_input": "2022-01-16T19:27:02.758675Z",
     "iopub.status.busy": "2022-01-16T19:27:02.755733Z",
     "iopub.status.idle": "2022-01-16T19:27:02.765043Z",
     "shell.execute_reply": "2022-01-16T19:27:02.762494Z",
     "shell.execute_reply.started": "2022-01-01T18:37:48.233759Z"
    },
    "papermill": {
     "duration": 0.495692,
     "end_time": "2022-01-16T19:27:02.765273",
     "exception": false,
     "start_time": "2022-01-16T19:27:02.269581",
     "status": "completed"
    },
    "tags": []
   },
   "outputs": [
    {
     "data": {
      "text/plain": [
       "(4080, 8)"
      ]
     },
     "execution_count": 26,
     "metadata": {},
     "output_type": "execute_result"
    }
   ],
   "source": [
    "#unbalanced data so we downsample it\n",
    "df_real_downsampled = df_real.sample(df_fake.shape[0])\n",
    "df_real_downsampled.shape"
   ]
  },
  {
   "cell_type": "code",
   "execution_count": 27,
   "id": "351c7796",
   "metadata": {
    "execution": {
     "iopub.execute_input": "2022-01-16T19:27:03.870553Z",
     "iopub.status.busy": "2022-01-16T19:27:03.869541Z",
     "iopub.status.idle": "2022-01-16T19:27:03.878353Z",
     "shell.execute_reply": "2022-01-16T19:27:03.878867Z",
     "shell.execute_reply.started": "2022-01-01T18:37:48.243497Z"
    },
    "papermill": {
     "duration": 0.455446,
     "end_time": "2022-01-16T19:27:03.879033",
     "exception": false,
     "start_time": "2022-01-16T19:27:03.423587",
     "status": "completed"
    },
    "tags": []
   },
   "outputs": [
    {
     "data": {
      "text/plain": [
       "fake    4080\n",
       "real    4080\n",
       "Name: label, dtype: int64"
      ]
     },
     "execution_count": 27,
     "metadata": {},
     "output_type": "execute_result"
    }
   ],
   "source": [
    "df_balanced = pd.concat([df_fake, df_real_downsampled])\n",
    "df_balanced['label'].value_counts()"
   ]
  },
  {
   "cell_type": "code",
   "execution_count": 28,
   "id": "221ff9e4",
   "metadata": {
    "execution": {
     "iopub.execute_input": "2022-01-16T19:27:04.784036Z",
     "iopub.status.busy": "2022-01-16T19:27:04.770865Z",
     "iopub.status.idle": "2022-01-16T19:27:04.787840Z",
     "shell.execute_reply": "2022-01-16T19:27:04.788427Z",
     "shell.execute_reply.started": "2022-01-01T18:37:48.256386Z"
    },
    "papermill": {
     "duration": 0.4744,
     "end_time": "2022-01-16T19:27:04.788656",
     "exception": false,
     "start_time": "2022-01-16T19:27:04.314256",
     "status": "completed"
    },
    "tags": []
   },
   "outputs": [
    {
     "data": {
      "text/html": [
       "<div>\n",
       "<style scoped>\n",
       "    .dataframe tbody tr th:only-of-type {\n",
       "        vertical-align: middle;\n",
       "    }\n",
       "\n",
       "    .dataframe tbody tr th {\n",
       "        vertical-align: top;\n",
       "    }\n",
       "\n",
       "    .dataframe thead th {\n",
       "        text-align: right;\n",
       "    }\n",
       "</style>\n",
       "<table border=\"1\" class=\"dataframe\">\n",
       "  <thead>\n",
       "    <tr style=\"text-align: right;\">\n",
       "      <th></th>\n",
       "      <th>id</th>\n",
       "      <th>tweet</th>\n",
       "      <th>label</th>\n",
       "      <th>profanity_scores</th>\n",
       "      <th>length</th>\n",
       "      <th>num_of_upper_char</th>\n",
       "      <th>num_of_qmarks</th>\n",
       "      <th>num_of_exclmmarks</th>\n",
       "      <th>fake</th>\n",
       "    </tr>\n",
       "  </thead>\n",
       "  <tbody>\n",
       "    <tr>\n",
       "      <th>5140</th>\n",
       "      <td>5141</td>\n",
       "      <td>update today new cases covid report managed is...</td>\n",
       "      <td>real</td>\n",
       "      <td>0.010122</td>\n",
       "      <td>0.028319</td>\n",
       "      <td>0.035477</td>\n",
       "      <td>0.0</td>\n",
       "      <td>0.000000</td>\n",
       "      <td>0</td>\n",
       "    </tr>\n",
       "    <tr>\n",
       "      <th>586</th>\n",
       "      <td>587</td>\n",
       "      <td>however lead drop positive cases time series d...</td>\n",
       "      <td>real</td>\n",
       "      <td>0.008382</td>\n",
       "      <td>0.011781</td>\n",
       "      <td>0.002217</td>\n",
       "      <td>0.0</td>\n",
       "      <td>0.000000</td>\n",
       "      <td>0</td>\n",
       "    </tr>\n",
       "    <tr>\n",
       "      <th>7857</th>\n",
       "      <td>1438</td>\n",
       "      <td>acted early activating state emergency committ...</td>\n",
       "      <td>real</td>\n",
       "      <td>0.000723</td>\n",
       "      <td>0.023335</td>\n",
       "      <td>0.035477</td>\n",
       "      <td>0.0</td>\n",
       "      <td>0.000000</td>\n",
       "      <td>0</td>\n",
       "    </tr>\n",
       "    <tr>\n",
       "      <th>347</th>\n",
       "      <td>348</td>\n",
       "      <td>trump announced roche medical company launch v...</td>\n",
       "      <td>fake</td>\n",
       "      <td>0.010376</td>\n",
       "      <td>0.011894</td>\n",
       "      <td>0.011086</td>\n",
       "      <td>0.0</td>\n",
       "      <td>0.428571</td>\n",
       "      <td>1</td>\n",
       "    </tr>\n",
       "    <tr>\n",
       "      <th>7047</th>\n",
       "      <td>628</td>\n",
       "      <td>british neuroscientist karl friston published ...</td>\n",
       "      <td>fake</td>\n",
       "      <td>0.039953</td>\n",
       "      <td>0.016878</td>\n",
       "      <td>0.019956</td>\n",
       "      <td>0.0</td>\n",
       "      <td>0.000000</td>\n",
       "      <td>1</td>\n",
       "    </tr>\n",
       "  </tbody>\n",
       "</table>\n",
       "</div>"
      ],
      "text/plain": [
       "        id                                              tweet label  \\\n",
       "5140  5141  update today new cases covid report managed is...  real   \n",
       "586    587  however lead drop positive cases time series d...  real   \n",
       "7857  1438  acted early activating state emergency committ...  real   \n",
       "347    348  trump announced roche medical company launch v...  fake   \n",
       "7047   628  british neuroscientist karl friston published ...  fake   \n",
       "\n",
       "      profanity_scores    length  num_of_upper_char  num_of_qmarks  \\\n",
       "5140          0.010122  0.028319           0.035477            0.0   \n",
       "586           0.008382  0.011781           0.002217            0.0   \n",
       "7857          0.000723  0.023335           0.035477            0.0   \n",
       "347           0.010376  0.011894           0.011086            0.0   \n",
       "7047          0.039953  0.016878           0.019956            0.0   \n",
       "\n",
       "      num_of_exclmmarks  fake  \n",
       "5140           0.000000     0  \n",
       "586            0.000000     0  \n",
       "7857           0.000000     0  \n",
       "347            0.428571     1  \n",
       "7047           0.000000     1  "
      ]
     },
     "execution_count": 28,
     "metadata": {},
     "output_type": "execute_result"
    }
   ],
   "source": [
    "df_balanced['fake'] = df_balanced['label'].apply(lambda x: 1 if x == 'fake' else 0)\n",
    "df_balanced.sample(5)"
   ]
  },
  {
   "cell_type": "code",
   "execution_count": 29,
   "id": "734198b7",
   "metadata": {
    "execution": {
     "iopub.execute_input": "2022-01-16T19:27:05.679560Z",
     "iopub.status.busy": "2022-01-16T19:27:05.678595Z",
     "iopub.status.idle": "2022-01-16T19:27:05.692738Z",
     "shell.execute_reply": "2022-01-16T19:27:05.693302Z",
     "shell.execute_reply.started": "2022-01-01T18:37:48.279732Z"
    },
    "papermill": {
     "duration": 0.44476,
     "end_time": "2022-01-16T19:27:05.693534",
     "exception": false,
     "start_time": "2022-01-16T19:27:05.248774",
     "status": "completed"
    },
    "tags": []
   },
   "outputs": [
    {
     "data": {
      "text/html": [
       "<div>\n",
       "<style scoped>\n",
       "    .dataframe tbody tr th:only-of-type {\n",
       "        vertical-align: middle;\n",
       "    }\n",
       "\n",
       "    .dataframe tbody tr th {\n",
       "        vertical-align: top;\n",
       "    }\n",
       "\n",
       "    .dataframe thead th {\n",
       "        text-align: right;\n",
       "    }\n",
       "</style>\n",
       "<table border=\"1\" class=\"dataframe\">\n",
       "  <thead>\n",
       "    <tr style=\"text-align: right;\">\n",
       "      <th></th>\n",
       "      <th>profanity_scores</th>\n",
       "      <th>length</th>\n",
       "      <th>num_of_upper_char</th>\n",
       "      <th>num_of_qmarks</th>\n",
       "      <th>num_of_exclmmarks</th>\n",
       "    </tr>\n",
       "  </thead>\n",
       "  <tbody>\n",
       "    <tr>\n",
       "      <th>2</th>\n",
       "      <td>0.061657</td>\n",
       "      <td>0.012800</td>\n",
       "      <td>0.035477</td>\n",
       "      <td>0.000000</td>\n",
       "      <td>0.0</td>\n",
       "    </tr>\n",
       "    <tr>\n",
       "      <th>7</th>\n",
       "      <td>0.008688</td>\n",
       "      <td>0.007363</td>\n",
       "      <td>0.031042</td>\n",
       "      <td>0.000000</td>\n",
       "      <td>0.0</td>\n",
       "    </tr>\n",
       "    <tr>\n",
       "      <th>8</th>\n",
       "      <td>0.037274</td>\n",
       "      <td>0.009289</td>\n",
       "      <td>0.004435</td>\n",
       "      <td>0.147059</td>\n",
       "      <td>0.0</td>\n",
       "    </tr>\n",
       "    <tr>\n",
       "      <th>9</th>\n",
       "      <td>0.019782</td>\n",
       "      <td>0.017218</td>\n",
       "      <td>0.026608</td>\n",
       "      <td>0.000000</td>\n",
       "      <td>0.0</td>\n",
       "    </tr>\n",
       "    <tr>\n",
       "      <th>11</th>\n",
       "      <td>0.027528</td>\n",
       "      <td>0.022655</td>\n",
       "      <td>0.033259</td>\n",
       "      <td>0.000000</td>\n",
       "      <td>0.0</td>\n",
       "    </tr>\n",
       "    <tr>\n",
       "      <th>...</th>\n",
       "      <td>...</td>\n",
       "      <td>...</td>\n",
       "      <td>...</td>\n",
       "      <td>...</td>\n",
       "      <td>...</td>\n",
       "    </tr>\n",
       "    <tr>\n",
       "      <th>3460</th>\n",
       "      <td>0.020322</td>\n",
       "      <td>0.017444</td>\n",
       "      <td>0.024390</td>\n",
       "      <td>0.000000</td>\n",
       "      <td>0.0</td>\n",
       "    </tr>\n",
       "    <tr>\n",
       "      <th>6003</th>\n",
       "      <td>0.054031</td>\n",
       "      <td>0.024014</td>\n",
       "      <td>0.004435</td>\n",
       "      <td>0.000000</td>\n",
       "      <td>0.0</td>\n",
       "    </tr>\n",
       "    <tr>\n",
       "      <th>2012</th>\n",
       "      <td>0.034873</td>\n",
       "      <td>0.013820</td>\n",
       "      <td>0.048780</td>\n",
       "      <td>0.029412</td>\n",
       "      <td>0.0</td>\n",
       "    </tr>\n",
       "    <tr>\n",
       "      <th>6066</th>\n",
       "      <td>0.004939</td>\n",
       "      <td>0.031831</td>\n",
       "      <td>0.055432</td>\n",
       "      <td>0.000000</td>\n",
       "      <td>0.0</td>\n",
       "    </tr>\n",
       "    <tr>\n",
       "      <th>2379</th>\n",
       "      <td>0.025927</td>\n",
       "      <td>0.012007</td>\n",
       "      <td>0.037694</td>\n",
       "      <td>0.000000</td>\n",
       "      <td>0.0</td>\n",
       "    </tr>\n",
       "  </tbody>\n",
       "</table>\n",
       "<p>8160 rows × 5 columns</p>\n",
       "</div>"
      ],
      "text/plain": [
       "      profanity_scores    length  num_of_upper_char  num_of_qmarks  \\\n",
       "2             0.061657  0.012800           0.035477       0.000000   \n",
       "7             0.008688  0.007363           0.031042       0.000000   \n",
       "8             0.037274  0.009289           0.004435       0.147059   \n",
       "9             0.019782  0.017218           0.026608       0.000000   \n",
       "11            0.027528  0.022655           0.033259       0.000000   \n",
       "...                ...       ...                ...            ...   \n",
       "3460          0.020322  0.017444           0.024390       0.000000   \n",
       "6003          0.054031  0.024014           0.004435       0.000000   \n",
       "2012          0.034873  0.013820           0.048780       0.029412   \n",
       "6066          0.004939  0.031831           0.055432       0.000000   \n",
       "2379          0.025927  0.012007           0.037694       0.000000   \n",
       "\n",
       "      num_of_exclmmarks  \n",
       "2                   0.0  \n",
       "7                   0.0  \n",
       "8                   0.0  \n",
       "9                   0.0  \n",
       "11                  0.0  \n",
       "...                 ...  \n",
       "3460                0.0  \n",
       "6003                0.0  \n",
       "2012                0.0  \n",
       "6066                0.0  \n",
       "2379                0.0  \n",
       "\n",
       "[8160 rows x 5 columns]"
      ]
     },
     "execution_count": 29,
     "metadata": {},
     "output_type": "execute_result"
    }
   ],
   "source": [
    "df_features = df_balanced[[\"profanity_scores\", \"length\",\"num_of_upper_char\", \"num_of_qmarks\", \"num_of_exclmmarks\"]]\n",
    "df_features"
   ]
  },
  {
   "cell_type": "markdown",
   "id": "4067f973",
   "metadata": {
    "papermill": {
     "duration": 0.438958,
     "end_time": "2022-01-16T19:27:06.572756",
     "exception": false,
     "start_time": "2022-01-16T19:27:06.133798",
     "status": "completed"
    },
    "tags": []
   },
   "source": [
    "# Model Construction"
   ]
  },
  {
   "cell_type": "code",
   "execution_count": 30,
   "id": "99a57ee7",
   "metadata": {
    "execution": {
     "iopub.execute_input": "2022-01-16T19:27:07.441326Z",
     "iopub.status.busy": "2022-01-16T19:27:07.440495Z",
     "iopub.status.idle": "2022-01-16T19:27:27.068319Z",
     "shell.execute_reply": "2022-01-16T19:27:27.067768Z",
     "shell.execute_reply.started": "2022-01-01T18:37:48.297871Z"
    },
    "papermill": {
     "duration": 20.066612,
     "end_time": "2022-01-16T19:27:27.068502",
     "exception": false,
     "start_time": "2022-01-16T19:27:07.001890",
     "status": "completed"
    },
    "tags": []
   },
   "outputs": [
    {
     "name": "stderr",
     "output_type": "stream",
     "text": [
      "2022-01-16 19:27:07.873372: I tensorflow/compiler/jit/xla_cpu_device.cc:41] Not creating XLA devices, tf_xla_enable_xla_devices not set\n",
      "2022-01-16 19:27:07.873719: I tensorflow/stream_executor/cuda/cuda_gpu_executor.cc:941] successful NUMA node read from SysFS had negative value (-1), but there must be at least one NUMA node, so returning NUMA node zero\n",
      "2022-01-16 19:27:07.874334: I tensorflow/core/common_runtime/gpu/gpu_device.cc:1720] Found device 0 with properties: \n",
      "pciBusID: 0000:00:04.0 name: Tesla P100-PCIE-16GB computeCapability: 6.0\n",
      "coreClock: 1.3285GHz coreCount: 56 deviceMemorySize: 15.90GiB deviceMemoryBandwidth: 681.88GiB/s\n",
      "2022-01-16 19:27:07.874418: I tensorflow/stream_executor/platform/default/dso_loader.cc:49] Successfully opened dynamic library libcudart.so.11.0\n",
      "2022-01-16 19:27:07.874513: I tensorflow/stream_executor/platform/default/dso_loader.cc:49] Successfully opened dynamic library libcublas.so.11\n",
      "2022-01-16 19:27:07.874555: I tensorflow/stream_executor/platform/default/dso_loader.cc:49] Successfully opened dynamic library libcublasLt.so.11\n",
      "2022-01-16 19:27:07.874579: I tensorflow/stream_executor/platform/default/dso_loader.cc:49] Successfully opened dynamic library libcufft.so.10\n",
      "2022-01-16 19:27:07.874602: I tensorflow/stream_executor/platform/default/dso_loader.cc:49] Successfully opened dynamic library libcurand.so.10\n",
      "2022-01-16 19:27:07.874625: I tensorflow/stream_executor/platform/default/dso_loader.cc:49] Successfully opened dynamic library libcusolver.so.10\n",
      "2022-01-16 19:27:07.874648: I tensorflow/stream_executor/platform/default/dso_loader.cc:49] Successfully opened dynamic library libcusparse.so.11\n",
      "2022-01-16 19:27:07.874679: I tensorflow/stream_executor/platform/default/dso_loader.cc:49] Successfully opened dynamic library libcudnn.so.8\n",
      "2022-01-16 19:27:07.874821: I tensorflow/stream_executor/cuda/cuda_gpu_executor.cc:941] successful NUMA node read from SysFS had negative value (-1), but there must be at least one NUMA node, so returning NUMA node zero\n",
      "2022-01-16 19:27:07.875604: I tensorflow/stream_executor/cuda/cuda_gpu_executor.cc:941] successful NUMA node read from SysFS had negative value (-1), but there must be at least one NUMA node, so returning NUMA node zero\n",
      "2022-01-16 19:27:07.876232: I tensorflow/core/common_runtime/gpu/gpu_device.cc:1862] Adding visible gpu devices: 0\n",
      "2022-01-16 19:27:07.876538: I tensorflow/compiler/jit/xla_gpu_device.cc:99] Not creating XLA devices, tf_xla_enable_xla_devices not set\n",
      "2022-01-16 19:27:07.876843: I tensorflow/stream_executor/cuda/cuda_gpu_executor.cc:941] successful NUMA node read from SysFS had negative value (-1), but there must be at least one NUMA node, so returning NUMA node zero\n",
      "2022-01-16 19:27:07.877527: I tensorflow/core/common_runtime/gpu/gpu_device.cc:1720] Found device 0 with properties: \n",
      "pciBusID: 0000:00:04.0 name: Tesla P100-PCIE-16GB computeCapability: 6.0\n",
      "coreClock: 1.3285GHz coreCount: 56 deviceMemorySize: 15.90GiB deviceMemoryBandwidth: 681.88GiB/s\n",
      "2022-01-16 19:27:07.877605: I tensorflow/stream_executor/platform/default/dso_loader.cc:49] Successfully opened dynamic library libcudart.so.11.0\n",
      "2022-01-16 19:27:07.877667: I tensorflow/stream_executor/platform/default/dso_loader.cc:49] Successfully opened dynamic library libcublas.so.11\n",
      "2022-01-16 19:27:07.877697: I tensorflow/stream_executor/platform/default/dso_loader.cc:49] Successfully opened dynamic library libcublasLt.so.11\n",
      "2022-01-16 19:27:07.877724: I tensorflow/stream_executor/platform/default/dso_loader.cc:49] Successfully opened dynamic library libcufft.so.10\n",
      "2022-01-16 19:27:07.877751: I tensorflow/stream_executor/platform/default/dso_loader.cc:49] Successfully opened dynamic library libcurand.so.10\n",
      "2022-01-16 19:27:07.877778: I tensorflow/stream_executor/platform/default/dso_loader.cc:49] Successfully opened dynamic library libcusolver.so.10\n",
      "2022-01-16 19:27:07.877805: I tensorflow/stream_executor/platform/default/dso_loader.cc:49] Successfully opened dynamic library libcusparse.so.11\n",
      "2022-01-16 19:27:07.877836: I tensorflow/stream_executor/platform/default/dso_loader.cc:49] Successfully opened dynamic library libcudnn.so.8\n",
      "2022-01-16 19:27:07.877963: I tensorflow/stream_executor/cuda/cuda_gpu_executor.cc:941] successful NUMA node read from SysFS had negative value (-1), but there must be at least one NUMA node, so returning NUMA node zero\n",
      "2022-01-16 19:27:07.878791: I tensorflow/stream_executor/cuda/cuda_gpu_executor.cc:941] successful NUMA node read from SysFS had negative value (-1), but there must be at least one NUMA node, so returning NUMA node zero\n",
      "2022-01-16 19:27:07.879406: I tensorflow/core/common_runtime/gpu/gpu_device.cc:1862] Adding visible gpu devices: 0\n",
      "2022-01-16 19:27:07.879460: I tensorflow/core/common_runtime/gpu/gpu_device.cc:1261] Device interconnect StreamExecutor with strength 1 edge matrix:\n",
      "2022-01-16 19:27:07.879469: I tensorflow/core/common_runtime/gpu/gpu_device.cc:1267]      0 \n",
      "2022-01-16 19:27:07.879477: I tensorflow/core/common_runtime/gpu/gpu_device.cc:1280] 0:   N \n",
      "2022-01-16 19:27:07.879625: I tensorflow/stream_executor/cuda/cuda_gpu_executor.cc:941] successful NUMA node read from SysFS had negative value (-1), but there must be at least one NUMA node, so returning NUMA node zero\n",
      "2022-01-16 19:27:07.880360: I tensorflow/stream_executor/cuda/cuda_gpu_executor.cc:941] successful NUMA node read from SysFS had negative value (-1), but there must be at least one NUMA node, so returning NUMA node zero\n",
      "2022-01-16 19:27:07.880941: I tensorflow/core/common_runtime/gpu/gpu_device.cc:1406] Created TensorFlow device (/job:localhost/replica:0/task:0/device:GPU:0 with 14957 MB memory) -> physical GPU (device: 0, name: Tesla P100-PCIE-16GB, pci bus id: 0000:00:04.0, compute capability: 6.0)\n",
      "2022-01-16 19:27:10.267060: I tensorflow/compiler/mlir/mlir_graph_optimization_pass.cc:116] None of the MLIR optimization passes are enabled (registered 2)\n",
      "2022-01-16 19:27:10.268208: I tensorflow/core/platform/profile_utils/cpu_utils.cc:112] CPU Frequency: 2000179999 Hz\n"
     ]
    }
   ],
   "source": [
    "bert_preprocess = hub.KerasLayer(\"https://tfhub.dev/tensorflow/bert_en_uncased_preprocess/3\")\n",
    "bert_encoder = hub.KerasLayer(\"https://tfhub.dev/tensorflow/bert_en_uncased_L-12_H-768_A-12/4\")"
   ]
  },
  {
   "cell_type": "code",
   "execution_count": 31,
   "id": "b4d5d715",
   "metadata": {
    "execution": {
     "iopub.execute_input": "2022-01-16T19:27:27.954047Z",
     "iopub.status.busy": "2022-01-16T19:27:27.953086Z",
     "iopub.status.idle": "2022-01-16T19:27:27.955083Z",
     "shell.execute_reply": "2022-01-16T19:27:27.955523Z",
     "shell.execute_reply.started": "2022-01-01T18:38:10.160567Z"
    },
    "papermill": {
     "duration": 0.437041,
     "end_time": "2022-01-16T19:27:27.955682",
     "exception": false,
     "start_time": "2022-01-16T19:27:27.518641",
     "status": "completed"
    },
    "tags": []
   },
   "outputs": [],
   "source": [
    "def get_sentence_embeding(sentences):\n",
    "    preprocessed_text = bert_preprocess(sentences)\n",
    "    return bert_encoder(preprocessed_text)['pooled_output']"
   ]
  },
  {
   "cell_type": "code",
   "execution_count": 32,
   "id": "3b4dbe02",
   "metadata": {
    "execution": {
     "iopub.execute_input": "2022-01-16T19:27:28.812802Z",
     "iopub.status.busy": "2022-01-16T19:27:28.811852Z",
     "iopub.status.idle": "2022-01-16T19:27:29.965955Z",
     "shell.execute_reply": "2022-01-16T19:27:29.965044Z",
     "shell.execute_reply.started": "2022-01-01T18:38:10.167154Z"
    },
    "papermill": {
     "duration": 1.596193,
     "end_time": "2022-01-16T19:27:29.966216",
     "exception": false,
     "start_time": "2022-01-16T19:27:28.370023",
     "status": "completed"
    },
    "tags": []
   },
   "outputs": [],
   "source": [
    "#Bert Layers\n",
    "text_input = tf.keras.layers.Input(shape=(), dtype=tf.string, name='text')\n",
    "feature_input = tf.keras.layers.Input((5,))\n",
    "preprocessed_text = bert_preprocess(text_input)\n",
    "outputs = bert_encoder(preprocessed_text)\n",
    "concat= tf.keras.layers.Concatenate()([outputs['pooled_output'], feature_input])\n",
    "\n",
    "#Neural Network Layers\n",
    "dropout1 = tf.keras.layers.Dropout(0.1, name='dropout1')(concat)\n",
    "fc1 = tf.keras.layers.Dense(512, activation='relu', name='fullyConnected1')(dropout1)\n",
    "dropout2 = tf.keras.layers.Dropout(0.1, name='dropout2')(fc1)\n",
    "fc2 = tf.keras.layers.Dense(256, activation='relu', name='fullyConnected2')(dropout2)\n",
    "dense = tf.keras.layers.Dense(1, activation='sigmoid', name='output')(fc2)\n",
    "\n",
    "#Final Model\n",
    "model = tf.keras.Model(inputs=[text_input, feature_input], outputs=[dense])"
   ]
  },
  {
   "cell_type": "code",
   "execution_count": 33,
   "id": "f4218d97",
   "metadata": {
    "execution": {
     "iopub.execute_input": "2022-01-16T19:27:30.834881Z",
     "iopub.status.busy": "2022-01-16T19:27:30.833644Z",
     "iopub.status.idle": "2022-01-16T19:27:30.869968Z",
     "shell.execute_reply": "2022-01-16T19:27:30.869053Z",
     "shell.execute_reply.started": "2022-01-01T18:38:10.860537Z"
    },
    "papermill": {
     "duration": 0.481206,
     "end_time": "2022-01-16T19:27:30.870111",
     "exception": false,
     "start_time": "2022-01-16T19:27:30.388905",
     "status": "completed"
    },
    "tags": []
   },
   "outputs": [
    {
     "name": "stdout",
     "output_type": "stream",
     "text": [
      "Model: \"model\"\n",
      "__________________________________________________________________________________________________\n",
      "Layer (type)                    Output Shape         Param #     Connected to                     \n",
      "==================================================================================================\n",
      "text (InputLayer)               [(None,)]            0                                            \n",
      "__________________________________________________________________________________________________\n",
      "keras_layer (KerasLayer)        {'input_type_ids': ( 0           text[0][0]                       \n",
      "__________________________________________________________________________________________________\n",
      "keras_layer_1 (KerasLayer)      {'pooled_output': (N 109482241   keras_layer[0][0]                \n",
      "                                                                 keras_layer[0][1]                \n",
      "                                                                 keras_layer[0][2]                \n",
      "__________________________________________________________________________________________________\n",
      "input_1 (InputLayer)            [(None, 5)]          0                                            \n",
      "__________________________________________________________________________________________________\n",
      "concatenate (Concatenate)       (None, 773)          0           keras_layer_1[0][13]             \n",
      "                                                                 input_1[0][0]                    \n",
      "__________________________________________________________________________________________________\n",
      "dropout1 (Dropout)              (None, 773)          0           concatenate[0][0]                \n",
      "__________________________________________________________________________________________________\n",
      "fullyConnected1 (Dense)         (None, 512)          396288      dropout1[0][0]                   \n",
      "__________________________________________________________________________________________________\n",
      "dropout2 (Dropout)              (None, 512)          0           fullyConnected1[0][0]            \n",
      "__________________________________________________________________________________________________\n",
      "fullyConnected2 (Dense)         (None, 256)          131328      dropout2[0][0]                   \n",
      "__________________________________________________________________________________________________\n",
      "output (Dense)                  (None, 1)            257         fullyConnected2[0][0]            \n",
      "==================================================================================================\n",
      "Total params: 110,010,114\n",
      "Trainable params: 527,873\n",
      "Non-trainable params: 109,482,241\n",
      "__________________________________________________________________________________________________\n"
     ]
    }
   ],
   "source": [
    "METRICS = [\n",
    "    tf.keras.metrics.BinaryAccuracy(name='accuracy'),\n",
    "    tf.keras.metrics.Precision(name='precision'),\n",
    "    tf.keras.metrics.Recall(name='recall')\n",
    "]\n",
    "model.compile(optimizer='adam',\n",
    "             loss='binary_crossentropy',\n",
    "             metrics=METRICS)\n",
    "model.summary()"
   ]
  },
  {
   "cell_type": "code",
   "execution_count": 34,
   "id": "69533a4b",
   "metadata": {
    "execution": {
     "iopub.execute_input": "2022-01-16T19:27:31.722116Z",
     "iopub.status.busy": "2022-01-16T19:27:31.721250Z",
     "iopub.status.idle": "2022-01-16T19:27:31.723200Z",
     "shell.execute_reply": "2022-01-16T19:27:31.723669Z",
     "shell.execute_reply.started": "2022-01-01T18:38:10.914486Z"
    },
    "papermill": {
     "duration": 0.433146,
     "end_time": "2022-01-16T19:27:31.723827",
     "exception": false,
     "start_time": "2022-01-16T19:27:31.290681",
     "status": "completed"
    },
    "tags": []
   },
   "outputs": [],
   "source": [
    "X_train = df_balanced[['tweet']] \n",
    "y_train = df_balanced[['fake']]"
   ]
  },
  {
   "cell_type": "code",
   "execution_count": 35,
   "id": "5854701e",
   "metadata": {
    "execution": {
     "iopub.execute_input": "2022-01-16T19:27:32.577201Z",
     "iopub.status.busy": "2022-01-16T19:27:32.575480Z",
     "iopub.status.idle": "2022-01-16T19:27:32.577898Z",
     "shell.execute_reply": "2022-01-16T19:27:32.578392Z",
     "shell.execute_reply.started": "2022-01-01T18:38:10.938738Z"
    },
    "papermill": {
     "duration": 0.430688,
     "end_time": "2022-01-16T19:27:32.578569",
     "exception": false,
     "start_time": "2022-01-16T19:27:32.147881",
     "status": "completed"
    },
    "tags": []
   },
   "outputs": [],
   "source": [
    "callbacks = [\n",
    "    tf.keras.callbacks.EarlyStopping(monitor='val_loss', patience=20, verbose=1, mode=\"min\"),\n",
    "    tf.keras.callbacks.ReduceLROnPlateau(monitor='val_loss',\n",
    "                              mode='min',\n",
    "                              verbose=1,\n",
    "                              patience=5,\n",
    "                              min_delta=0.0001,\n",
    "                              factor=0.2\n",
    "                             )\n",
    "]\n"
   ]
  },
  {
   "cell_type": "markdown",
   "id": "9ad48884",
   "metadata": {
    "papermill": {
     "duration": 0.431067,
     "end_time": "2022-01-16T19:27:33.457322",
     "exception": false,
     "start_time": "2022-01-16T19:27:33.026255",
     "status": "completed"
    },
    "tags": []
   },
   "source": [
    "# Training the Model"
   ]
  },
  {
   "cell_type": "code",
   "execution_count": 36,
   "id": "efd65490",
   "metadata": {
    "execution": {
     "iopub.execute_input": "2022-01-16T19:27:34.870843Z",
     "iopub.status.busy": "2022-01-16T19:27:34.869857Z",
     "iopub.status.idle": "2022-01-16T19:27:34.875929Z",
     "shell.execute_reply": "2022-01-16T19:27:34.876399Z",
     "shell.execute_reply.started": "2022-01-01T18:38:10.948384Z"
    },
    "papermill": {
     "duration": 0.729422,
     "end_time": "2022-01-16T19:27:34.876584",
     "exception": false,
     "start_time": "2022-01-16T19:27:34.147162",
     "status": "completed"
    },
    "tags": []
   },
   "outputs": [
    {
     "data": {
      "text/html": [
       "<div>\n",
       "<style scoped>\n",
       "    .dataframe tbody tr th:only-of-type {\n",
       "        vertical-align: middle;\n",
       "    }\n",
       "\n",
       "    .dataframe tbody tr th {\n",
       "        vertical-align: top;\n",
       "    }\n",
       "\n",
       "    .dataframe thead th {\n",
       "        text-align: right;\n",
       "    }\n",
       "</style>\n",
       "<table border=\"1\" class=\"dataframe\">\n",
       "  <thead>\n",
       "    <tr style=\"text-align: right;\">\n",
       "      <th></th>\n",
       "      <th>tweet</th>\n",
       "    </tr>\n",
       "  </thead>\n",
       "  <tbody>\n",
       "    <tr>\n",
       "      <th>2</th>\n",
       "      <td>politically correct woman almost uses pandemic...</td>\n",
       "    </tr>\n",
       "    <tr>\n",
       "      <th>7</th>\n",
       "      <td>obama calls trump coronavirus response chaotic...</td>\n",
       "    </tr>\n",
       "    <tr>\n",
       "      <th>8</th>\n",
       "      <td>clearly obama administration leave kind game p...</td>\n",
       "    </tr>\n",
       "    <tr>\n",
       "      <th>9</th>\n",
       "      <td>retraction hydroxychloroquine chloroquine with...</td>\n",
       "    </tr>\n",
       "    <tr>\n",
       "      <th>11</th>\n",
       "      <td>nba poised restart month march reported utah j...</td>\n",
       "    </tr>\n",
       "    <tr>\n",
       "      <th>...</th>\n",
       "      <td>...</td>\n",
       "    </tr>\n",
       "    <tr>\n",
       "      <th>3460</th>\n",
       "      <td>one case previously reported gombe state recor...</td>\n",
       "    </tr>\n",
       "    <tr>\n",
       "      <th>6003</th>\n",
       "      <td>week took data engine room made processes reli...</td>\n",
       "    </tr>\n",
       "    <tr>\n",
       "      <th>2012</th>\n",
       "      <td>questions find answers questions updated page</td>\n",
       "    </tr>\n",
       "    <tr>\n",
       "      <th>6066</th>\n",
       "      <td>second confirmed case nigeria detected due dil...</td>\n",
       "    </tr>\n",
       "    <tr>\n",
       "      <th>2379</th>\n",
       "      <td>icmr set start multi centric study evaluate ef...</td>\n",
       "    </tr>\n",
       "  </tbody>\n",
       "</table>\n",
       "<p>8160 rows × 1 columns</p>\n",
       "</div>"
      ],
      "text/plain": [
       "                                                  tweet\n",
       "2     politically correct woman almost uses pandemic...\n",
       "7     obama calls trump coronavirus response chaotic...\n",
       "8     clearly obama administration leave kind game p...\n",
       "9     retraction hydroxychloroquine chloroquine with...\n",
       "11    nba poised restart month march reported utah j...\n",
       "...                                                 ...\n",
       "3460  one case previously reported gombe state recor...\n",
       "6003  week took data engine room made processes reli...\n",
       "2012      questions find answers questions updated page\n",
       "6066  second confirmed case nigeria detected due dil...\n",
       "2379  icmr set start multi centric study evaluate ef...\n",
       "\n",
       "[8160 rows x 1 columns]"
      ]
     },
     "execution_count": 36,
     "metadata": {},
     "output_type": "execute_result"
    }
   ],
   "source": [
    "X_train"
   ]
  },
  {
   "cell_type": "code",
   "execution_count": 37,
   "id": "26c211ca",
   "metadata": {
    "execution": {
     "iopub.execute_input": "2022-01-16T19:27:35.824840Z",
     "iopub.status.busy": "2022-01-16T19:27:35.823747Z",
     "iopub.status.idle": "2022-01-16T19:27:35.841485Z",
     "shell.execute_reply": "2022-01-16T19:27:35.842271Z",
     "shell.execute_reply.started": "2022-01-01T18:38:10.965539Z"
    },
    "papermill": {
     "duration": 0.537325,
     "end_time": "2022-01-16T19:27:35.842528",
     "exception": false,
     "start_time": "2022-01-16T19:27:35.305203",
     "status": "completed"
    },
    "tags": []
   },
   "outputs": [
    {
     "data": {
      "text/html": [
       "<div>\n",
       "<style scoped>\n",
       "    .dataframe tbody tr th:only-of-type {\n",
       "        vertical-align: middle;\n",
       "    }\n",
       "\n",
       "    .dataframe tbody tr th {\n",
       "        vertical-align: top;\n",
       "    }\n",
       "\n",
       "    .dataframe thead th {\n",
       "        text-align: right;\n",
       "    }\n",
       "</style>\n",
       "<table border=\"1\" class=\"dataframe\">\n",
       "  <thead>\n",
       "    <tr style=\"text-align: right;\">\n",
       "      <th></th>\n",
       "      <th>profanity_scores</th>\n",
       "      <th>length</th>\n",
       "      <th>num_of_upper_char</th>\n",
       "      <th>num_of_qmarks</th>\n",
       "      <th>num_of_exclmmarks</th>\n",
       "    </tr>\n",
       "  </thead>\n",
       "  <tbody>\n",
       "    <tr>\n",
       "      <th>2</th>\n",
       "      <td>0.061657</td>\n",
       "      <td>0.012800</td>\n",
       "      <td>0.035477</td>\n",
       "      <td>0.000000</td>\n",
       "      <td>0.0</td>\n",
       "    </tr>\n",
       "    <tr>\n",
       "      <th>7</th>\n",
       "      <td>0.008688</td>\n",
       "      <td>0.007363</td>\n",
       "      <td>0.031042</td>\n",
       "      <td>0.000000</td>\n",
       "      <td>0.0</td>\n",
       "    </tr>\n",
       "    <tr>\n",
       "      <th>8</th>\n",
       "      <td>0.037274</td>\n",
       "      <td>0.009289</td>\n",
       "      <td>0.004435</td>\n",
       "      <td>0.147059</td>\n",
       "      <td>0.0</td>\n",
       "    </tr>\n",
       "    <tr>\n",
       "      <th>9</th>\n",
       "      <td>0.019782</td>\n",
       "      <td>0.017218</td>\n",
       "      <td>0.026608</td>\n",
       "      <td>0.000000</td>\n",
       "      <td>0.0</td>\n",
       "    </tr>\n",
       "    <tr>\n",
       "      <th>11</th>\n",
       "      <td>0.027528</td>\n",
       "      <td>0.022655</td>\n",
       "      <td>0.033259</td>\n",
       "      <td>0.000000</td>\n",
       "      <td>0.0</td>\n",
       "    </tr>\n",
       "    <tr>\n",
       "      <th>...</th>\n",
       "      <td>...</td>\n",
       "      <td>...</td>\n",
       "      <td>...</td>\n",
       "      <td>...</td>\n",
       "      <td>...</td>\n",
       "    </tr>\n",
       "    <tr>\n",
       "      <th>3460</th>\n",
       "      <td>0.020322</td>\n",
       "      <td>0.017444</td>\n",
       "      <td>0.024390</td>\n",
       "      <td>0.000000</td>\n",
       "      <td>0.0</td>\n",
       "    </tr>\n",
       "    <tr>\n",
       "      <th>6003</th>\n",
       "      <td>0.054031</td>\n",
       "      <td>0.024014</td>\n",
       "      <td>0.004435</td>\n",
       "      <td>0.000000</td>\n",
       "      <td>0.0</td>\n",
       "    </tr>\n",
       "    <tr>\n",
       "      <th>2012</th>\n",
       "      <td>0.034873</td>\n",
       "      <td>0.013820</td>\n",
       "      <td>0.048780</td>\n",
       "      <td>0.029412</td>\n",
       "      <td>0.0</td>\n",
       "    </tr>\n",
       "    <tr>\n",
       "      <th>6066</th>\n",
       "      <td>0.004939</td>\n",
       "      <td>0.031831</td>\n",
       "      <td>0.055432</td>\n",
       "      <td>0.000000</td>\n",
       "      <td>0.0</td>\n",
       "    </tr>\n",
       "    <tr>\n",
       "      <th>2379</th>\n",
       "      <td>0.025927</td>\n",
       "      <td>0.012007</td>\n",
       "      <td>0.037694</td>\n",
       "      <td>0.000000</td>\n",
       "      <td>0.0</td>\n",
       "    </tr>\n",
       "  </tbody>\n",
       "</table>\n",
       "<p>8160 rows × 5 columns</p>\n",
       "</div>"
      ],
      "text/plain": [
       "      profanity_scores    length  num_of_upper_char  num_of_qmarks  \\\n",
       "2             0.061657  0.012800           0.035477       0.000000   \n",
       "7             0.008688  0.007363           0.031042       0.000000   \n",
       "8             0.037274  0.009289           0.004435       0.147059   \n",
       "9             0.019782  0.017218           0.026608       0.000000   \n",
       "11            0.027528  0.022655           0.033259       0.000000   \n",
       "...                ...       ...                ...            ...   \n",
       "3460          0.020322  0.017444           0.024390       0.000000   \n",
       "6003          0.054031  0.024014           0.004435       0.000000   \n",
       "2012          0.034873  0.013820           0.048780       0.029412   \n",
       "6066          0.004939  0.031831           0.055432       0.000000   \n",
       "2379          0.025927  0.012007           0.037694       0.000000   \n",
       "\n",
       "      num_of_exclmmarks  \n",
       "2                   0.0  \n",
       "7                   0.0  \n",
       "8                   0.0  \n",
       "9                   0.0  \n",
       "11                  0.0  \n",
       "...                 ...  \n",
       "3460                0.0  \n",
       "6003                0.0  \n",
       "2012                0.0  \n",
       "6066                0.0  \n",
       "2379                0.0  \n",
       "\n",
       "[8160 rows x 5 columns]"
      ]
     },
     "execution_count": 37,
     "metadata": {},
     "output_type": "execute_result"
    }
   ],
   "source": [
    "df_features"
   ]
  },
  {
   "cell_type": "code",
   "execution_count": 38,
   "id": "7c070729",
   "metadata": {
    "execution": {
     "iopub.execute_input": "2022-01-16T19:27:36.933860Z",
     "iopub.status.busy": "2022-01-16T19:27:36.932909Z",
     "iopub.status.idle": "2022-01-16T19:53:10.828839Z",
     "shell.execute_reply": "2022-01-16T19:53:10.828204Z",
     "shell.execute_reply.started": "2022-01-01T18:44:22.261577Z"
    },
    "papermill": {
     "duration": 1534.335342,
     "end_time": "2022-01-16T19:53:10.828995",
     "exception": false,
     "start_time": "2022-01-16T19:27:36.493653",
     "status": "completed"
    },
    "tags": []
   },
   "outputs": [
    {
     "name": "stdout",
     "output_type": "stream",
     "text": [
      "Epoch 1/200\n"
     ]
    },
    {
     "name": "stderr",
     "output_type": "stream",
     "text": [
      "2022-01-16 19:27:45.712987: I tensorflow/stream_executor/platform/default/dso_loader.cc:49] Successfully opened dynamic library libcublas.so.11\n",
      "2022-01-16 19:27:46.490494: I tensorflow/stream_executor/platform/default/dso_loader.cc:49] Successfully opened dynamic library libcublasLt.so.11\n"
     ]
    },
    {
     "name": "stdout",
     "output_type": "stream",
     "text": [
      "192/192 [==============================] - 67s 299ms/step - loss: 0.6006 - accuracy: 0.6892 - precision: 0.7239 - recall: 0.8634 - val_loss: 0.6514 - val_accuracy: 0.6853 - val_precision: 0.0000e+00 - val_recall: 0.0000e+00\n",
      "Epoch 2/200\n",
      "192/192 [==============================] - 56s 290ms/step - loss: 0.3941 - accuracy: 0.8264 - precision: 0.8519 - recall: 0.8962 - val_loss: 0.4952 - val_accuracy: 0.7809 - val_precision: 0.0000e+00 - val_recall: 0.0000e+00\n",
      "Epoch 3/200\n",
      "192/192 [==============================] - 56s 292ms/step - loss: 0.3596 - accuracy: 0.8405 - precision: 0.8632 - recall: 0.9019 - val_loss: 0.8213 - val_accuracy: 0.5618 - val_precision: 0.0000e+00 - val_recall: 0.0000e+00\n",
      "Epoch 4/200\n",
      "192/192 [==============================] - 56s 291ms/step - loss: 0.3579 - accuracy: 0.8458 - precision: 0.8643 - recall: 0.9104 - val_loss: 0.3635 - val_accuracy: 0.8348 - val_precision: 0.0000e+00 - val_recall: 0.0000e+00\n",
      "Epoch 5/200\n",
      "192/192 [==============================] - 56s 293ms/step - loss: 0.3450 - accuracy: 0.8502 - precision: 0.8727 - recall: 0.9080 - val_loss: 0.4494 - val_accuracy: 0.7931 - val_precision: 0.0000e+00 - val_recall: 0.0000e+00\n",
      "Epoch 6/200\n",
      "192/192 [==============================] - 56s 293ms/step - loss: 0.3149 - accuracy: 0.8655 - precision: 0.8884 - recall: 0.9146 - val_loss: 0.9775 - val_accuracy: 0.5583 - val_precision: 0.0000e+00 - val_recall: 0.0000e+00\n",
      "Epoch 7/200\n",
      "192/192 [==============================] - 56s 293ms/step - loss: 0.3359 - accuracy: 0.8617 - precision: 0.8782 - recall: 0.9188 - val_loss: 0.2982 - val_accuracy: 0.8735 - val_precision: 0.0000e+00 - val_recall: 0.0000e+00\n",
      "Epoch 8/200\n",
      "192/192 [==============================] - 57s 297ms/step - loss: 0.3246 - accuracy: 0.8663 - precision: 0.8870 - recall: 0.9186 - val_loss: 0.4276 - val_accuracy: 0.8069 - val_precision: 0.0000e+00 - val_recall: 0.0000e+00\n",
      "Epoch 9/200\n",
      "192/192 [==============================] - 56s 294ms/step - loss: 0.3275 - accuracy: 0.8651 - precision: 0.8871 - recall: 0.9148 - val_loss: 0.7268 - val_accuracy: 0.6167 - val_precision: 0.0000e+00 - val_recall: 0.0000e+00\n",
      "Epoch 10/200\n",
      "192/192 [==============================] - 56s 292ms/step - loss: 0.3047 - accuracy: 0.8749 - precision: 0.8920 - recall: 0.9239 - val_loss: 0.8944 - val_accuracy: 0.5770 - val_precision: 0.0000e+00 - val_recall: 0.0000e+00\n",
      "Epoch 11/200\n",
      "192/192 [==============================] - 56s 294ms/step - loss: 0.3260 - accuracy: 0.8701 - precision: 0.8814 - recall: 0.9332 - val_loss: 0.4183 - val_accuracy: 0.8152 - val_precision: 0.0000e+00 - val_recall: 0.0000e+00\n",
      "Epoch 12/200\n",
      "192/192 [==============================] - 57s 296ms/step - loss: 0.3336 - accuracy: 0.8552 - precision: 0.8766 - recall: 0.9088 - val_loss: 0.8361 - val_accuracy: 0.6230 - val_precision: 0.0000e+00 - val_recall: 0.0000e+00\n",
      "\n",
      "Epoch 00012: ReduceLROnPlateau reducing learning rate to 0.00020000000949949026.\n",
      "Epoch 13/200\n",
      "192/192 [==============================] - 56s 290ms/step - loss: 0.2938 - accuracy: 0.8776 - precision: 0.8936 - recall: 0.9292 - val_loss: 0.4784 - val_accuracy: 0.7838 - val_precision: 0.0000e+00 - val_recall: 0.0000e+00\n",
      "Epoch 14/200\n",
      "192/192 [==============================] - 57s 297ms/step - loss: 0.2796 - accuracy: 0.8858 - precision: 0.9016 - recall: 0.9317 - val_loss: 0.5279 - val_accuracy: 0.7549 - val_precision: 0.0000e+00 - val_recall: 0.0000e+00\n",
      "Epoch 15/200\n",
      "192/192 [==============================] - 57s 296ms/step - loss: 0.2840 - accuracy: 0.8828 - precision: 0.8947 - recall: 0.9346 - val_loss: 0.3476 - val_accuracy: 0.8377 - val_precision: 0.0000e+00 - val_recall: 0.0000e+00\n",
      "Epoch 16/200\n",
      "192/192 [==============================] - 56s 294ms/step - loss: 0.2891 - accuracy: 0.8849 - precision: 0.9018 - recall: 0.9297 - val_loss: 0.5001 - val_accuracy: 0.7618 - val_precision: 0.0000e+00 - val_recall: 0.0000e+00\n",
      "Epoch 17/200\n",
      "192/192 [==============================] - 57s 299ms/step - loss: 0.2950 - accuracy: 0.8805 - precision: 0.8944 - recall: 0.9306 - val_loss: 0.3804 - val_accuracy: 0.8265 - val_precision: 0.0000e+00 - val_recall: 0.0000e+00\n",
      "\n",
      "Epoch 00017: ReduceLROnPlateau reducing learning rate to 4.0000001899898055e-05.\n",
      "Epoch 18/200\n",
      "192/192 [==============================] - 57s 296ms/step - loss: 0.2885 - accuracy: 0.8817 - precision: 0.9032 - recall: 0.9237 - val_loss: 0.4366 - val_accuracy: 0.8044 - val_precision: 0.0000e+00 - val_recall: 0.0000e+00\n",
      "Epoch 19/200\n",
      "192/192 [==============================] - 56s 290ms/step - loss: 0.2966 - accuracy: 0.8806 - precision: 0.8966 - recall: 0.9286 - val_loss: 0.5453 - val_accuracy: 0.7446 - val_precision: 0.0000e+00 - val_recall: 0.0000e+00\n",
      "Epoch 20/200\n",
      "192/192 [==============================] - 56s 294ms/step - loss: 0.2904 - accuracy: 0.8809 - precision: 0.8939 - recall: 0.9310 - val_loss: 0.4835 - val_accuracy: 0.7794 - val_precision: 0.0000e+00 - val_recall: 0.0000e+00\n",
      "Epoch 21/200\n",
      "192/192 [==============================] - 57s 297ms/step - loss: 0.2985 - accuracy: 0.8773 - precision: 0.8905 - recall: 0.9287 - val_loss: 0.5331 - val_accuracy: 0.7471 - val_precision: 0.0000e+00 - val_recall: 0.0000e+00\n",
      "Epoch 22/200\n",
      "192/192 [==============================] - 57s 295ms/step - loss: 0.2699 - accuracy: 0.8940 - precision: 0.9063 - recall: 0.9396 - val_loss: 0.5211 - val_accuracy: 0.7534 - val_precision: 0.0000e+00 - val_recall: 0.0000e+00\n",
      "\n",
      "Epoch 00022: ReduceLROnPlateau reducing learning rate to 8.000000525498762e-06.\n",
      "Epoch 23/200\n",
      "192/192 [==============================] - 57s 298ms/step - loss: 0.2902 - accuracy: 0.8851 - precision: 0.9002 - recall: 0.9320 - val_loss: 0.4651 - val_accuracy: 0.7892 - val_precision: 0.0000e+00 - val_recall: 0.0000e+00\n",
      "Epoch 24/200\n",
      "192/192 [==============================] - 56s 293ms/step - loss: 0.2853 - accuracy: 0.8771 - precision: 0.8945 - recall: 0.9248 - val_loss: 0.4876 - val_accuracy: 0.7745 - val_precision: 0.0000e+00 - val_recall: 0.0000e+00\n",
      "Epoch 25/200\n",
      "192/192 [==============================] - 57s 295ms/step - loss: 0.2911 - accuracy: 0.8831 - precision: 0.8946 - recall: 0.9319 - val_loss: 0.4959 - val_accuracy: 0.7691 - val_precision: 0.0000e+00 - val_recall: 0.0000e+00\n",
      "Epoch 26/200\n",
      "192/192 [==============================] - 56s 290ms/step - loss: 0.2744 - accuracy: 0.8913 - precision: 0.9066 - recall: 0.9353 - val_loss: 0.4699 - val_accuracy: 0.7873 - val_precision: 0.0000e+00 - val_recall: 0.0000e+00\n",
      "Epoch 27/200\n",
      "192/192 [==============================] - 57s 296ms/step - loss: 0.2916 - accuracy: 0.8786 - precision: 0.8949 - recall: 0.9276 - val_loss: 0.4633 - val_accuracy: 0.7917 - val_precision: 0.0000e+00 - val_recall: 0.0000e+00\n",
      "\n",
      "Epoch 00027: ReduceLROnPlateau reducing learning rate to 1.6000001778593287e-06.\n",
      "Epoch 00027: early stopping\n"
     ]
    }
   ],
   "source": [
    "h1 = model.fit(x=[X_train, df_features], y=y_train, validation_split=0.25, epochs= 200, callbacks = callbacks, verbose=1)"
   ]
  },
  {
   "cell_type": "code",
   "execution_count": 39,
   "id": "624aa8ef",
   "metadata": {
    "execution": {
     "iopub.execute_input": "2022-01-16T19:53:14.626763Z",
     "iopub.status.busy": "2022-01-16T19:53:14.625423Z",
     "iopub.status.idle": "2022-01-16T19:53:14.632413Z",
     "shell.execute_reply": "2022-01-16T19:53:14.631940Z",
     "shell.execute_reply.started": "2022-01-01T19:10:16.586398Z"
    },
    "papermill": {
     "duration": 1.946062,
     "end_time": "2022-01-16T19:53:14.632589",
     "exception": false,
     "start_time": "2022-01-16T19:53:12.686527",
     "status": "completed"
    },
    "tags": []
   },
   "outputs": [
    {
     "data": {
      "text/plain": [
       "dict_keys(['loss', 'accuracy', 'precision', 'recall', 'val_loss', 'val_accuracy', 'val_precision', 'val_recall', 'lr'])"
      ]
     },
     "execution_count": 39,
     "metadata": {},
     "output_type": "execute_result"
    }
   ],
   "source": [
    "h1.history.keys()"
   ]
  },
  {
   "cell_type": "code",
   "execution_count": 40,
   "id": "3175cd90",
   "metadata": {
    "execution": {
     "iopub.execute_input": "2022-01-16T19:53:18.618137Z",
     "iopub.status.busy": "2022-01-16T19:53:18.617367Z",
     "iopub.status.idle": "2022-01-16T19:53:18.620986Z",
     "shell.execute_reply": "2022-01-16T19:53:18.620436Z",
     "shell.execute_reply.started": "2022-01-01T19:10:16.593733Z"
    },
    "papermill": {
     "duration": 1.84913,
     "end_time": "2022-01-16T19:53:18.621121",
     "exception": false,
     "start_time": "2022-01-16T19:53:16.771991",
     "status": "completed"
    },
    "tags": []
   },
   "outputs": [],
   "source": [
    "def plot_metrics(h):\n",
    "    #Plotting metrics\n",
    "    plt.figure(figsize=(12,5))\n",
    "    plt.subplot(1,2,1)\n",
    "    plt.plot(h.history['loss']);\n",
    "    plt.plot(h.history['val_loss']);\n",
    "    plt.title(\"Loss vs Epochs\");\n",
    "    plt.ylabel(\"Loss\");\n",
    "    plt.xlabel(\"Epochs\");\n",
    "    plt.legend(['train', 'val']);\n",
    "\n",
    "    # summarize history for accuracy\n",
    "    plt.subplot(1,2,2)\n",
    "    plt.plot(h.history['accuracy'])\n",
    "    plt.plot(h.history['val_accuracy'])\n",
    "    plt.title('Accuracy vs Epochs')\n",
    "    plt.ylabel('Accuracy')\n",
    "    plt.xlabel('Epochs')\n",
    "    plt.legend(['train', 'validation'], loc='upper left')\n",
    "    plt.show()"
   ]
  },
  {
   "cell_type": "code",
   "execution_count": 41,
   "id": "c7306ff1",
   "metadata": {
    "execution": {
     "iopub.execute_input": "2022-01-16T19:53:22.401412Z",
     "iopub.status.busy": "2022-01-16T19:53:22.399850Z",
     "iopub.status.idle": "2022-01-16T19:53:22.402033Z",
     "shell.execute_reply": "2022-01-16T19:53:22.402477Z",
     "shell.execute_reply.started": "2022-01-01T19:10:16.605438Z"
    },
    "papermill": {
     "duration": 1.910905,
     "end_time": "2022-01-16T19:53:22.402623",
     "exception": false,
     "start_time": "2022-01-16T19:53:20.491718",
     "status": "completed"
    },
    "tags": []
   },
   "outputs": [],
   "source": [
    "# plot_metrics(h1)"
   ]
  },
  {
   "cell_type": "code",
   "execution_count": 42,
   "id": "be8bca35",
   "metadata": {
    "execution": {
     "iopub.execute_input": "2022-01-16T19:53:26.699886Z",
     "iopub.status.busy": "2022-01-16T19:53:26.698908Z",
     "iopub.status.idle": "2022-01-16T19:53:28.099269Z",
     "shell.execute_reply": "2022-01-16T19:53:28.098642Z",
     "shell.execute_reply.started": "2022-01-01T19:10:16.979102Z"
    },
    "papermill": {
     "duration": 3.789963,
     "end_time": "2022-01-16T19:53:28.099551",
     "exception": false,
     "start_time": "2022-01-16T19:53:24.309588",
     "status": "completed"
    },
    "tags": []
   },
   "outputs": [],
   "source": [
    "model.save('BERT_Simple_TextFt.h5')"
   ]
  },
  {
   "cell_type": "markdown",
   "id": "9ec501d9",
   "metadata": {
    "papermill": {
     "duration": 1.838503,
     "end_time": "2022-01-16T19:53:31.839515",
     "exception": false,
     "start_time": "2022-01-16T19:53:30.001012",
     "status": "completed"
    },
    "tags": []
   },
   "source": [
    "# Model Evaluation on Test Data"
   ]
  },
  {
   "cell_type": "code",
   "execution_count": 43,
   "id": "5e2bdd23",
   "metadata": {
    "execution": {
     "iopub.execute_input": "2022-01-16T19:53:35.599900Z",
     "iopub.status.busy": "2022-01-16T19:53:35.599221Z",
     "iopub.status.idle": "2022-01-16T19:53:35.885358Z",
     "shell.execute_reply": "2022-01-16T19:53:35.886184Z",
     "shell.execute_reply.started": "2022-01-01T19:15:25.792115Z"
    },
    "papermill": {
     "duration": 2.141798,
     "end_time": "2022-01-16T19:53:35.886353",
     "exception": false,
     "start_time": "2022-01-16T19:53:33.744555",
     "status": "completed"
    },
    "tags": []
   },
   "outputs": [
    {
     "data": {
      "text/plain": [
       "(2140, 1)"
      ]
     },
     "execution_count": 43,
     "metadata": {},
     "output_type": "execute_result"
    }
   ],
   "source": [
    "#Preprocessing\n",
    "df_test = pd.read_csv(\"../input/covid-misinfo/Constraint_English_Test.csv\")\n",
    "df_test['tweet'] = df_test['tweet'].apply(lambda text: cleaner(text))\n",
    "df_test['fake'] = df_test['label'].apply(lambda x: 1 if x == 'fake' else 0)\n",
    "X_test = df_test[['tweet']] \n",
    "y_test = df_test[['fake']]\n",
    "\n",
    "X_test.shape"
   ]
  },
  {
   "cell_type": "code",
   "execution_count": 44,
   "id": "70886d41",
   "metadata": {
    "execution": {
     "iopub.execute_input": "2022-01-16T19:53:39.870135Z",
     "iopub.status.busy": "2022-01-16T19:53:39.869250Z",
     "iopub.status.idle": "2022-01-16T19:53:44.242697Z",
     "shell.execute_reply": "2022-01-16T19:53:44.241744Z",
     "shell.execute_reply.started": "2022-01-01T19:15:26.835431Z"
    },
    "papermill": {
     "duration": 6.437676,
     "end_time": "2022-01-16T19:53:44.242842",
     "exception": false,
     "start_time": "2022-01-16T19:53:37.805166",
     "status": "completed"
    },
    "tags": []
   },
   "outputs": [
    {
     "name": "stderr",
     "output_type": "stream",
     "text": [
      "100%|██████████| 2140/2140 [00:04<00:00, 527.34it/s]\n"
     ]
    }
   ],
   "source": [
    "#Feature Extraction\n",
    "df_test['profanity_scores'] = get_profanity_scores(df_test['tweet'])\n",
    "df_test[['length','num_of_upper_char','num_of_qmarks','num_of_exclmmarks']] = df_test['tweet'].apply(lambda x: get_text_ft(x)).to_list()\n",
    "\n",
    "#Normalizing\n",
    "df_test['length'] = MinMaxScaler().fit_transform(np.array(df_test['length']).reshape(-1,1))\n",
    "df_test['num_of_upper_char'] = MinMaxScaler().fit_transform(np.array(df_test['num_of_upper_char']).reshape(-1,1))\n",
    "df_test['num_of_qmarks'] = MinMaxScaler().fit_transform(np.array(df_test['num_of_qmarks']).reshape(-1,1))\n",
    "df_test['num_of_exclmmarks'] = MinMaxScaler().fit_transform(np.array(df_test['num_of_exclmmarks']).reshape(-1,1))\n",
    "\n",
    "df_test_features = df_test[[\"profanity_scores\", \"length\",\"num_of_upper_char\", \"num_of_qmarks\", \"num_of_exclmmarks\"]]"
   ]
  },
  {
   "cell_type": "code",
   "execution_count": 45,
   "id": "152409ec",
   "metadata": {
    "execution": {
     "iopub.execute_input": "2022-01-16T19:53:48.050495Z",
     "iopub.status.busy": "2022-01-16T19:53:48.049645Z",
     "iopub.status.idle": "2022-01-16T19:54:02.988829Z",
     "shell.execute_reply": "2022-01-16T19:54:02.988274Z",
     "shell.execute_reply.started": "2022-01-01T19:15:31.1384Z"
    },
    "papermill": {
     "duration": 16.814489,
     "end_time": "2022-01-16T19:54:02.988975",
     "exception": false,
     "start_time": "2022-01-16T19:53:46.174486",
     "status": "completed"
    },
    "tags": []
   },
   "outputs": [
    {
     "name": "stdout",
     "output_type": "stream",
     "text": [
      "67/67 [==============================] - 15s 222ms/step - loss: 0.3487 - accuracy: 0.8523 - precision: 0.7963 - recall: 0.9275\n",
      "Test Loss:  0.3486746549606323\n",
      "Test Precision:  0.7962962985038757\n",
      "Test Recall:  0.927450954914093\n",
      "Test Accuracy:  0.8523364663124084\n"
     ]
    }
   ],
   "source": [
    "test_loss, test_accuracy, test_precision, test_recall = model.evaluate(x=[X_test,df_test_features], y=y_test)\n",
    "\n",
    "print(\"Test Loss: \", test_loss)\n",
    "print(\"Test Precision: \", test_precision)\n",
    "print(\"Test Recall: \", test_recall)\n",
    "print(\"Test Accuracy: \", test_accuracy)"
   ]
  }
 ],
 "metadata": {
  "kernelspec": {
   "display_name": "Python 3",
   "language": "python",
   "name": "python3"
  },
  "language_info": {
   "codemirror_mode": {
    "name": "ipython",
    "version": 3
   },
   "file_extension": ".py",
   "mimetype": "text/x-python",
   "name": "python",
   "nbconvert_exporter": "python",
   "pygments_lexer": "ipython3",
   "version": "3.7.12"
  },
  "papermill": {
   "default_parameters": {},
   "duration": 1876.220665,
   "end_time": "2022-01-16T19:54:07.831543",
   "environment_variables": {},
   "exception": null,
   "input_path": "__notebook__.ipynb",
   "output_path": "__notebook__.ipynb",
   "parameters": {},
   "start_time": "2022-01-16T19:22:51.610878",
   "version": "2.3.3"
  }
 },
 "nbformat": 4,
 "nbformat_minor": 5
}
